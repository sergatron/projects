{
 "cells": [
  {
   "cell_type": "code",
   "execution_count": 25,
   "metadata": {
    "scrolled": true
   },
   "outputs": [],
   "source": [
    "import os\n",
    "\n",
    "import pandas as pd\n",
    "import numpy as np\n",
    "import matplotlib.pyplot as plt\n",
    "from matplotlib import rcParams\n",
    "import seaborn as sns\n",
    "\n",
    "from datetime import datetime\n",
    "from dateutil import parser\n"
   ]
  },
  {
   "cell_type": "code",
   "execution_count": 26,
   "metadata": {
    "scrolled": true
   },
   "outputs": [],
   "source": [
    "# format float in pandas\n",
    "pd.options.display.float_format = '{:.4f}'.format\n",
    "pd.options.display.max_columns = 50\n",
    "pd.options.display.max_rows = 50"
   ]
  },
  {
   "cell_type": "code",
   "execution_count": 27,
   "metadata": {},
   "outputs": [],
   "source": [
    "plt.style.use('seaborn-white')\n",
    "rcParams['axes.labelsize'] = 'x-large'\n",
    "rcParams['axes.edgecolor'] = 'black'\n",
    "rcParams['axes.facecolor'] = 'white'\n",
    "rcParams['axes.titlesize'] = 'x-large'\n",
    "rcParams['axes.spines.top'] = False\n",
    "rcParams['axes.spines.right'] = False\n",
    "rcParams['axes.xmargin'] = 0.02\n",
    "rcParams['axes.ymargin'] = 0.02\n",
    "            \n",
    "rcParams['axes.grid'] = True\n",
    "rcParams['grid.linestyle'] = ':'\n",
    "rcParams['grid.alpha'] = 0.2\n",
    "rcParams['grid.color'] = 'black'\n",
    "          \n",
    "rcParams['figure.titlesize'] = 'x-large'\n",
    "rcParams['figure.edgecolor']= 'black'\n",
    "rcParams['figure.facecolor'] = 'white'\n",
    "rcParams['figure.figsize'] = [12, 8]\n",
    "\n",
    "rcParams['ytick.labelsize'] = 'large'\n",
    "rcParams['xtick.labelsize'] = 'large'"
   ]
  },
  {
   "cell_type": "code",
   "execution_count": 28,
   "metadata": {
    "scrolled": true
   },
   "outputs": [
    {
     "name": "stdout",
     "output_type": "stream",
     "text": [
      "C:\\Users\\smouz\\OneDrive\\Desktop\\DataSci\\Python\\SP-Capstone-PY\\Capstone\n"
     ]
    }
   ],
   "source": [
    "print(os.getcwd())"
   ]
  },
  {
   "cell_type": "code",
   "execution_count": 29,
   "metadata": {
    "scrolled": true
   },
   "outputs": [
    {
     "name": "stdout",
     "output_type": "stream",
     "text": [
      "Working directory: C:\\Users\\smouz\\OneDrive\\Desktop\\DataSci\\Python\\SP-Capstone-PY\\Capstone\n"
     ]
    }
   ],
   "source": [
    "if 'Capstone' not in os.getcwd():\n",
    "    os.chdir(str(os.environ['HOMEPATH']) + '\\OneDrive\\Desktop\\DataSci\\Python\\SP-Capstone-PY\\Capstone')\n",
    "print('Working directory:', os.getcwd())\n",
    "    "
   ]
  },
  {
   "cell_type": "code",
   "execution_count": 30,
   "metadata": {
    "scrolled": true
   },
   "outputs": [],
   "source": [
    "#, index_col='date_installed', parse_dates=True\n",
    "# infer_datetime_format=True\n",
    "pv_df_orig = pd.read_csv('openpv_all.csv',\n",
    "                         low_memory=False,\n",
    "                         infer_datetime_format=True,\n",
    "                         )"
   ]
  },
  {
   "cell_type": "code",
   "execution_count": 31,
   "metadata": {
    "scrolled": true
   },
   "outputs": [],
   "source": [
    "def drop_n_reset(df):\n",
    "  '''\n",
    "  axis = {0: rows, 1: columns}\n",
    "  Drop row if all values are missing in that column,\n",
    "  Drop row if all values are missing in that row, drop duplicates\n",
    "  Reset index, drop original index\n",
    "  '''\n",
    "  df = df.dropna(axis=1, how='all') \n",
    "  df = df.dropna(axis=0, how='all').drop_duplicates()\n",
    "  return df.reset_index(drop=True)\n",
    "  \n",
    "def percent_missing(df, threshold=50, drop=False):\n",
    "    \"\"\"\n",
    "    Calculate percent missing values in each column.\n",
    "    Returns a series showing the proportion of missing vals in each column\n",
    "    Drop columns which contain more than <threshold> missing values.\n",
    "    \"\"\"\n",
    "    ms = (np.sum(df.isnull()) / len(df)) * 100\n",
    "    if drop:\n",
    "        return df.drop(labels=ms[ms >= threshold].index, axis=1)     \n",
    "    else:\n",
    "        return ms.sort_values()\n",
    "\n",
    "\n",
    "# convert columns names to lower case\n",
    "def map_lowercase(str_object):\n",
    "    \"\"\"\n",
    "    str_object: can be of data type dataframe, string, series\n",
    "    \n",
    "    Converts input parameter to lowercase.\n",
    "    \"\"\"\n",
    "    if isinstance(str_object, pd.Series):\n",
    "        for item in str_object.columns.values:\n",
    "            if str_object[item].dtype == np.object:\n",
    "                str_object[item] = str_object[item].str.lower()\n",
    "                print(item, '-converted to lower case')\n",
    "    if isinstance(str_object, pd.DataFrame):\n",
    "        return list(map(str.lower, str_object.columns.values))\n",
    "    if isinstance(str_object, str):\n",
    "        return str_object.lower()\n",
    "    else:\n",
    "        return list(map(str.lower, str_object))\n",
    "\n",
    "#pv_df = pv_df.astype(str).apply(lambda x: x.str.lower())\n",
    "#print(pv_df)  \n",
    "        \n",
    "def date_to_str(series_str):\n",
    "    \"\"\"\n",
    "    Converts date input to string with format '%Y/%m/%d'\n",
    "    \"\"\"\n",
    "#    convert_date = datetime.date(parser.parse(series_str))\n",
    "#    date_time = '%Y/%m/%d'\n",
    "#    date_str = str(pd.to_datetime(convert_date, format=date_time).date())\n",
    "#    current_date = str(datetime_now)\n",
    "    return str(parser.parse(series_str).date())\n",
    "\n",
    "\n",
    "def missing_val_count(df, col_name, show_missing=False):\n",
    "    '''\n",
    "    Count missing values and show its index.\n",
    "    Returns DF if show_missing=True\n",
    "    '''\n",
    "    if show_missing == True:\n",
    "        return df[df.loc[:, col_name].isnull()]\n",
    "    else:\n",
    "        return col_name, np.count_nonzero(df.loc[:, col_name].isnull().values)"
   ]
  },
  {
   "cell_type": "code",
   "execution_count": 32,
   "metadata": {
    "scrolled": true
   },
   "outputs": [
    {
     "data": {
      "text/html": [
       "<div>\n",
       "<style scoped>\n",
       "    .dataframe tbody tr th:only-of-type {\n",
       "        vertical-align: middle;\n",
       "    }\n",
       "\n",
       "    .dataframe tbody tr th {\n",
       "        vertical-align: top;\n",
       "    }\n",
       "\n",
       "    .dataframe thead th {\n",
       "        text-align: right;\n",
       "    }\n",
       "</style>\n",
       "<table border=\"1\" class=\"dataframe\">\n",
       "  <thead>\n",
       "    <tr style=\"text-align: right;\">\n",
       "      <th></th>\n",
       "      <th>state</th>\n",
       "      <th>date_installed</th>\n",
       "      <th>incentive_prog_names</th>\n",
       "      <th>type</th>\n",
       "      <th>size_kw</th>\n",
       "      <th>appraised</th>\n",
       "      <th>zipcode</th>\n",
       "      <th>install_type</th>\n",
       "      <th>installer</th>\n",
       "      <th>cost_per_watt</th>\n",
       "      <th>cost</th>\n",
       "      <th>lbnl_tts_version_year</th>\n",
       "      <th>lbnl_tts</th>\n",
       "      <th>city</th>\n",
       "      <th>utility_clean</th>\n",
       "      <th>tech_1</th>\n",
       "      <th>model1_clean</th>\n",
       "      <th>county</th>\n",
       "      <th>annual_PV_prod</th>\n",
       "      <th>annual_insolation</th>\n",
       "      <th>rebate</th>\n",
       "      <th>sales_tax_cost</th>\n",
       "      <th>tilt1</th>\n",
       "      <th>tracking_type</th>\n",
       "      <th>azimuth1</th>\n",
       "      <th>...</th>\n",
       "      <th>rebate_real</th>\n",
       "      <th>model1</th>\n",
       "      <th>_3rdparty</th>\n",
       "      <th>inv_model_reported</th>\n",
       "      <th>microinv_solarhub</th>\n",
       "      <th>bipv_3</th>\n",
       "      <th>bipv_2</th>\n",
       "      <th>bipv_1</th>\n",
       "      <th>sales_tax_rate</th>\n",
       "      <th>sales_tax_cost_real</th>\n",
       "      <th>bipv_all</th>\n",
       "      <th>thinfilm_all</th>\n",
       "      <th>china</th>\n",
       "      <th>sys_sizeac</th>\n",
       "      <th>pbi_rate</th>\n",
       "      <th>new_constr</th>\n",
       "      <th>effic_1</th>\n",
       "      <th>cust_county</th>\n",
       "      <th>tracking</th>\n",
       "      <th>inv_model_clean</th>\n",
       "      <th>mod_cost_real</th>\n",
       "      <th>inv_cost_real</th>\n",
       "      <th>bos_powerclerk_real</th>\n",
       "      <th>permitting_real</th>\n",
       "      <th>3rdparty</th>\n",
       "    </tr>\n",
       "  </thead>\n",
       "  <tbody>\n",
       "    <tr>\n",
       "      <th>0</th>\n",
       "      <td>TX</td>\n",
       "      <td>12/12/2013</td>\n",
       "      <td>Austin Energy</td>\n",
       "      <td>uir</td>\n",
       "      <td>10.5600</td>\n",
       "      <td>NaN</td>\n",
       "      <td>78702.0000</td>\n",
       "      <td>residential</td>\n",
       "      <td>NaN</td>\n",
       "      <td>2.8978</td>\n",
       "      <td>30600.5300</td>\n",
       "      <td>2016.0000</td>\n",
       "      <td>True</td>\n",
       "      <td>AUSTIN</td>\n",
       "      <td>Austin Energy</td>\n",
       "      <td>Poly</td>\n",
       "      <td>CHSM6610P-240</td>\n",
       "      <td>Travis</td>\n",
       "      <td>14999.8316</td>\n",
       "      <td>5.1577</td>\n",
       "      <td>15000.0</td>\n",
       "      <td>1151.6937</td>\n",
       "      <td>10.0000</td>\n",
       "      <td>Fixed</td>\n",
       "      <td>180.0000</td>\n",
       "      <td>...</td>\n",
       "      <td>nan</td>\n",
       "      <td>nan</td>\n",
       "      <td>nan</td>\n",
       "      <td>nan</td>\n",
       "      <td>nan</td>\n",
       "      <td>nan</td>\n",
       "      <td>nan</td>\n",
       "      <td>nan</td>\n",
       "      <td>nan</td>\n",
       "      <td>nan</td>\n",
       "      <td>nan</td>\n",
       "      <td>nan</td>\n",
       "      <td>nan</td>\n",
       "      <td>nan</td>\n",
       "      <td>nan</td>\n",
       "      <td>nan</td>\n",
       "      <td>nan</td>\n",
       "      <td>nan</td>\n",
       "      <td>nan</td>\n",
       "      <td>nan</td>\n",
       "      <td>nan</td>\n",
       "      <td>nan</td>\n",
       "      <td>nan</td>\n",
       "      <td>nan</td>\n",
       "      <td>nan</td>\n",
       "    </tr>\n",
       "    <tr>\n",
       "      <th>1</th>\n",
       "      <td>TX</td>\n",
       "      <td>07/11/2014</td>\n",
       "      <td>Austin Energy</td>\n",
       "      <td>uir</td>\n",
       "      <td>12.7200</td>\n",
       "      <td>NaN</td>\n",
       "      <td>78702.0000</td>\n",
       "      <td>residential</td>\n",
       "      <td>NaN</td>\n",
       "      <td>3.1447</td>\n",
       "      <td>40000.0000</td>\n",
       "      <td>2016.0000</td>\n",
       "      <td>True</td>\n",
       "      <td>AUSTIN</td>\n",
       "      <td>Austin Energy</td>\n",
       "      <td>Mono</td>\n",
       "      <td>SLA265M3A</td>\n",
       "      <td>Travis</td>\n",
       "      <td>17811.5744</td>\n",
       "      <td>5.0856</td>\n",
       "      <td>15000.0</td>\n",
       "      <td>1507.1660</td>\n",
       "      <td>7.0000</td>\n",
       "      <td>Fixed</td>\n",
       "      <td>180.0000</td>\n",
       "      <td>...</td>\n",
       "      <td>nan</td>\n",
       "      <td>nan</td>\n",
       "      <td>nan</td>\n",
       "      <td>nan</td>\n",
       "      <td>nan</td>\n",
       "      <td>nan</td>\n",
       "      <td>nan</td>\n",
       "      <td>nan</td>\n",
       "      <td>nan</td>\n",
       "      <td>nan</td>\n",
       "      <td>nan</td>\n",
       "      <td>nan</td>\n",
       "      <td>nan</td>\n",
       "      <td>nan</td>\n",
       "      <td>nan</td>\n",
       "      <td>nan</td>\n",
       "      <td>nan</td>\n",
       "      <td>nan</td>\n",
       "      <td>nan</td>\n",
       "      <td>nan</td>\n",
       "      <td>nan</td>\n",
       "      <td>nan</td>\n",
       "      <td>nan</td>\n",
       "      <td>nan</td>\n",
       "      <td>nan</td>\n",
       "    </tr>\n",
       "    <tr>\n",
       "      <th>2</th>\n",
       "      <td>TX</td>\n",
       "      <td>01/17/2014</td>\n",
       "      <td>Austin Energy</td>\n",
       "      <td>uir</td>\n",
       "      <td>5.4000</td>\n",
       "      <td>NaN</td>\n",
       "      <td>78702.0000</td>\n",
       "      <td>residential</td>\n",
       "      <td>NaN</td>\n",
       "      <td>4.1973</td>\n",
       "      <td>22665.5800</td>\n",
       "      <td>2016.0000</td>\n",
       "      <td>True</td>\n",
       "      <td>AUSTIN</td>\n",
       "      <td>Austin Energy</td>\n",
       "      <td>Mono</td>\n",
       "      <td>PLM-300M-72</td>\n",
       "      <td>Travis</td>\n",
       "      <td>7833.7428</td>\n",
       "      <td>5.2627</td>\n",
       "      <td>7735.5</td>\n",
       "      <td>854.0198</td>\n",
       "      <td>18.5000</td>\n",
       "      <td>Fixed</td>\n",
       "      <td>165.0000</td>\n",
       "      <td>...</td>\n",
       "      <td>nan</td>\n",
       "      <td>nan</td>\n",
       "      <td>nan</td>\n",
       "      <td>nan</td>\n",
       "      <td>nan</td>\n",
       "      <td>nan</td>\n",
       "      <td>nan</td>\n",
       "      <td>nan</td>\n",
       "      <td>nan</td>\n",
       "      <td>nan</td>\n",
       "      <td>nan</td>\n",
       "      <td>nan</td>\n",
       "      <td>nan</td>\n",
       "      <td>nan</td>\n",
       "      <td>nan</td>\n",
       "      <td>nan</td>\n",
       "      <td>nan</td>\n",
       "      <td>nan</td>\n",
       "      <td>nan</td>\n",
       "      <td>nan</td>\n",
       "      <td>nan</td>\n",
       "      <td>nan</td>\n",
       "      <td>nan</td>\n",
       "      <td>nan</td>\n",
       "      <td>nan</td>\n",
       "    </tr>\n",
       "    <tr>\n",
       "      <th>3</th>\n",
       "      <td>TX</td>\n",
       "      <td>09/27/2012</td>\n",
       "      <td>Austin Energy</td>\n",
       "      <td>uir</td>\n",
       "      <td>7.5000</td>\n",
       "      <td>NaN</td>\n",
       "      <td>78702.0000</td>\n",
       "      <td>residential</td>\n",
       "      <td>NaN</td>\n",
       "      <td>3.7500</td>\n",
       "      <td>28125.0000</td>\n",
       "      <td>2016.0000</td>\n",
       "      <td>True</td>\n",
       "      <td>AUSTIN</td>\n",
       "      <td>Austin Energy</td>\n",
       "      <td>Poly</td>\n",
       "      <td>multiple matches</td>\n",
       "      <td>Travis</td>\n",
       "      <td>10151.7096</td>\n",
       "      <td>4.9210</td>\n",
       "      <td>14550.0</td>\n",
       "      <td>1058.5237</td>\n",
       "      <td>5.0000</td>\n",
       "      <td>Fixed</td>\n",
       "      <td>260.0000</td>\n",
       "      <td>...</td>\n",
       "      <td>nan</td>\n",
       "      <td>nan</td>\n",
       "      <td>nan</td>\n",
       "      <td>nan</td>\n",
       "      <td>nan</td>\n",
       "      <td>nan</td>\n",
       "      <td>nan</td>\n",
       "      <td>nan</td>\n",
       "      <td>nan</td>\n",
       "      <td>nan</td>\n",
       "      <td>nan</td>\n",
       "      <td>nan</td>\n",
       "      <td>nan</td>\n",
       "      <td>nan</td>\n",
       "      <td>nan</td>\n",
       "      <td>nan</td>\n",
       "      <td>nan</td>\n",
       "      <td>nan</td>\n",
       "      <td>nan</td>\n",
       "      <td>nan</td>\n",
       "      <td>nan</td>\n",
       "      <td>nan</td>\n",
       "      <td>nan</td>\n",
       "      <td>nan</td>\n",
       "      <td>nan</td>\n",
       "    </tr>\n",
       "    <tr>\n",
       "      <th>4</th>\n",
       "      <td>TX</td>\n",
       "      <td>09/26/2012</td>\n",
       "      <td>Austin Energy</td>\n",
       "      <td>uir</td>\n",
       "      <td>5.0000</td>\n",
       "      <td>NaN</td>\n",
       "      <td>78702.0000</td>\n",
       "      <td>residential</td>\n",
       "      <td>NaN</td>\n",
       "      <td>3.8500</td>\n",
       "      <td>19250.0000</td>\n",
       "      <td>2016.0000</td>\n",
       "      <td>True</td>\n",
       "      <td>AUSTIN</td>\n",
       "      <td>Austin Energy</td>\n",
       "      <td>Poly</td>\n",
       "      <td>multiple matches</td>\n",
       "      <td>Travis</td>\n",
       "      <td>7307.1338</td>\n",
       "      <td>5.3048</td>\n",
       "      <td>9600.0</td>\n",
       "      <td>724.5006</td>\n",
       "      <td>33.0000</td>\n",
       "      <td>Fixed</td>\n",
       "      <td>205.0000</td>\n",
       "      <td>...</td>\n",
       "      <td>nan</td>\n",
       "      <td>nan</td>\n",
       "      <td>nan</td>\n",
       "      <td>nan</td>\n",
       "      <td>nan</td>\n",
       "      <td>nan</td>\n",
       "      <td>nan</td>\n",
       "      <td>nan</td>\n",
       "      <td>nan</td>\n",
       "      <td>nan</td>\n",
       "      <td>nan</td>\n",
       "      <td>nan</td>\n",
       "      <td>nan</td>\n",
       "      <td>nan</td>\n",
       "      <td>nan</td>\n",
       "      <td>nan</td>\n",
       "      <td>nan</td>\n",
       "      <td>nan</td>\n",
       "      <td>nan</td>\n",
       "      <td>nan</td>\n",
       "      <td>nan</td>\n",
       "      <td>nan</td>\n",
       "      <td>nan</td>\n",
       "      <td>nan</td>\n",
       "      <td>nan</td>\n",
       "    </tr>\n",
       "  </tbody>\n",
       "</table>\n",
       "<p>5 rows × 81 columns</p>\n",
       "</div>"
      ],
      "text/plain": [
       "  state date_installed incentive_prog_names type  size_kw appraised  \\\n",
       "0    TX     12/12/2013        Austin Energy  uir  10.5600       NaN   \n",
       "1    TX     07/11/2014        Austin Energy  uir  12.7200       NaN   \n",
       "2    TX     01/17/2014        Austin Energy  uir   5.4000       NaN   \n",
       "3    TX     09/27/2012        Austin Energy  uir   7.5000       NaN   \n",
       "4    TX     09/26/2012        Austin Energy  uir   5.0000       NaN   \n",
       "\n",
       "     zipcode install_type installer  cost_per_watt       cost  \\\n",
       "0 78702.0000  residential       NaN         2.8978 30600.5300   \n",
       "1 78702.0000  residential       NaN         3.1447 40000.0000   \n",
       "2 78702.0000  residential       NaN         4.1973 22665.5800   \n",
       "3 78702.0000  residential       NaN         3.7500 28125.0000   \n",
       "4 78702.0000  residential       NaN         3.8500 19250.0000   \n",
       "\n",
       "   lbnl_tts_version_year lbnl_tts    city  utility_clean tech_1  \\\n",
       "0              2016.0000     True  AUSTIN  Austin Energy   Poly   \n",
       "1              2016.0000     True  AUSTIN  Austin Energy   Mono   \n",
       "2              2016.0000     True  AUSTIN  Austin Energy   Mono   \n",
       "3              2016.0000     True  AUSTIN  Austin Energy   Poly   \n",
       "4              2016.0000     True  AUSTIN  Austin Energy   Poly   \n",
       "\n",
       "       model1_clean  county  annual_PV_prod  annual_insolation   rebate  \\\n",
       "0     CHSM6610P-240  Travis      14999.8316             5.1577  15000.0   \n",
       "1         SLA265M3A  Travis      17811.5744             5.0856  15000.0   \n",
       "2       PLM-300M-72  Travis       7833.7428             5.2627   7735.5   \n",
       "3  multiple matches  Travis      10151.7096             4.9210  14550.0   \n",
       "4  multiple matches  Travis       7307.1338             5.3048   9600.0   \n",
       "\n",
       "   sales_tax_cost   tilt1 tracking_type  azimuth1  ... rebate_real model1  \\\n",
       "0       1151.6937 10.0000         Fixed  180.0000  ...         nan    nan   \n",
       "1       1507.1660  7.0000         Fixed  180.0000  ...         nan    nan   \n",
       "2        854.0198 18.5000         Fixed  165.0000  ...         nan    nan   \n",
       "3       1058.5237  5.0000         Fixed  260.0000  ...         nan    nan   \n",
       "4        724.5006 33.0000         Fixed  205.0000  ...         nan    nan   \n",
       "\n",
       "  _3rdparty inv_model_reported  microinv_solarhub  bipv_3  bipv_2 bipv_1  \\\n",
       "0       nan                nan                nan     nan     nan    nan   \n",
       "1       nan                nan                nan     nan     nan    nan   \n",
       "2       nan                nan                nan     nan     nan    nan   \n",
       "3       nan                nan                nan     nan     nan    nan   \n",
       "4       nan                nan                nan     nan     nan    nan   \n",
       "\n",
       "   sales_tax_rate  sales_tax_cost_real  bipv_all  thinfilm_all  china  \\\n",
       "0             nan                  nan       nan           nan    nan   \n",
       "1             nan                  nan       nan           nan    nan   \n",
       "2             nan                  nan       nan           nan    nan   \n",
       "3             nan                  nan       nan           nan    nan   \n",
       "4             nan                  nan       nan           nan    nan   \n",
       "\n",
       "   sys_sizeac  pbi_rate  new_constr  effic_1  cust_county  tracking  \\\n",
       "0         nan       nan         nan      nan          nan       nan   \n",
       "1         nan       nan         nan      nan          nan       nan   \n",
       "2         nan       nan         nan      nan          nan       nan   \n",
       "3         nan       nan         nan      nan          nan       nan   \n",
       "4         nan       nan         nan      nan          nan       nan   \n",
       "\n",
       "   inv_model_clean  mod_cost_real  inv_cost_real  bos_powerclerk_real  \\\n",
       "0              nan            nan            nan                  nan   \n",
       "1              nan            nan            nan                  nan   \n",
       "2              nan            nan            nan                  nan   \n",
       "3              nan            nan            nan                  nan   \n",
       "4              nan            nan            nan                  nan   \n",
       "\n",
       "   permitting_real  3rdparty  \n",
       "0              nan       nan  \n",
       "1              nan       nan  \n",
       "2              nan       nan  \n",
       "3              nan       nan  \n",
       "4              nan       nan  \n",
       "\n",
       "[5 rows x 81 columns]"
      ]
     },
     "execution_count": 32,
     "metadata": {},
     "output_type": "execute_result"
    }
   ],
   "source": [
    "# ORIGINAL DF\n",
    "'''\n",
    "NOTE:\n",
    "pd.isnull(pv_df.size_kw).value_counts()     # count null values\n",
    "pd.notnull(pv_df.size_kw).all()             # returns TRUE when ALL values are not null in column\n",
    "pd.notnull(pv_df.size_kw).any()             # returns TRUE when ANY values are not null in column\n",
    "pd.isnull(pv_df_orig.inv_model_clean).all() # True if ALL values in column are NULL\n",
    "pd.notnull(pv_df.size_kw).value_counts()    # number of missing values\n",
    "'''\n",
    "\n",
    "pv_df_orig.head()\n",
    "# pv_df_orig.info()"
   ]
  },
  {
   "cell_type": "code",
   "execution_count": 33,
   "metadata": {
    "scrolled": true
   },
   "outputs": [
    {
     "name": "stdout",
     "output_type": "stream",
     "text": [
      "state                    0.0000\n",
      "date_installed           0.0005\n",
      "type                     0.0005\n",
      "size_kw                  0.0005\n",
      "zipcode                  0.0005\n",
      "                         ...   \n",
      "install_price_real_w   100.0000\n",
      "installer_clean        100.0000\n",
      "manuf1_                100.0000\n",
      "rebate_real            100.0000\n",
      "zip_available          100.0000\n",
      "Length: 81, dtype: float64\n"
     ]
    }
   ],
   "source": [
    "# MISSING VALUES\n",
    "# =============================================================================\n",
    "\n",
    "# show cols which contain missing vals\n",
    "print(percent_missing(pv_df_orig))"
   ]
  },
  {
   "cell_type": "code",
   "execution_count": 34,
   "metadata": {
    "scrolled": true
   },
   "outputs": [],
   "source": [
    "# drop cols with over 80% missing vals\n",
    "pv_df = percent_missing(pv_df_orig, threshold=80, drop=True)\n",
    "# drop missing values in rows, columns, and duplicate rows\n",
    "pv_df = drop_n_reset(pv_df)"
   ]
  },
  {
   "cell_type": "code",
   "execution_count": 35,
   "metadata": {
    "scrolled": true
   },
   "outputs": [
    {
     "name": "stdout",
     "output_type": "stream",
     "text": [
      "state                          0.0000\n",
      "date_installed                 0.0003\n",
      "type                           0.0003\n",
      "size_kw                        0.0003\n",
      "zipcode                        0.0003\n",
      "county                         1.7929\n",
      "install_type                   4.0546\n",
      "city                          21.2312\n",
      "incentive_prog_names          21.3405\n",
      "lbnl_tts                      21.3405\n",
      "lbnl_tts_version_year         21.3405\n",
      "utility_clean                 21.8556\n",
      "annual_PV_prod                23.0182\n",
      "annual_insolation             23.0182\n",
      "cost                          25.0100\n",
      "cost_per_watt                 25.0225\n",
      "installer                     30.6081\n",
      "tech_1                        42.4706\n",
      "model1_clean                  42.4706\n",
      "tracking_type                 47.5145\n",
      "tilt1                         61.5391\n",
      "rebate                        61.9820\n",
      "azimuth1                      63.5880\n",
      "sales_tax_cost                64.9275\n",
      "3rdparty                      69.2053\n",
      "manuf2_clean                  77.2419\n",
      "appraised                     77.6588\n",
      "manuf3_clean                  79.4556\n",
      "reported_annual_energy_prod   79.7008\n",
      "dtype: float64\n"
     ]
    }
   ],
   "source": [
    "print(percent_missing(pv_df))\n",
    "\n",
    "#pv_df[pv_df['model1_clean'].notnull()][['tech_1', 'manuf2_clean', '3rdparty']]"
   ]
  },
  {
   "cell_type": "code",
   "execution_count": 36,
   "metadata": {
    "scrolled": true
   },
   "outputs": [
    {
     "name": "stdout",
     "output_type": "stream",
     "text": [
      "<class 'pandas.core.frame.DataFrame'>\n",
      "RangeIndex: 991027 entries, 0 to 991026\n",
      "Data columns (total 29 columns):\n",
      "state                          991027 non-null object\n",
      "date_installed                 991024 non-null object\n",
      "incentive_prog_names           779537 non-null object\n",
      "type                           991024 non-null object\n",
      "size_kw                        991024 non-null float64\n",
      "appraised                      221407 non-null object\n",
      "zipcode                        991024 non-null float64\n",
      "install_type                   950845 non-null object\n",
      "installer                      687692 non-null object\n",
      "cost_per_watt                  743047 non-null float64\n",
      "cost                           743171 non-null float64\n",
      "lbnl_tts_version_year          779537 non-null float64\n",
      "lbnl_tts                       779537 non-null object\n",
      "city                           780620 non-null object\n",
      "utility_clean                  774432 non-null object\n",
      "tech_1                         570132 non-null object\n",
      "model1_clean                   570132 non-null object\n",
      "county                         973259 non-null object\n",
      "annual_PV_prod                 762910 non-null float64\n",
      "annual_insolation              762910 non-null float64\n",
      "rebate                         376769 non-null object\n",
      "sales_tax_cost                 347578 non-null float64\n",
      "tilt1                          381158 non-null float64\n",
      "tracking_type                  520145 non-null object\n",
      "azimuth1                       360853 non-null float64\n",
      "manuf2_clean                   225539 non-null object\n",
      "manuf3_clean                   203601 non-null object\n",
      "reported_annual_energy_prod    201171 non-null float64\n",
      "3rdparty                       305184 non-null float64\n",
      "dtypes: float64(12), object(17)\n",
      "memory usage: 219.3+ MB\n",
      "None\n"
     ]
    }
   ],
   "source": [
    "print(pv_df.info())\n",
    "# pv_df.head()"
   ]
  },
  {
   "cell_type": "code",
   "execution_count": 37,
   "metadata": {},
   "outputs": [
    {
     "name": "stdout",
     "output_type": "stream",
     "text": [
      "[nan  1.]\n"
     ]
    }
   ],
   "source": [
    "# explore columns\n",
    "# =============================================================================\n",
    "# 3rd Party\n",
    "print(pv_df['3rdparty'].unique())\n",
    "\n",
    "# replace all NaNs with 0, and set dtype to INT\n",
    "pv_df['3rdparty'] = pv_df['3rdparty'].replace(np.nan, 0).astype(np.int)\n"
   ]
  },
  {
   "cell_type": "code",
   "execution_count": 38,
   "metadata": {
    "scrolled": true
   },
   "outputs": [
    {
     "data": {
      "text/plain": [
       "\"\\nprint(pv_df[pv_df['manuf2_clean'].notnull()]['manuf2_clean'])\\nprint(pv_df[pv_df['installer'].notnull()][['installer', 'manuf2_clean', 'manuf3_clean']])\\nprint(pv_df[pv_df['tech_1'].notnull()][['tech_1', 'install_type', 'type', 'utility_clean']])\\n\\nprint(pv_df.type.unique())\\n\""
      ]
     },
     "execution_count": 38,
     "metadata": {},
     "output_type": "execute_result"
    }
   ],
   "source": [
    "\n",
    "\"\"\"\n",
    "print(pv_df[pv_df['manuf2_clean'].notnull()]['manuf2_clean'])\n",
    "print(pv_df[pv_df['installer'].notnull()][['installer', 'manuf2_clean', 'manuf3_clean']])\n",
    "print(pv_df[pv_df['tech_1'].notnull()][['tech_1', 'install_type', 'type', 'utility_clean']])\n",
    "\n",
    "print(pv_df.type.unique())\n",
    "\"\"\""
   ]
  },
  {
   "cell_type": "code",
   "execution_count": 39,
   "metadata": {},
   "outputs": [],
   "source": [
    "# drop specific cols\n",
    "# =============================================================================\n",
    "# drop columns after exploring them\n",
    "drop_ls = ['lbnl_tts_version_year', 'lbnl_tts', 'manuf3_clean', 'manuf2_clean', 'appraised', 'type']\n",
    "pv_df = pv_df.drop(labels=drop_ls, axis=1)"
   ]
  },
  {
   "cell_type": "code",
   "execution_count": 40,
   "metadata": {},
   "outputs": [],
   "source": [
    "#%% LOWERCASE\n",
    "# =============================================================================\n",
    "# convert all column names to lowercase\n",
    "pv_df.columns = map_lowercase(pv_df)\n",
    "\n",
    "# convert all objects to lowercase \n",
    "# extract all columns of dtype 'object'\n",
    "obj_col = [col for col in pv_df.columns.values if pv_df[col].dtype == np.object]\n"
   ]
  },
  {
   "cell_type": "code",
   "execution_count": 41,
   "metadata": {
    "scrolled": true
   },
   "outputs": [
    {
     "name": "stdout",
     "output_type": "stream",
     "text": [
      "state -converted to lower case\n",
      "date_installed -converted to lower case\n",
      "incentive_prog_names -converted to lower case\n",
      "install_type -converted to lower case\n",
      "installer -converted to lower case\n",
      "city -converted to lower case\n",
      "utility_clean -converted to lower case\n",
      "tech_1 -converted to lower case\n",
      "model1_clean -converted to lower case\n",
      "county -converted to lower case\n",
      "rebate -converted to lower case\n",
      "tracking_type -converted to lower case\n"
     ]
    }
   ],
   "source": [
    "# for each column\n",
    "# convert columns to lowercase if dtype is object\n",
    "for item in obj_col:\n",
    "    pv_df[item] = pv_df[item].str.lower()\n",
    "    print(item, '-converted to lower case')\n"
   ]
  },
  {
   "cell_type": "code",
   "execution_count": 42,
   "metadata": {},
   "outputs": [
    {
     "name": "stdout",
     "output_type": "stream",
     "text": [
      "         cost  cost_per_watt rebate install_type  size_kw incentive_prog_names\n",
      "556    0.0000         0.0000    NaN  residential  12.3000                  NaN\n",
      "7338   0.0000         1.0000    NaN  residential   3.4300                  NaN\n",
      "8528   0.0000            nan    NaN      unknown   9.8800                  NaN\n",
      "8683   0.0000            nan    NaN      unknown   2.6600                  NaN\n",
      "8704   0.0000            nan    NaN      unknown  10.5000                  NaN\n",
      "...       ...            ...    ...          ...      ...                  ...\n",
      "385611 0.0000            nan    NaN  residential   4.5600                  NaN\n",
      "385702 0.0000            nan    NaN  residential   7.4880                  NaN\n",
      "386013 0.0000            nan    NaN  residential   5.7600                  NaN\n",
      "386982 0.0000            nan    NaN  residential   4.3200                  NaN\n",
      "387275 0.0000            nan    NaN   commercial 157.5000                  NaN\n",
      "\n",
      "[178 rows x 6 columns]\n",
      "247856\n"
     ]
    }
   ],
   "source": [
    "# look at cols where cost is zero\n",
    "cols_ls = ['cost', 'cost_per_watt', 'rebate', 'install_type', 'size_kw','incentive_prog_names']\n",
    "print(pv_df.loc[pv_df['cost']==0, cols_ls])\n",
    "\n",
    "# count null values\n",
    "print(np.sum(pv_df.cost.isnull()))\n",
    "\n",
    "# count number of rows where cost is 0\n",
    "np.sum(pv_df['cost']==0)\n",
    "\n",
    "# replace zeros with np.nan\n",
    "pv_df['cost'] = pv_df['cost'].replace(0, np.nan)"
   ]
  },
  {
   "cell_type": "code",
   "execution_count": 43,
   "metadata": {},
   "outputs": [
    {
     "name": "stdout",
     "output_type": "stream",
     "text": [
      "'nan' string values: False    991024\n",
      "Name: date_installed, dtype: int64\n",
      "('date_installed', 3)\n",
      "991022    11/20/2017\n",
      "991023    12/01/2017\n",
      "991024    12/08/2017\n",
      "991025    12/15/2017\n",
      "991026    12/27/2017\n",
      "Name: date_installed, dtype: object\n"
     ]
    }
   ],
   "source": [
    "# DATETIME\n",
    "# =============================================================================\n",
    "#pv_df[pv_df['date_installed'].str.contains('nan')].date_installed\n",
    "# check for string 'nan'\n",
    "print(\"'nan' string values:\", pv_df['date_installed'].str.contains('nan').value_counts())\n",
    "\n",
    "# missing vals counts\n",
    "print(missing_val_count(pv_df, 'date_installed'))\n",
    "# this should result in 3 errors\n",
    "\n",
    "# look at tail of date_installed col\n",
    "print(pv_df['date_installed'].tail())\n"
   ]
  },
  {
   "cell_type": "code",
   "execution_count": 44,
   "metadata": {},
   "outputs": [
    {
     "name": "stdout",
     "output_type": "stream",
     "text": [
      "('Unknown string format:', 'nan')\n",
      "Parser must be a string or character stream, not float\n",
      "Parser must be a string or character stream, not float\n",
      "Parser must be a string or character stream, not float\n"
     ]
    }
   ],
   "source": [
    "\n",
    "def date_to_str(series_str):\n",
    "    \"\"\"\n",
    "    Converts date input to string with format '%Y/%m/%d'\n",
    "    Returns formated date string\n",
    "    \"\"\"\n",
    "    try:\n",
    "        return str(parser.parse(series_str).date())\n",
    "    except Exception as e:\n",
    "        print(e)\n",
    "        pass\n",
    "date_to_str(pv_df['date_installed'][5])\n",
    "date_to_str('nan')\n",
    "\n",
    "\n",
    "pv_df['date_installed'] = pv_df['date_installed'].map(date_to_str)"
   ]
  },
  {
   "cell_type": "markdown",
   "metadata": {},
   "source": [
    "#### CONVERT DATA TYPE\n",
    "\n",
    "Data on customer segment is mapped to one of six general types: RES, COM, SCHOOL, GOV, NONPROFIT,and NON-RES, the last one being used only if more-specific information on nonresidential customer type is unavailable.\n"
   ]
  },
  {
   "cell_type": "code",
   "execution_count": 45,
   "metadata": {},
   "outputs": [
    {
     "name": "stdout",
     "output_type": "stream",
     "text": [
      "['poly' 'mono' nan 'mono + a-si' 'crystalline' 'a-si' 'cigs' 'multiple'\n",
      " 'a-si + micro-c' 'cdte' 'cis' 'thin film']\n",
      "['fixed' nan 'dual-axis' 'mixed' 'single-axis']\n",
      "['residential' 'commercial' 'agricultural' 'educational' 'nonprofit'\n",
      " 'government' 'unknown' 'utility' nan 'customer' 'education' 'municipal'\n",
      " 'agriculture' 'public' 'institutional' 'commercial - other' \"gov't/np\"\n",
      " 'residential/sf' 'nonresidential' 'commercial - builders' 'commerical'\n",
      " 'commercial - agriculture' 'small business' 'commercial - small business'\n",
      " 'not stated']\n"
     ]
    }
   ],
   "source": [
    "# tech_1, tracking_type, install_type\n",
    "# =============================================================================\n",
    "print(pv_df.tech_1.unique())\n",
    "print(pv_df.tracking_type.unique())\n",
    "print(pv_df.install_type.unique())"
   ]
  },
  {
   "cell_type": "code",
   "execution_count": 46,
   "metadata": {},
   "outputs": [],
   "source": [
    "# install_type: combine commercial categories into one commercial\n",
    "installs = pd.Series(pv_df.install_type.unique()).astype(str)"
   ]
  },
  {
   "cell_type": "code",
   "execution_count": 47,
   "metadata": {},
   "outputs": [
    {
     "data": {
      "text/html": [
       "<div>\n",
       "<style scoped>\n",
       "    .dataframe tbody tr th:only-of-type {\n",
       "        vertical-align: middle;\n",
       "    }\n",
       "\n",
       "    .dataframe tbody tr th {\n",
       "        vertical-align: top;\n",
       "    }\n",
       "\n",
       "    .dataframe thead th {\n",
       "        text-align: right;\n",
       "    }\n",
       "</style>\n",
       "<table border=\"1\" class=\"dataframe\">\n",
       "  <thead>\n",
       "    <tr style=\"text-align: right;\">\n",
       "      <th></th>\n",
       "      <th></th>\n",
       "      <th>0</th>\n",
       "    </tr>\n",
       "    <tr>\n",
       "      <th></th>\n",
       "      <th>match</th>\n",
       "      <th></th>\n",
       "    </tr>\n",
       "  </thead>\n",
       "  <tbody>\n",
       "    <tr>\n",
       "      <th>1</th>\n",
       "      <th>0</th>\n",
       "      <td>commerc</td>\n",
       "    </tr>\n",
       "    <tr>\n",
       "      <th>2</th>\n",
       "      <th>0</th>\n",
       "      <td>agricult</td>\n",
       "    </tr>\n",
       "    <tr>\n",
       "      <th>12</th>\n",
       "      <th>0</th>\n",
       "      <td>agricult</td>\n",
       "    </tr>\n",
       "    <tr>\n",
       "      <th>15</th>\n",
       "      <th>0</th>\n",
       "      <td>commerc</td>\n",
       "    </tr>\n",
       "    <tr>\n",
       "      <th>19</th>\n",
       "      <th>0</th>\n",
       "      <td>commerc</td>\n",
       "    </tr>\n",
       "    <tr>\n",
       "      <th rowspan=\"2\" valign=\"top\">21</th>\n",
       "      <th>0</th>\n",
       "      <td>commerc</td>\n",
       "    </tr>\n",
       "    <tr>\n",
       "      <th>1</th>\n",
       "      <td>agricult</td>\n",
       "    </tr>\n",
       "    <tr>\n",
       "      <th>22</th>\n",
       "      <th>0</th>\n",
       "      <td>business</td>\n",
       "    </tr>\n",
       "    <tr>\n",
       "      <th rowspan=\"2\" valign=\"top\">23</th>\n",
       "      <th>0</th>\n",
       "      <td>commerc</td>\n",
       "    </tr>\n",
       "    <tr>\n",
       "      <th>1</th>\n",
       "      <td>business</td>\n",
       "    </tr>\n",
       "  </tbody>\n",
       "</table>\n",
       "</div>"
      ],
      "text/plain": [
       "                 0\n",
       "   match          \n",
       "1  0       commerc\n",
       "2  0      agricult\n",
       "12 0      agricult\n",
       "15 0       commerc\n",
       "19 0       commerc\n",
       "21 0       commerc\n",
       "   1      agricult\n",
       "22 0      business\n",
       "23 0       commerc\n",
       "   1      business"
      ]
     },
     "execution_count": 47,
     "metadata": {},
     "output_type": "execute_result"
    }
   ],
   "source": [
    "#installs.str.findall('(commerc|agricult|business)')\n",
    "installs.str.extractall('(commerc|agricult|business)')"
   ]
  },
  {
   "cell_type": "code",
   "execution_count": 48,
   "metadata": {},
   "outputs": [
    {
     "data": {
      "text/plain": [
       "array(['commercial', 'agricultural', 'agriculture', 'commercial - other',\n",
       "       'commercial - builders', 'commercial - agriculture',\n",
       "       'small business', 'commercial - small business'], dtype=object)"
      ]
     },
     "execution_count": 48,
     "metadata": {},
     "output_type": "execute_result"
    }
   ],
   "source": [
    "# extract keywords, using mask, then select column 0\n",
    "installs[installs.str.extract('(commerc|agricult|business)').notnull()[0]]\n",
    "# same result as above \n",
    "installs[installs.str.contains('commerc|agricult|business')].values\n"
   ]
  },
  {
   "cell_type": "code",
   "execution_count": 49,
   "metadata": {},
   "outputs": [],
   "source": [
    "# replace np.nan, 'customer', and 'not stated' to 'unknown' category\n",
    "replace_these = [np.nan, 'not stated', 'customer']\n",
    "pv_df.install_type = pv_df.install_type.replace(replace_these, 'unknown')"
   ]
  },
  {
   "cell_type": "code",
   "execution_count": 50,
   "metadata": {},
   "outputs": [],
   "source": [
    "# combine the split categories into mroe general categories\n",
    "coms = ['commercial - small business', 'small business', 'commercial - agriculture',\n",
    "        'commerical', 'commercial - builders', 'commercial - other', 'commercial',\n",
    "        'agricultural', 'agriculture']\n",
    "edu = ['institutional', 'educational']\n",
    "gov = ['municipal', 'public', \"gov't/np\"]\n",
    "\n",
    "pv_df.install_type = pv_df.install_type.replace(coms, 'commercial')\n",
    "pv_df.install_type = pv_df.install_type.replace(edu, 'education')\n",
    "pv_df.install_type = pv_df.install_type.replace(gov, 'government')\n",
    "pv_df.install_type = pv_df.install_type.replace(\"residential/sf\", 'residential')"
   ]
  },
  {
   "cell_type": "code",
   "execution_count": 51,
   "metadata": {},
   "outputs": [
    {
     "name": "stdout",
     "output_type": "stream",
     "text": [
      "residential       886725\n",
      "unknown            56012\n",
      "commercial         35587\n",
      "government          5665\n",
      "nonprofit           4125\n",
      "education           2682\n",
      "utility              228\n",
      "nonresidential         3\n",
      "Name: install_type, dtype: int64\n"
     ]
    }
   ],
   "source": [
    "# count each category in install_type\n",
    "print(pv_df.install_type.value_counts())"
   ]
  },
  {
   "cell_type": "code",
   "execution_count": 59,
   "metadata": {},
   "outputs": [],
   "source": [
    "# sns.barplot??"
   ]
  },
  {
   "cell_type": "code",
   "execution_count": 63,
   "metadata": {},
   "outputs": [
    {
     "data": {
      "image/png": "[encoded data removed]",
      "text/plain": [
       "<Figure size 864x576 with 1 Axes>"
      ]
     },
     "metadata": {},
     "output_type": "display_data"
    }
   ],
   "source": [
    "sns.barplot(x=pv_df.install_type.value_counts().values/pv_df.shape[0],\n",
    "            y=pv_df.install_type.value_counts().index.str.capitalize(),\n",
    "#             orient='v'\n",
    "           )\n",
    "plt.title('Install Type')\n",
    "plt.xlabel('Proportion')\n",
    "plt.show()"
   ]
  },
  {
   "cell_type": "code",
   "execution_count": 26,
   "metadata": {
    "scrolled": false
   },
   "outputs": [
    {
     "data": {
      "text/plain": [
       "state                          0.0000\n",
       "install_type                   0.0000\n",
       "zipcode                        0.0000\n",
       "3rdparty                       0.0000\n",
       "date_installed                 0.0000\n",
       "size_kw                        0.0000\n",
       "county                         1.0487\n",
       "city                          19.7285\n",
       "incentive_prog_names          19.9041\n",
       "utility_clean                 20.2723\n",
       "annual_pv_prod                21.5651\n",
       "annual_insolation             21.5651\n",
       "cost_per_watt                 25.4072\n",
       "cost                          25.4177\n",
       "installer                     27.6593\n",
       "model1_clean                  39.7822\n",
       "tech_1                        39.7822\n",
       "tracking_type                 44.1172\n",
       "tilt1                         59.2087\n",
       "azimuth1                      61.5380\n",
       "rebate                        62.5498\n",
       "sales_tax_cost                66.1306\n",
       "reported_annual_energy_prod   79.1423\n",
       "dtype: float64"
      ]
     },
     "execution_count": 26,
     "metadata": {},
     "output_type": "execute_result"
    }
   ],
   "source": [
    "\n",
    "# select residential install type\n",
    "pv_df = pv_df[pv_df['install_type'] == 'residential']\n",
    "\n",
    "# drop missing vals, and reset index\n",
    "pv_df = drop_n_reset(pv_df)\n",
    "\n",
    "# check missing values\n",
    "percent_missing(pv_df)"
   ]
  },
  {
   "cell_type": "code",
   "execution_count": 27,
   "metadata": {},
   "outputs": [],
   "source": [
    "# CONVERT TO CATGORICAL DTYPE\n",
    "# =============================================================================\n",
    "# convert multiple columns to categorical dtype\n",
    "cols_cat = ['tech_1', 'tracking_type', 'install_type']\n",
    "pv_df[cols_cat] = pv_df[cols_cat].astype('category')\n"
   ]
  },
  {
   "cell_type": "code",
   "execution_count": 28,
   "metadata": {},
   "outputs": [
    {
     "data": {
      "text/plain": [
       "array([ 1, -1,  0,  2,  3], dtype=int64)"
      ]
     },
     "execution_count": 28,
     "metadata": {},
     "output_type": "execute_result"
    }
   ],
   "source": [
    "# unique codes, -1 implies missing value\n",
    "pv_df.tech_1.cat.codes.unique()\n",
    "pv_df.tracking_type.cat.codes.unique()"
   ]
  },
  {
   "cell_type": "code",
   "execution_count": 29,
   "metadata": {},
   "outputs": [
    {
     "name": "stdout",
     "output_type": "stream",
     "text": [
      "270\n",
      "pacific gas & electric company             187880\n",
      "southern california edison                 148612\n",
      "san diego gas & electric company            64448\n",
      "national grid                               39055\n",
      "arizona public service                      38045\n",
      "los angeles department of water & power     18808\n",
      "pseg long island                            17209\n",
      "nstar (dba eversource)                      15367\n",
      "jcp&l                                       14849\n",
      "salt river project                          14565\n",
      "Name: utility_clean, dtype: int64\n"
     ]
    }
   ],
   "source": [
    "# installer and utility\n",
    "print(pv_df.utility_clean.nunique())\n",
    "print(pv_df.utility_clean.value_counts()[:10])"
   ]
  },
  {
   "cell_type": "code",
   "execution_count": 30,
   "metadata": {},
   "outputs": [
    {
     "name": "stdout",
     "output_type": "stream",
     "text": [
      "8433\n",
      "solarcity            165026\n",
      "vivint                41242\n",
      "verengo               16373\n",
      "sungevity             14384\n",
      "rec solar             13938\n",
      "sunpower              13226\n",
      "petersendean          10392\n",
      "rgs/real goods         9948\n",
      "sunrun                 9941\n",
      "grid alternatives      7806\n",
      "Name: installer, dtype: int64\n"
     ]
    }
   ],
   "source": [
    "print(pv_df.installer.nunique())\n",
    "print(pv_df.installer.value_counts()[:10])"
   ]
  },
  {
   "cell_type": "code",
   "execution_count": 31,
   "metadata": {},
   "outputs": [
    {
     "data": {
      "text/html": [
       "<div>\n",
       "<style scoped>\n",
       "    .dataframe tbody tr th:only-of-type {\n",
       "        vertical-align: middle;\n",
       "    }\n",
       "\n",
       "    .dataframe tbody tr th {\n",
       "        vertical-align: top;\n",
       "    }\n",
       "\n",
       "    .dataframe thead th {\n",
       "        text-align: right;\n",
       "    }\n",
       "</style>\n",
       "<table border=\"1\" class=\"dataframe\">\n",
       "  <thead>\n",
       "    <tr style=\"text-align: right;\">\n",
       "      <th></th>\n",
       "      <th>cost</th>\n",
       "      <th>size_kw</th>\n",
       "      <th>cost_per_watt</th>\n",
       "    </tr>\n",
       "    <tr>\n",
       "      <th>tech_1</th>\n",
       "      <th></th>\n",
       "      <th></th>\n",
       "      <th></th>\n",
       "    </tr>\n",
       "  </thead>\n",
       "  <tbody>\n",
       "    <tr>\n",
       "      <th>cdte</th>\n",
       "      <td>50631.0251</td>\n",
       "      <td>6.1348</td>\n",
       "      <td>8.7416</td>\n",
       "    </tr>\n",
       "    <tr>\n",
       "      <th>mono + a-si</th>\n",
       "      <td>45243.8496</td>\n",
       "      <td>6.1107</td>\n",
       "      <td>7.7390</td>\n",
       "    </tr>\n",
       "    <tr>\n",
       "      <th>multiple</th>\n",
       "      <td>38651.1919</td>\n",
       "      <td>6.0773</td>\n",
       "      <td>7.4085</td>\n",
       "    </tr>\n",
       "    <tr>\n",
       "      <th>a-si</th>\n",
       "      <td>36915.8284</td>\n",
       "      <td>8.4892</td>\n",
       "      <td>7.2485</td>\n",
       "    </tr>\n",
       "    <tr>\n",
       "      <th>crystalline</th>\n",
       "      <td>35453.7594</td>\n",
       "      <td>7.6156</td>\n",
       "      <td>4.8913</td>\n",
       "    </tr>\n",
       "    <tr>\n",
       "      <th>mono</th>\n",
       "      <td>33338.4249</td>\n",
       "      <td>6.2570</td>\n",
       "      <td>5.5660</td>\n",
       "    </tr>\n",
       "    <tr>\n",
       "      <th>poly</th>\n",
       "      <td>31759.6256</td>\n",
       "      <td>6.1045</td>\n",
       "      <td>5.3046</td>\n",
       "    </tr>\n",
       "    <tr>\n",
       "      <th>thin film</th>\n",
       "      <td>30254.2195</td>\n",
       "      <td>6.1876</td>\n",
       "      <td>4.8949</td>\n",
       "    </tr>\n",
       "    <tr>\n",
       "      <th>a-si + micro-c</th>\n",
       "      <td>25184.8569</td>\n",
       "      <td>5.5963</td>\n",
       "      <td>4.4235</td>\n",
       "    </tr>\n",
       "    <tr>\n",
       "      <th>cis</th>\n",
       "      <td>24721.5556</td>\n",
       "      <td>8.8684</td>\n",
       "      <td>2.4129</td>\n",
       "    </tr>\n",
       "    <tr>\n",
       "      <th>cigs</th>\n",
       "      <td>22582.6014</td>\n",
       "      <td>5.4691</td>\n",
       "      <td>4.7644</td>\n",
       "    </tr>\n",
       "  </tbody>\n",
       "</table>\n",
       "</div>"
      ],
      "text/plain": [
       "                     cost  size_kw  cost_per_watt\n",
       "tech_1                                           \n",
       "cdte           50631.0251   6.1348         8.7416\n",
       "mono + a-si    45243.8496   6.1107         7.7390\n",
       "multiple       38651.1919   6.0773         7.4085\n",
       "a-si           36915.8284   8.4892         7.2485\n",
       "crystalline    35453.7594   7.6156         4.8913\n",
       "mono           33338.4249   6.2570         5.5660\n",
       "poly           31759.6256   6.1045         5.3046\n",
       "thin film      30254.2195   6.1876         4.8949\n",
       "a-si + micro-c 25184.8569   5.5963         4.4235\n",
       "cis            24721.5556   8.8684         2.4129\n",
       "cigs           22582.6014   5.4691         4.7644"
      ]
     },
     "execution_count": 31,
     "metadata": {},
     "output_type": "execute_result"
    }
   ],
   "source": [
    "# groupby tech_1 and compute average cost, size_kw for each category\n",
    "pv_df.groupby('tech_1').mean()[['cost', 'size_kw', 'cost_per_watt']].sort_values('cost', ascending=False)"
   ]
  },
  {
   "cell_type": "code",
   "execution_count": 32,
   "metadata": {},
   "outputs": [
    {
     "data": {
      "text/html": [
       "<div>\n",
       "<style scoped>\n",
       "    .dataframe tbody tr th:only-of-type {\n",
       "        vertical-align: middle;\n",
       "    }\n",
       "\n",
       "    .dataframe tbody tr th {\n",
       "        vertical-align: top;\n",
       "    }\n",
       "\n",
       "    .dataframe thead th {\n",
       "        text-align: right;\n",
       "    }\n",
       "</style>\n",
       "<table border=\"1\" class=\"dataframe\">\n",
       "  <thead>\n",
       "    <tr style=\"text-align: right;\">\n",
       "      <th></th>\n",
       "      <th>cost</th>\n",
       "      <th>size_kw</th>\n",
       "      <th>cost_per_watt</th>\n",
       "    </tr>\n",
       "    <tr>\n",
       "      <th>install_type</th>\n",
       "      <th></th>\n",
       "      <th></th>\n",
       "      <th></th>\n",
       "    </tr>\n",
       "  </thead>\n",
       "  <tbody>\n",
       "    <tr>\n",
       "      <th>residential</th>\n",
       "      <td>34092.6601</td>\n",
       "      <td>7.3808</td>\n",
       "      <td>5.7947</td>\n",
       "    </tr>\n",
       "  </tbody>\n",
       "</table>\n",
       "</div>"
      ],
      "text/plain": [
       "                   cost  size_kw  cost_per_watt\n",
       "install_type                                   \n",
       "residential  34092.6601   7.3808         5.7947"
      ]
     },
     "execution_count": 32,
     "metadata": {},
     "output_type": "execute_result"
    }
   ],
   "source": [
    "pv_df.groupby('install_type').mean()[['cost', 'size_kw', 'cost_per_watt']].sort_values('cost', ascending=False)"
   ]
  },
  {
   "cell_type": "code",
   "execution_count": 33,
   "metadata": {},
   "outputs": [
    {
     "data": {
      "text/html": [
       "<div>\n",
       "<style scoped>\n",
       "    .dataframe tbody tr th:only-of-type {\n",
       "        vertical-align: middle;\n",
       "    }\n",
       "\n",
       "    .dataframe tbody tr th {\n",
       "        vertical-align: top;\n",
       "    }\n",
       "\n",
       "    .dataframe thead th {\n",
       "        text-align: right;\n",
       "    }\n",
       "</style>\n",
       "<table border=\"1\" class=\"dataframe\">\n",
       "  <thead>\n",
       "    <tr style=\"text-align: right;\">\n",
       "      <th></th>\n",
       "      <th>cost</th>\n",
       "      <th>size_kw</th>\n",
       "      <th>cost_per_watt</th>\n",
       "    </tr>\n",
       "    <tr>\n",
       "      <th>tracking_type</th>\n",
       "      <th></th>\n",
       "      <th></th>\n",
       "      <th></th>\n",
       "    </tr>\n",
       "  </thead>\n",
       "  <tbody>\n",
       "    <tr>\n",
       "      <th>dual-axis</th>\n",
       "      <td>46659.2676</td>\n",
       "      <td>7.9264</td>\n",
       "      <td>6.0740</td>\n",
       "    </tr>\n",
       "    <tr>\n",
       "      <th>single-axis</th>\n",
       "      <td>33477.0021</td>\n",
       "      <td>6.6920</td>\n",
       "      <td>5.4761</td>\n",
       "    </tr>\n",
       "    <tr>\n",
       "      <th>fixed</th>\n",
       "      <td>33135.8722</td>\n",
       "      <td>6.2196</td>\n",
       "      <td>5.5077</td>\n",
       "    </tr>\n",
       "    <tr>\n",
       "      <th>mixed</th>\n",
       "      <td>25542.6218</td>\n",
       "      <td>6.2681</td>\n",
       "      <td>4.1950</td>\n",
       "    </tr>\n",
       "  </tbody>\n",
       "</table>\n",
       "</div>"
      ],
      "text/plain": [
       "                    cost  size_kw  cost_per_watt\n",
       "tracking_type                                   \n",
       "dual-axis     46659.2676   7.9264         6.0740\n",
       "single-axis   33477.0021   6.6920         5.4761\n",
       "fixed         33135.8722   6.2196         5.5077\n",
       "mixed         25542.6218   6.2681         4.1950"
      ]
     },
     "execution_count": 33,
     "metadata": {},
     "output_type": "execute_result"
    }
   ],
   "source": [
    "pv_df.groupby('tracking_type').mean()[['cost', 'size_kw', 'cost_per_watt']].sort_values('cost', ascending=False)"
   ]
  },
  {
   "cell_type": "code",
   "execution_count": 34,
   "metadata": {},
   "outputs": [],
   "source": [
    "# run function again to make sure there no duplicate rows, missing rows or columns\n",
    "pv_df = drop_n_reset(pv_df)\n"
   ]
  },
  {
   "cell_type": "code",
   "execution_count": 35,
   "metadata": {},
   "outputs": [
    {
     "data": {
      "text/plain": [
       "340134     0.0000\n",
       "341749   206.0000\n",
       "341872   209.0000\n",
       "340736   214.0000\n",
       "341574   236.0000\n",
       "339842   236.0000\n",
       "341725   236.0000\n",
       "339220   242.0000\n",
       "339339   244.0000\n",
       "341589   253.0000\n",
       "Name: zipcode, dtype: float64"
      ]
     },
     "execution_count": 35,
     "metadata": {},
     "output_type": "execute_result"
    }
   ],
   "source": [
    "#%% ZIPCODE DTYPE\n",
    "# =============================================================================\n",
    "\n",
    "# convert zipcode column to object and format for 5 digits\n",
    "# DO NOT convert to any numerical dtype, this will remove preceeding zero\n",
    "\n",
    "pv_df.sort_values(by = ['zipcode']).zipcode.head(10)\n",
    "# NOTE:\n",
    "# not all zipcodes are 5 digit length"
   ]
  },
  {
   "cell_type": "code",
   "execution_count": 36,
   "metadata": {},
   "outputs": [
    {
     "data": {
      "text/plain": [
       "127626"
      ]
     },
     "execution_count": 36,
     "metadata": {},
     "output_type": "execute_result"
    }
   ],
   "source": [
    "# replace NaNs with zeros, then convert dtype to INT\n",
    "pv_df['zipcode'] = pv_df['zipcode'].replace(np.nan, 0)\n",
    "pv_df['zipcode'] = pv_df['zipcode'].astype(np.int)\n",
    "\n",
    "# TEST 1: zipcodes for length of 5 digits\n",
    "# convert dtype to string then check length\n",
    "zipcodes = np.array([len(str(pv_df['zipcode'].values[i])) for i in range(len(pv_df))])\n",
    "# count of zipcodes which do not equal length of 5\n",
    "len(zipcodes[zipcodes != 5])"
   ]
  },
  {
   "cell_type": "code",
   "execution_count": 37,
   "metadata": {},
   "outputs": [
    {
     "name": "stdout",
     "output_type": "stream",
     "text": [
      "47401\n"
     ]
    }
   ],
   "source": [
    "# format zipcodes to 5-dig, some zipcodes are only 4-digits\n",
    "print('{:05d}'.format(pv_df['zipcode'][25]))\n",
    "\n",
    "# use MAP for format entire Series\n",
    "pv_df['zipcode'] = pv_df['zipcode'].map('{:05d}'.format)"
   ]
  },
  {
   "cell_type": "code",
   "execution_count": 38,
   "metadata": {},
   "outputs": [
    {
     "name": "stdout",
     "output_type": "stream",
     "text": [
      "SUCCESS!!!\n"
     ]
    }
   ],
   "source": [
    "# TEST 2: zipcodes for length of 5 digits\n",
    "# count number of zipcodes not equal to length of 5\n",
    "zipcodes = np.array([len(pv_df['zipcode'][i]) for i in range(len(pv_df))])\n",
    "len(zipcodes[zipcodes != 5])\n",
    "\n",
    "if np.count_nonzero(zipcodes != 5) == 0:\n",
    "    print('SUCCESS!!!')"
   ]
  },
  {
   "cell_type": "code",
   "execution_count": 39,
   "metadata": {
    "scrolled": true
   },
   "outputs": [
    {
     "data": {
      "text/plain": [
       "1975    78260\n",
       "1976    78260\n",
       "1977    78260\n",
       "1978    78260\n",
       "1979    78260\n",
       "1980    78260\n",
       "1981    78260\n",
       "1982    78260\n",
       "1983    78260\n",
       "1984    78260\n",
       "Name: zipcode, dtype: object"
      ]
     },
     "execution_count": 39,
     "metadata": {},
     "output_type": "execute_result"
    }
   ],
   "source": [
    "# check indecies     \n",
    "pv_df.loc[1975:2025, 'zipcode'].head(10)\n",
    "\n",
    "# SUCCESS!!!"
   ]
  },
  {
   "cell_type": "code",
   "execution_count": 40,
   "metadata": {},
   "outputs": [
    {
     "name": "stdout",
     "output_type": "stream",
     "text": [
      "53\n",
      "['tx' 'ca' 'ok' 'il' 'in' 'va' 'oh' 'fl' 'ny' 'ma' 'pa' 'az' 'ut' 'ky'\n",
      " 'de' 'md' 'co' 'ms' 'wa' 'hi' 'ga' 'me' 'nh' 'ct' 'nm' 'al' 'ia' 'mo'\n",
      " 'wi' 'nj' 'ak' 'mn' 'mi' 'mt' 'id' 'ri' 'ne' 'dc' 'ar' 'ks' 'wv' 'tn'\n",
      " 'sd' 'nc' 'vt' 'nv' 'la' 'or' 'nd' 'sc' 'wy' 'pr' 'oh ']\n"
     ]
    }
   ],
   "source": [
    "# STATES\n",
    "# =============================================================================\n",
    "# number of unique states\n",
    "print(pv_df.state.nunique())\n",
    "# OH, MD and PA contain an empty string, PR and DC are not states\n",
    "print(pv_df.state.unique())\n"
   ]
  },
  {
   "cell_type": "code",
   "execution_count": 41,
   "metadata": {},
   "outputs": [
    {
     "data": {
      "text/plain": [
       "array(['tx', 'ca', 'ok', 'il', 'in', 'va', 'oh', 'fl', 'ny', 'ma', 'pa',\n",
       "       'az', 'ut', 'ky', 'de', 'md', 'co', 'ms', 'wa', 'hi', 'ga', 'me',\n",
       "       'nh', 'ct', 'nm', 'al', 'ia', 'mo', 'wi', 'nj', 'ak', 'mn', 'mi',\n",
       "       'mt', 'id', 'ri', 'ne', 'dc', 'ar', 'ks', 'wv', 'tn', 'sd', 'nc',\n",
       "       'vt', 'nv', 'la', 'or', 'nd', 'sc', 'wy', 'pr'], dtype=object)"
      ]
     },
     "execution_count": 41,
     "metadata": {},
     "output_type": "execute_result"
    }
   ],
   "source": [
    "# MAP str.strip function to remove whitespaces\n",
    "pv_df.state = pv_df.state.map(str.strip)\n",
    "pv_df.state.unique() "
   ]
  },
  {
   "cell_type": "code",
   "execution_count": 42,
   "metadata": {},
   "outputs": [],
   "source": [
    "# MAP strip() across all object Series\n",
    "for col in pv_df.columns.values:\n",
    "    if pv_df[col].dtype == np.object:\n",
    "        pv_df[col] = pv_df[col].map(str).map(str.strip)"
   ]
  },
  {
   "cell_type": "code",
   "execution_count": 43,
   "metadata": {},
   "outputs": [
    {
     "data": {
      "text/html": [
       "<div>\n",
       "<style scoped>\n",
       "    .dataframe tbody tr th:only-of-type {\n",
       "        vertical-align: middle;\n",
       "    }\n",
       "\n",
       "    .dataframe tbody tr th {\n",
       "        vertical-align: top;\n",
       "    }\n",
       "\n",
       "    .dataframe thead th {\n",
       "        text-align: right;\n",
       "    }\n",
       "</style>\n",
       "<table border=\"1\" class=\"dataframe\">\n",
       "  <thead>\n",
       "    <tr style=\"text-align: right;\">\n",
       "      <th></th>\n",
       "      <th>city</th>\n",
       "      <th>state</th>\n",
       "    </tr>\n",
       "  </thead>\n",
       "  <tbody>\n",
       "    <tr>\n",
       "      <th>2434</th>\n",
       "      <td>nan</td>\n",
       "      <td>dc</td>\n",
       "    </tr>\n",
       "    <tr>\n",
       "      <th>2435</th>\n",
       "      <td>nan</td>\n",
       "      <td>dc</td>\n",
       "    </tr>\n",
       "    <tr>\n",
       "      <th>2436</th>\n",
       "      <td>nan</td>\n",
       "      <td>dc</td>\n",
       "    </tr>\n",
       "    <tr>\n",
       "      <th>2437</th>\n",
       "      <td>nan</td>\n",
       "      <td>dc</td>\n",
       "    </tr>\n",
       "    <tr>\n",
       "      <th>2438</th>\n",
       "      <td>nan</td>\n",
       "      <td>dc</td>\n",
       "    </tr>\n",
       "  </tbody>\n",
       "</table>\n",
       "</div>"
      ],
      "text/plain": [
       "     city state\n",
       "2434  nan    dc\n",
       "2435  nan    dc\n",
       "2436  nan    dc\n",
       "2437  nan    dc\n",
       "2438  nan    dc"
      ]
     },
     "execution_count": 43,
     "metadata": {},
     "output_type": "execute_result"
    }
   ],
   "source": [
    "# CHECK STATE: DC\n",
    "# washington, dc\n",
    "pv_df[pv_df['state'] == 'dc'][['city', 'state']].head()"
   ]
  },
  {
   "cell_type": "code",
   "execution_count": 44,
   "metadata": {},
   "outputs": [
    {
     "name": "stdout",
     "output_type": "stream",
     "text": [
      "1774\n",
      "False    711239\n",
      "True     175416\n",
      "Name: city, dtype: int64\n"
     ]
    }
   ],
   "source": [
    "# missing city count\n",
    "print(np.size(np.where(pv_df['state'] == 'dc')))\n",
    "print(pv_df['city'].str.contains('nan').value_counts())"
   ]
  },
  {
   "cell_type": "code",
   "execution_count": 45,
   "metadata": {},
   "outputs": [
    {
     "data": {
      "text/html": [
       "<div>\n",
       "<style scoped>\n",
       "    .dataframe tbody tr th:only-of-type {\n",
       "        vertical-align: middle;\n",
       "    }\n",
       "\n",
       "    .dataframe tbody tr th {\n",
       "        vertical-align: top;\n",
       "    }\n",
       "\n",
       "    .dataframe thead th {\n",
       "        text-align: right;\n",
       "    }\n",
       "</style>\n",
       "<table border=\"1\" class=\"dataframe\">\n",
       "  <thead>\n",
       "    <tr style=\"text-align: right;\">\n",
       "      <th></th>\n",
       "      <th>city</th>\n",
       "      <th>state</th>\n",
       "    </tr>\n",
       "  </thead>\n",
       "  <tbody>\n",
       "    <tr>\n",
       "      <th>2434</th>\n",
       "      <td>washington</td>\n",
       "      <td>dc</td>\n",
       "    </tr>\n",
       "    <tr>\n",
       "      <th>2435</th>\n",
       "      <td>washington</td>\n",
       "      <td>dc</td>\n",
       "    </tr>\n",
       "    <tr>\n",
       "      <th>2436</th>\n",
       "      <td>washington</td>\n",
       "      <td>dc</td>\n",
       "    </tr>\n",
       "    <tr>\n",
       "      <th>2437</th>\n",
       "      <td>washington</td>\n",
       "      <td>dc</td>\n",
       "    </tr>\n",
       "    <tr>\n",
       "      <th>2438</th>\n",
       "      <td>washington</td>\n",
       "      <td>dc</td>\n",
       "    </tr>\n",
       "  </tbody>\n",
       "</table>\n",
       "</div>"
      ],
      "text/plain": [
       "            city state\n",
       "2434  washington    dc\n",
       "2435  washington    dc\n",
       "2436  washington    dc\n",
       "2437  washington    dc\n",
       "2438  washington    dc"
      ]
     },
     "execution_count": 45,
     "metadata": {},
     "output_type": "execute_result"
    }
   ],
   "source": [
    "# fill mising city with 'washington', where 'state' == 'dc'\n",
    "# missing values are represented with string 'nan', thus method 'replace' must be used\n",
    "indx_dc = pv_df[pv_df['state'] == 'dc'][['city', 'state']].index\n",
    "pv_df.loc[indx_dc, 'city'] = pv_df.loc[indx_dc, 'city'].replace('nan', 'washington')\n",
    "\n",
    "# check dc again\n",
    "pv_df[pv_df['state'] == 'dc'][['city', 'state']].head()"
   ]
  },
  {
   "cell_type": "code",
   "execution_count": 46,
   "metadata": {},
   "outputs": [
    {
     "data": {
      "text/html": [
       "<div>\n",
       "<style scoped>\n",
       "    .dataframe tbody tr th:only-of-type {\n",
       "        vertical-align: middle;\n",
       "    }\n",
       "\n",
       "    .dataframe tbody tr th {\n",
       "        vertical-align: top;\n",
       "    }\n",
       "\n",
       "    .dataframe thead th {\n",
       "        text-align: right;\n",
       "    }\n",
       "</style>\n",
       "<table border=\"1\" class=\"dataframe\">\n",
       "  <thead>\n",
       "    <tr style=\"text-align: right;\">\n",
       "      <th></th>\n",
       "      <th>city</th>\n",
       "      <th>state</th>\n",
       "      <th>cost</th>\n",
       "      <th>size_kw</th>\n",
       "    </tr>\n",
       "  </thead>\n",
       "  <tbody>\n",
       "    <tr>\n",
       "      <th>143550</th>\n",
       "      <td>nan</td>\n",
       "      <td>pr</td>\n",
       "      <td>60000.0000</td>\n",
       "      <td>8.0000</td>\n",
       "    </tr>\n",
       "  </tbody>\n",
       "</table>\n",
       "</div>"
      ],
      "text/plain": [
       "       city state       cost  size_kw\n",
       "143550  nan    pr 60000.0000   8.0000"
      ]
     },
     "execution_count": 46,
     "metadata": {},
     "output_type": "execute_result"
    }
   ],
   "source": [
    "# CHECK STATE: PR\n",
    "# puerto rico\n",
    "pv_df[pv_df['state'] == 'pr'][['city', 'state', 'cost', 'size_kw']]"
   ]
  },
  {
   "cell_type": "code",
   "execution_count": 47,
   "metadata": {},
   "outputs": [
    {
     "name": "stdout",
     "output_type": "stream",
     "text": [
      "zipcode <- dtype is object but contains digits\n"
     ]
    }
   ],
   "source": [
    "# NOTE: cost and rebate columns are dtype 'object' although they are supposed to be numeric\n",
    "# test for any digits within object dtype columns\n",
    "col = list(pv_df.columns)\n",
    "for item in col:\n",
    "  if pv_df[item].dtype == np.object:\n",
    "      if pv_df[item].str.isnumeric().any():\n",
    "        print(item, '<- dtype is object but contains digits')"
   ]
  },
  {
   "cell_type": "code",
   "execution_count": 48,
   "metadata": {},
   "outputs": [
    {
     "name": "stdout",
     "output_type": "stream",
     "text": [
      "could not convert string to float: '$9,450'\n"
     ]
    }
   ],
   "source": [
    "# CONVERT TO FLOAT\n",
    "# NOTE: doesn't convert due to error. Strings must be replaced before dtype conversion\n",
    "try:\n",
    "    pv_df.loc[:, 'rebate'] = pv_df.loc[:, 'rebate'].values.astype(float)\n",
    "    pv_df.loc[:, 'cost'] = pv_df.loc[:, 'cost'].values.astype(float)\n",
    "except Exception as e:\n",
    "    print(e)"
   ]
  },
  {
   "cell_type": "code",
   "execution_count": 49,
   "metadata": {},
   "outputs": [
    {
     "data": {
      "text/plain": [
       "4494          $9,450\n",
       "91433          $3.00\n",
       "143679    $18,007.50\n",
       "Name: rebate, dtype: object"
      ]
     },
     "execution_count": 49,
     "metadata": {},
     "output_type": "execute_result"
    }
   ],
   "source": [
    "# extract indices where event occurs (dollar sign)\n",
    "pv_df['rebate'] = pv_df['rebate'].str.strip()\n",
    "ind1, ind2, ind3 = pv_df[pv_df['rebate'].str.contains('\\$')].rebate.index\n",
    "pv_df.loc[[ind1, ind2, ind3], 'rebate']"
   ]
  },
  {
   "cell_type": "code",
   "execution_count": 50,
   "metadata": {},
   "outputs": [
    {
     "data": {
      "text/plain": [
       "array(['$9,450', '$18,007.50'], dtype=object)"
      ]
     },
     "execution_count": 50,
     "metadata": {},
     "output_type": "execute_result"
    }
   ],
   "source": [
    "# rebate col where comma occurs\n",
    "pv_df[pv_df['rebate'].str.contains(',')].rebate.values"
   ]
  },
  {
   "cell_type": "code",
   "execution_count": 51,
   "metadata": {},
   "outputs": [
    {
     "data": {
      "text/plain": [
       "4494          9450\n",
       "91433         3.00\n",
       "143679    18007.50\n",
       "Name: rebate, dtype: object"
      ]
     },
     "execution_count": 51,
     "metadata": {},
     "output_type": "execute_result"
    }
   ],
   "source": [
    "# FUNCTION: look for string 'n/a', dollar sign '$', string 'null', and comma ','\n",
    "# strip all leading and trailing whitespaces\n",
    "\n",
    "# remove characters\n",
    "chars_list = np.char.array(['%', '$', ','])\n",
    "def replace_char(df, chars_ls, repl=''):\n",
    "    df = df.astype(str)\n",
    "    for item in df.values:\n",
    "        for char in chars_ls:\n",
    "            if char in item:\n",
    "                df = df.str.replace(char, repl)\n",
    "    return df\n",
    "\n",
    "pv_df.rebate = replace_char(pv_df.rebate, chars_list)\n",
    "\n",
    "# check indices where event occured\n",
    "# escape character (\\) doesn't seem to be needed to dollar sign\n",
    "pv_df.loc[[ind1, ind2, ind3], 'rebate']"
   ]
  },
  {
   "cell_type": "code",
   "execution_count": 52,
   "metadata": {},
   "outputs": [],
   "source": [
    "# TEST: confirm removal of unwanted characters\n",
    "conditions = [pv_df['rebate'].str.contains('\\$').any(),\n",
    "              pv_df['rebate'].str.contains(',').any(), pv_df['rebate'].str.contains('null').any()]\n",
    "# check for conditions being satisfied\n",
    "for item in conditions:\n",
    "    if item:\n",
    "        print(conditions)\n",
    "        print(\"Test failed. You're not done\")\n"
   ]
  },
  {
   "cell_type": "code",
   "execution_count": 53,
   "metadata": {},
   "outputs": [],
   "source": [
    "# CONVERT TO FLOAT\n",
    "pv_df.loc[:, 'cost'] = pv_df.loc[:, 'cost'].values.astype(float)\n",
    "pv_df.loc[:, 'rebate'] = pv_df.loc[:, 'rebate'].values.astype(float)\n",
    "\n",
    "# assert dtype\n",
    "assert pv_df.loc[:, 'cost'].dtype == np.float\n",
    "assert pv_df.loc[:, 'rebate'].dtype == np.float"
   ]
  },
  {
   "cell_type": "code",
   "execution_count": 54,
   "metadata": {},
   "outputs": [
    {
     "name": "stdout",
     "output_type": "stream",
     "text": [
      "False\n",
      "Series([], Name: city, dtype: object)\n"
     ]
    }
   ],
   "source": [
    "# CITY COLUMN\n",
    "\n",
    "# \\r: ASCII Carriage Return (CR)\n",
    "# =============================================================================\n",
    "\n",
    "# /r implies to skip row and must be removed\n",
    "print(pv_df['city'].str.contains('\\r').any())\n",
    "print(pv_df[pv_df['city'].str.contains('\\r')]['city'])\n",
    "\n",
    "## look for \\r in other columns\n",
    "#obj_col\n",
    "#for item in obj_col:\n",
    "#    if pv_df[item].str.contains('\\r').any():\n",
    "#        print(pv_df[pv_df[item].str.contains('\\r')][item])\n",
    "#\n",
    "#pv_df[pv_df['installer'].str.contains('/r')]['installer']"
   ]
  },
  {
   "cell_type": "code",
   "execution_count": 55,
   "metadata": {},
   "outputs": [
    {
     "name": "stdout",
     "output_type": "stream",
     "text": [
      "start_\n",
      "_start new row\n"
     ]
    }
   ],
   "source": [
    "# test\n",
    "string = 'start_\\r\\n new line \\r_start new row'\n",
    "print(string)\n",
    "# print(string.replace('\\r\\n', ''))"
   ]
  },
  {
   "cell_type": "code",
   "execution_count": 56,
   "metadata": {},
   "outputs": [
    {
     "data": {
      "text/plain": [
       "state                          0.0000\n",
       "county                         0.0000\n",
       "model1_clean                   0.0000\n",
       "utility_clean                  0.0000\n",
       "city                           0.0000\n",
       "installer                      0.0000\n",
       "3rdparty                       0.0000\n",
       "zipcode                        0.0000\n",
       "size_kw                        0.0000\n",
       "incentive_prog_names           0.0000\n",
       "date_installed                 0.0000\n",
       "install_type                   0.0000\n",
       "annual_pv_prod                21.5651\n",
       "annual_insolation             21.5651\n",
       "cost_per_watt                 25.4072\n",
       "cost                          25.4177\n",
       "tech_1                        39.7822\n",
       "tracking_type                 44.1172\n",
       "tilt1                         59.2087\n",
       "azimuth1                      61.5380\n",
       "rebate                        62.5498\n",
       "sales_tax_cost                66.1306\n",
       "reported_annual_energy_prod   79.1423\n",
       "dtype: float64"
      ]
     },
     "execution_count": 56,
     "metadata": {},
     "output_type": "execute_result"
    }
   ],
   "source": [
    "obj_col = [col for col in pv_df.columns.values if pv_df[col].dtype == np.object]\n",
    "\n",
    "percent_missing(pv_df)"
   ]
  },
  {
   "cell_type": "code",
   "execution_count": 57,
   "metadata": {},
   "outputs": [
    {
     "name": "stdout",
     "output_type": "stream",
     "text": [
      "True\n",
      "False\n"
     ]
    }
   ],
   "source": [
    "print(pv_df['city'].str.contains('nan').any())\n",
    "print(pv_df['city'].str.contains('unknown').any())"
   ]
  },
  {
   "cell_type": "code",
   "execution_count": 58,
   "metadata": {},
   "outputs": [
    {
     "name": "stdout",
     "output_type": "stream",
     "text": [
      "True False False\n"
     ]
    }
   ],
   "source": [
    "# check for missing values\n",
    "print(pv_df['county'].str.contains('nan').any(),\n",
    "      pv_df['county'].str.contains('none').any(),\n",
    "      pv_df['county'].str.contains('unknown').any()\n",
    "     )\n"
   ]
  },
  {
   "cell_type": "code",
   "execution_count": 59,
   "metadata": {},
   "outputs": [
    {
     "name": "stdout",
     "output_type": "stream",
     "text": [
      "--------------------------------------------------\n",
      "\n",
      "Searching for keyword: unknown\n",
      "Scanning column... state\n",
      "Scanning column... date_installed\n",
      "Scanning column... incentive_prog_names\n",
      "Scanning column... zipcode\n",
      "Scanning column... installer\n",
      "Scanning column... city\n",
      "Scanning column... utility_clean\n",
      "Scanning column... model1_clean\n",
      "Scanning column... county\n",
      "--------------------------------------------------\n",
      "--------------------------------------------------\n",
      "\n",
      "Searching for keyword: nan\n",
      "Scanning column... state\n",
      "Scanning column... date_installed\n",
      "Scanning column... incentive_prog_names\n",
      "Scanning column... zipcode\n",
      "Scanning column... installer\n",
      "Scanning column... city\n",
      "Scanning column... utility_clean\n",
      "Scanning column... model1_clean\n",
      "Scanning column... county\n",
      "--------------------------------------------------\n",
      "--------------------------------------------------\n",
      "\n",
      "Searching for keyword: none\n",
      "Scanning column... state\n",
      "Scanning column... date_installed\n",
      "Scanning column... incentive_prog_names\n",
      "Scanning column... zipcode\n",
      "Scanning column... installer\n",
      "Scanning column... city\n",
      "Scanning column... utility_clean\n",
      "Scanning column... model1_clean\n",
      "Scanning column... county\n",
      "--------------------------------------------------\n"
     ]
    }
   ],
   "source": [
    "# NOTE:\n",
    "# replace 'unknown' with 'nan' to maintain consistency\n",
    "\n",
    "# FUNCTION: \n",
    "#       count occurances of string 'nan' and 'unknown' in object columns        \n",
    "def find_kw(df, kw='nan'):\n",
    "    \"\"\"\n",
    "    Search for missing values in object columns.\n",
    "    \n",
    "    \"\"\"\n",
    "    print('-'*50)\n",
    "    print('\\nSearching for keyword:', str(kw))\n",
    "#    print(df.county.dtype)\n",
    "    di = dict()\n",
    "    try:\n",
    "        for col in obj_col:\n",
    "            print('Scanning column...', col)\n",
    "            if df.loc[:, col].str.contains(kw).any():\n",
    "                di[col] = df.loc[:, col].value_counts()[str(kw)]\n",
    "    except Exception as e:\n",
    "        print(e)\n",
    "    print('-'*50)\n",
    "    return di\n",
    "  \n",
    "# count occurances of each keyword\n",
    "unknown_dict = find_kw(pv_df, kw='unknown')\n",
    "nan_dict = find_kw(pv_df, kw='nan')\n",
    "none_dict = find_kw(pv_df, kw='none')"
   ]
  },
  {
   "cell_type": "code",
   "execution_count": 60,
   "metadata": {},
   "outputs": [],
   "source": [
    "# REPLACE ALL 'UNKNOWN'\n",
    "for col in list(unknown_dict.keys()):\n",
    "    try:\n",
    "        pv_df[col] = pv_df[col].str.replace('unknown', 'nan')\n",
    "    except Exception as e:\n",
    "        print(e)"
   ]
  },
  {
   "cell_type": "code",
   "execution_count": 61,
   "metadata": {},
   "outputs": [],
   "source": [
    "# SLASHES AND DASHES"
   ]
  },
  {
   "cell_type": "code",
   "execution_count": 62,
   "metadata": {},
   "outputs": [
    {
     "data": {
      "text/plain": [
       "57321                     camden/wy\n",
       "121893             merrick/e meadow\n",
       "138307            fonda/tribes hill\n",
       "142012           ulster park/rifton\n",
       "166985            wall twp./neptune\n",
       "166986            wall twp./neptune\n",
       "175896       southampton/tabernacle\n",
       "181679        belle mead/griggstown\n",
       "184475           hamilton / trenton\n",
       "199907      chester/ blooming grove\n",
       "595085    san pedro/terminal island\n",
       "714180             storrs/mansfield\n",
       "Name: city, dtype: object"
      ]
     },
     "execution_count": 62,
     "metadata": {},
     "output_type": "execute_result"
    }
   ],
   "source": [
    "# city col contains forward slashes\n",
    "# to maintain consistency, remove whitespace before and after '/'\n",
    "#pv_df[pv_df['city'].str.contains('/')].city\n",
    "pv_df[pv_df['city'].str.contains('/', regex=False)].city"
   ]
  },
  {
   "cell_type": "code",
   "execution_count": 63,
   "metadata": {},
   "outputs": [
    {
     "data": {
      "text/plain": [
       "1366          mt. vernon\n",
       "1371          mt. vernon\n",
       "4847           ft. worth\n",
       "4867           ft. worth\n",
       "34489     mt. washington\n",
       "35303       st. michaels\n",
       "35304       st. michaels\n",
       "35305      st. michael's\n",
       "35306       st. michaels\n",
       "35307       st. michaels\n",
       "35745           mt. airy\n",
       "35754           mt. airy\n",
       "35755           mt. airy\n",
       "35760           mt. airy\n",
       "35762           mt. airy\n",
       "35767           mt. airy\n",
       "35768           mt. airy\n",
       "35771           mt. airy\n",
       "35774           mt. airy\n",
       "35775           mt. airy\n",
       "35787           mt. airy\n",
       "35790           mt. airy\n",
       "35793           mt. airy\n",
       "35807           mt. airy\n",
       "35810           mt. airy\n",
       "               ...      \n",
       "868796            sacto.\n",
       "869099            sacto.\n",
       "869100            sacto.\n",
       "869101             sact.\n",
       "869291            sacto.\n",
       "869293            sacto.\n",
       "869298            sacto.\n",
       "869624            sacto.\n",
       "869962            sacto.\n",
       "870151            sacto.\n",
       "883378        mt. shasta\n",
       "883384        mt. shasta\n",
       "883392        mt. shasta\n",
       "883395        mt. shasta\n",
       "884558          mt. hood\n",
       "884559          mt. hood\n",
       "884568        st. helens\n",
       "884569        st. helens\n",
       "884570        st. helens\n",
       "884573        st. helens\n",
       "886403        mt. vernon\n",
       "886449        mt. vernon\n",
       "886457        mt. vernon\n",
       "886504        mt. vernon\n",
       "886520        mt. vernon\n",
       "Name: city, Length: 1339, dtype: object"
      ]
     },
     "execution_count": 63,
     "metadata": {},
     "output_type": "execute_result"
    }
   ],
   "source": [
    "# remove periods for consistency\n",
    "pv_df[pv_df['city'].str.contains('.', regex=False)].city"
   ]
  },
  {
   "cell_type": "code",
   "execution_count": 64,
   "metadata": {},
   "outputs": [
    {
     "data": {
      "text/plain": [
       "26016             carmel-by-the-sea\n",
       "26017             carmel-by-the-sea\n",
       "33495            lutherville-timoni\n",
       "33502            lutherville-timoni\n",
       "33514            lutherville- timon\n",
       "33515            lutherville-timoni\n",
       "33524            lutherville-timoni\n",
       "33538            lutherville-timoni\n",
       "33540            lutherville-timoni\n",
       "33543            lutherville-timoni\n",
       "33545            lutherville-timoni\n",
       "33548            lutherville-timoni\n",
       "33549            lutherville-timoni\n",
       "33556            lutherville-timoni\n",
       "34150                sparks-glencoe\n",
       "37277                    miami-dade\n",
       "57317                camden-wyoming\n",
       "57322                camden-wyoming\n",
       "57329                camden-wyoming\n",
       "57343                camden-wyoming\n",
       "57344                camden-wyoming\n",
       "57346                camden-wyoming\n",
       "57347                camden-wyoming\n",
       "57353                camden-wyoming\n",
       "57354                camden-wyoming\n",
       "57356                camden-wyoming\n",
       "57358                camden-wyoming\n",
       "57362                camden-wyoming\n",
       "82537              bressler-stelton\n",
       "85455          feasterville-trevose\n",
       "160500        parsipanny-troy hills\n",
       "160508        parsippany-troy hills\n",
       "162635               ho-ho-kus boro\n",
       "172897              evesham-marlton\n",
       "175082                     hi-nella\n",
       "179482                  del - haven\n",
       "184450         yardville-groveville\n",
       "197869             croton-on-hudson\n",
       "197871             croton-on-hudson\n",
       "198944    jefferson valley-yorktown\n",
       "259755        manchester-by-the-sea\n",
       "527214      new preston-marble dale\n",
       "884702             mt hood-parkdale\n",
       "886401             milton-freewater\n",
       "Name: city, dtype: object"
      ]
     },
     "execution_count": 64,
     "metadata": {},
     "output_type": "execute_result"
    }
   ],
   "source": [
    "#pv_df[pv_df['city'].str.contains('-')][['city', 'zipcode']]\n",
    "\n",
    "pv_df[pv_df['city'].str.contains('-', regex=False)].city"
   ]
  },
  {
   "cell_type": "code",
   "execution_count": 65,
   "metadata": {},
   "outputs": [
    {
     "name": "stdout",
     "output_type": "stream",
     "text": [
      "True True True\n"
     ]
    }
   ],
   "source": [
    "print(pv_df['city'].str.contains('-', regex=False).any(),\n",
    "      pv_df['city'].str.contains(' -', regex=False).any(),\n",
    "      pv_df['city'].str.contains('- ', regex=False).any(),\n",
    "     )"
   ]
  },
  {
   "cell_type": "code",
   "execution_count": 66,
   "metadata": {},
   "outputs": [
    {
     "data": {
      "text/plain": [
       "['state',\n",
       " 'date_installed',\n",
       " 'incentive_prog_names',\n",
       " 'zipcode',\n",
       " 'installer',\n",
       " 'city',\n",
       " 'utility_clean',\n",
       " 'model1_clean',\n",
       " 'county']"
      ]
     },
     "execution_count": 66,
     "metadata": {},
     "output_type": "execute_result"
    }
   ],
   "source": [
    "# REPLACE SLASHES for consistency\n",
    "# replace slashes then replace the period\n",
    "obj_col"
   ]
  },
  {
   "cell_type": "code",
   "execution_count": 67,
   "metadata": {},
   "outputs": [],
   "source": [
    "cols_ls = ['county', 'city', 'installer', 'utility_clean', 'county']\n",
    "slsh = [' / ', '/ ', ' /']\n",
    "for item in cols_ls:\n",
    "    pv_df[item] = pv_df[item].replace(slsh, '/', regex=True).str.replace('.', '')"
   ]
  },
  {
   "cell_type": "code",
   "execution_count": 68,
   "metadata": {},
   "outputs": [],
   "source": [
    "dashes = [' - ', ' -', '- ']\n",
    "for item in cols_ls:\n",
    "    pv_df[item] = pv_df[item].replace(dashes, '-', regex=True)"
   ]
  },
  {
   "cell_type": "code",
   "execution_count": 69,
   "metadata": {},
   "outputs": [],
   "source": [
    "# TEST results\n",
    "# all cases should be FALSE\n",
    "assert ~np.any([pv_df['city'].str.contains(char).any() for char in slsh])\n",
    "assert ~np.any([pv_df['city'].str.contains(char).any() for char in dashes])\n",
    "assert ~np.any(pv_df[pv_df['city'].str.contains('.', regex=False)].city)"
   ]
  },
  {
   "cell_type": "code",
   "execution_count": 70,
   "metadata": {},
   "outputs": [
    {
     "data": {
      "text/plain": [
       "count   886655.0000\n",
       "mean         7.3808\n",
       "std        849.1664\n",
       "min          0.0056\n",
       "25%          3.8000\n",
       "50%          5.4216\n",
       "75%          7.5600\n",
       "max     737319.0000\n",
       "Name: size_kw, dtype: float64"
      ]
     },
     "execution_count": 70,
     "metadata": {},
     "output_type": "execute_result"
    }
   ],
   "source": [
    "# SIZE KW\n",
    "# =============================================================================\n",
    "# show summary statistics\n",
    "pv_df.size_kw.describe()"
   ]
  },
  {
   "cell_type": "code",
   "execution_count": 71,
   "metadata": {},
   "outputs": [
    {
     "data": {
      "text/html": [
       "<div>\n",
       "<style scoped>\n",
       "    .dataframe tbody tr th:only-of-type {\n",
       "        vertical-align: middle;\n",
       "    }\n",
       "\n",
       "    .dataframe tbody tr th {\n",
       "        vertical-align: top;\n",
       "    }\n",
       "\n",
       "    .dataframe thead th {\n",
       "        text-align: right;\n",
       "    }\n",
       "</style>\n",
       "<table border=\"1\" class=\"dataframe\">\n",
       "  <thead>\n",
       "    <tr style=\"text-align: right;\">\n",
       "      <th></th>\n",
       "      <th>state</th>\n",
       "      <th>size_kw</th>\n",
       "      <th>annual_pv_prod</th>\n",
       "    </tr>\n",
       "  </thead>\n",
       "  <tbody>\n",
       "  </tbody>\n",
       "</table>\n",
       "</div>"
      ],
      "text/plain": [
       "Empty DataFrame\n",
       "Columns: [state, size_kw, annual_pv_prod]\n",
       "Index: []"
      ]
     },
     "execution_count": 71,
     "metadata": {},
     "output_type": "execute_result"
    }
   ],
   "source": [
    "# show missing values\n",
    "missing_val_count(pv_df, 'size_kw', True)[['state', 'size_kw', 'annual_pv_prod']]"
   ]
  },
  {
   "cell_type": "code",
   "execution_count": 72,
   "metadata": {},
   "outputs": [
    {
     "name": "stdout",
     "output_type": "stream",
     "text": [
      "True\n",
      "55\n"
     ]
    }
   ],
   "source": [
    "# INCENTIVE_PROG_NAMES\n",
    "# =============================================================================\n",
    "# explore the missing values\n",
    "#missing_val_count(pv_df, 'incentive_prog_names', True)\n",
    "\n",
    "print(pv_df['incentive_prog_names'].str.contains('nan').any())\n",
    "print(pv_df['incentive_prog_names'].nunique())"
   ]
  },
  {
   "cell_type": "code",
   "execution_count": 73,
   "metadata": {
    "scrolled": true
   },
   "outputs": [
    {
     "data": {
      "text/plain": [
       "california public utilities commission (non-csi net metered systems)      250547\n",
       "nan                                                                       176481\n",
       "california public utilities commission (california solar initiative)      142067\n",
       "new york state energy research and development authority                   40259\n",
       "arizona public service                                                     38045\n",
       "massachusetts clean energy center                                          34007\n",
       "new jersey board of public utilities (srec program)                        30360\n",
       "massachusetts department of energy resources                               23371\n",
       "los angeles department of water & power                                    18808\n",
       "connecticut clean energy finance and investment authority                  15448\n",
       "salt river project                                                         14565\n",
       "nv energy                                                                  13769\n",
       "california energy commission (new solar homes partnership)                 13121\n",
       "tucson electric power                                                      10127\n",
       "sacramento municipal utility district                                       9968\n",
       "maryland energy administration                                              7134\n",
       "new jersey board of public utilities (core & reip programs)                 6824\n",
       "pennsylvania department of environmental protection                         6167\n",
       "new mexico energy, minerals and natural resources department                5293\n",
       "austin energy                                                               4463\n",
       "cps energy                                                                  2813\n",
       "new hampshire public utilities commission                                   2545\n",
       "delaware department of natural resources and environmental control          2507\n",
       "ameren                                                                      2101\n",
       "unisource energy services                                                   1664\n",
       "                                                                           ...  \n",
       "florida energy & climate commission                                         1076\n",
       "roseville electric                                                           965\n",
       "kansas city power & light                                                    851\n",
       "washington, dc department of energy & environment                            775\n",
       "oncor electric delivery company                                              714\n",
       "city of palo alto utilities                                                  710\n",
       "pacific power                                                                354\n",
       "rhode island office of energy resources                                      296\n",
       "el paso electric                                                             274\n",
       "gainesville regional utilities                                               249\n",
       "rocky mountain power                                                         227\n",
       "orlando utilities commission                                                 176\n",
       "rebuild a greener san diego (california center for sustainable energy)       152\n",
       "pacific power (california center for sustainable energy)                     140\n",
       "pennsylvania sustainable development fund                                    135\n",
       "texas central company                                                        104\n",
       "minnesota department of commerce                                             101\n",
       "arkansas state energy office                                                  86\n",
       "bear valley electric (california center for sustainable energy)               78\n",
       "texas north company                                                           53\n",
       "entergy                                                                       47\n",
       "southwestern electric power company                                           23\n",
       "texas new mexico power company                                                19\n",
       "ajo improvement company                                                        3\n",
       "duncan valley electric cooperative                                             1\n",
       "Name: incentive_prog_names, Length: 55, dtype: int64"
      ]
     },
     "execution_count": 73,
     "metadata": {},
     "output_type": "execute_result"
    }
   ],
   "source": [
    "# frequency count of programs\n",
    "#pv_df.groupby(['incentive_prog_names'])['state'].value_counts().sort_values()\n",
    "pv_df['incentive_prog_names'].value_counts().sort_values(ascending=False)"
   ]
  },
  {
   "cell_type": "code",
   "execution_count": 74,
   "metadata": {
    "scrolled": true
   },
   "outputs": [
    {
     "data": {
      "text/plain": [
       "incentive_prog_names\n",
       "pennsylvania sustainable development fund                                20907.5000\n",
       "rebuild a greener san diego (california center for sustainable energy)   20000.0000\n",
       "florida energy & climate commission                                      19712.0000\n",
       "orlando utilities commission                                             18575.0000\n",
       "new jersey board of public utilities (core & reip programs)              17307.5000\n",
       "southwestern electric power company                                      15000.0000\n",
       "texas new mexico power company                                           13860.0000\n",
       "oncor electric delivery company                                          13520.0000\n",
       "entergy                                                                  12500.0000\n",
       "austin energy                                                            11232.0000\n",
       "cps energy                                                               10138.7500\n",
       "nan                                                                       9450.0000\n",
       "texas north company                                                       9200.0000\n",
       "texas central company                                                     9000.0000\n",
       "connecticut clean energy finance and investment authority                 8833.0000\n",
       "ajo improvement company                                                   8280.0000\n",
       "duncan valley electric cooperative                                        8160.0000\n",
       "pennsylvania department of environmental protection                       7613.4660\n",
       "unisource energy services                                                 7520.0000\n",
       "washington, dc department of energy & environment                         7344.0000\n",
       "rhode island office of energy resources                                   6875.0000\n",
       "trico electric cooperative                                                6840.0000\n",
       "gainesville regional utilities                                            6494.3800\n",
       "tucson electric power                                                     6440.0000\n",
       "el paso electric                                                          6420.0000\n",
       "                                                                            ...    \n",
       "bear valley electric (california center for sustainable energy)           4982.0000\n",
       "minnesota department of commerce                                          4800.0000\n",
       "california energy commission (new solar homes partnership)                4757.0000\n",
       "arizona public service                                                    4547.2500\n",
       "rocky mountain power                                                      4242.0000\n",
       "oregon department of energy                                               3760.0000\n",
       "new hampshire public utilities commission                                 3750.0000\n",
       "los angeles department of water & power                                   3027.0000\n",
       "wisconsin focus on energy                                                 2400.0000\n",
       "new jersey board of public utilities (srec program)                       2383.7500\n",
       "massachusetts clean energy center                                         2000.0000\n",
       "salt river project                                                        1920.0000\n",
       "california public utilities commission (california solar initiative)      1710.5000\n",
       "nv energy                                                                 1403.0000\n",
       "sacramento municipal utility district                                     1154.0000\n",
       "maryland energy administration                                            1000.0000\n",
       "ameren                                                                          nan\n",
       "arkansas state energy office                                                    nan\n",
       "california public utilities commission (non-csi net metered systems)            nan\n",
       "kansas city power & light                                                       nan\n",
       "massachusetts department of energy resources                                    nan\n",
       "new mexico energy, minerals and natural resources department                    nan\n",
       "ohio public utilities commission                                                nan\n",
       "pacific power                                                                   nan\n",
       "roseville electric                                                              nan\n",
       "Name: rebate, Length: 55, dtype: float64"
      ]
     },
     "execution_count": 74,
     "metadata": {},
     "output_type": "execute_result"
    }
   ],
   "source": [
    "# REBATE for each state\n",
    "# median rebate offered by each program\n",
    "pv_df.groupby(['incentive_prog_names'])['rebate'].median().sort_values(ascending=False)"
   ]
  },
  {
   "cell_type": "code",
   "execution_count": 75,
   "metadata": {
    "scrolled": true
   },
   "outputs": [
    {
     "data": {
      "text/plain": [
       "state\n",
       "fl   19320.0000\n",
       "ar   18007.5000\n",
       "nj   17272.5000\n",
       "tx   10642.5000\n",
       "ct    8833.0000\n",
       "pa    7875.0000\n",
       "dc    7344.0000\n",
       "ri    6875.0000\n",
       "de    6347.5000\n",
       "ny    6120.0000\n",
       "mn    4800.0000\n",
       "ut    4242.0000\n",
       "or    3760.0000\n",
       "nh    3750.0000\n",
       "az    3666.0000\n",
       "wi    2400.0000\n",
       "ca    2041.0000\n",
       "ma    2000.0000\n",
       "nv    1403.0000\n",
       "md    1000.0000\n",
       "ak          nan\n",
       "al          nan\n",
       "co          nan\n",
       "ga          nan\n",
       "hi          nan\n",
       "        ...    \n",
       "il          nan\n",
       "in          nan\n",
       "ks          nan\n",
       "ky          nan\n",
       "la          nan\n",
       "me          nan\n",
       "mi          nan\n",
       "mo          nan\n",
       "ms          nan\n",
       "mt          nan\n",
       "nc          nan\n",
       "nd          nan\n",
       "ne          nan\n",
       "nm          nan\n",
       "oh          nan\n",
       "ok          nan\n",
       "pr          nan\n",
       "sc          nan\n",
       "sd          nan\n",
       "tn          nan\n",
       "va          nan\n",
       "vt          nan\n",
       "wa          nan\n",
       "wv          nan\n",
       "wy          nan\n",
       "Name: rebate, Length: 52, dtype: float64"
      ]
     },
     "execution_count": 75,
     "metadata": {},
     "output_type": "execute_result"
    }
   ],
   "source": [
    "pv_df.groupby(['state'])['rebate'].median().sort_values(ascending=False)\n",
    "#pv_df.groupby(['state'])['cost'].median().sort_values(ascending=False)"
   ]
  },
  {
   "cell_type": "code",
   "execution_count": 76,
   "metadata": {},
   "outputs": [
    {
     "name": "stdout",
     "output_type": "stream",
     "text": [
      "('cost', 225367)\n"
     ]
    },
    {
     "data": {
      "text/plain": [
       "count    661288.0000\n",
       "mean      34092.6601\n",
       "std       31691.9520\n",
       "min         227.0000\n",
       "25%       21025.8200\n",
       "50%       29665.0000\n",
       "75%       41296.0000\n",
       "max     3940000.0000\n",
       "Name: cost, dtype: float64"
      ]
     },
     "execution_count": 76,
     "metadata": {},
     "output_type": "execute_result"
    }
   ],
   "source": [
    "# MISSING VALUES: cost\n",
    "# =============================================================================\n",
    "print(missing_val_count(pv_df, 'cost'))\n",
    "pv_df['cost'].describe()\n",
    "\n",
    "# fill cost by install type\n",
    "# groupby install_type, and calculate median size for each\n",
    "\n",
    "# NOTE:\n",
    "#       do not fill missing vals at this moment\n",
    "#       wait until ML to fill, trying using mean and median"
   ]
  },
  {
   "cell_type": "code",
   "execution_count": 77,
   "metadata": {},
   "outputs": [
    {
     "name": "stdout",
     "output_type": "stream",
     "text": [
      "count   661381.0000\n",
      "mean         5.7947\n",
      "std          1.9900\n",
      "min          0.0000\n",
      "25%          4.5400\n",
      "50%          5.4090\n",
      "75%          6.9300\n",
      "max         29.8252\n",
      "Name: cost_per_watt, dtype: float64 \n",
      " ('cost_per_watt', 225274)\n"
     ]
    }
   ],
   "source": [
    "# SUMMARY STATS: cost_per_watt\n",
    "# =============================================================================\n",
    "\n",
    "print(pv_df['cost_per_watt'].describe(),\n",
    "      '\\n',\n",
    "      missing_val_count(pv_df, 'cost_per_watt')\n",
    "     )\n"
   ]
  },
  {
   "cell_type": "code",
   "execution_count": 78,
   "metadata": {},
   "outputs": [
    {
     "data": {
      "text/html": [
       "<div>\n",
       "<style scoped>\n",
       "    .dataframe tbody tr th:only-of-type {\n",
       "        vertical-align: middle;\n",
       "    }\n",
       "\n",
       "    .dataframe tbody tr th {\n",
       "        vertical-align: top;\n",
       "    }\n",
       "\n",
       "    .dataframe thead th {\n",
       "        text-align: right;\n",
       "    }\n",
       "</style>\n",
       "<table border=\"1\" class=\"dataframe\">\n",
       "  <thead>\n",
       "    <tr style=\"text-align: right;\">\n",
       "      <th></th>\n",
       "      <th>cost_per_watt</th>\n",
       "      <th>cost</th>\n",
       "      <th>size_kw</th>\n",
       "      <th>annual_pv_prod</th>\n",
       "    </tr>\n",
       "  </thead>\n",
       "  <tbody>\n",
       "    <tr>\n",
       "      <th>0</th>\n",
       "      <td>2.8978</td>\n",
       "      <td>30600.5300</td>\n",
       "      <td>10.5600</td>\n",
       "      <td>14999.8316</td>\n",
       "    </tr>\n",
       "    <tr>\n",
       "      <th>1</th>\n",
       "      <td>3.1447</td>\n",
       "      <td>40000.0000</td>\n",
       "      <td>12.7200</td>\n",
       "      <td>17811.5744</td>\n",
       "    </tr>\n",
       "    <tr>\n",
       "      <th>2</th>\n",
       "      <td>4.1973</td>\n",
       "      <td>22665.5800</td>\n",
       "      <td>5.4000</td>\n",
       "      <td>7833.7428</td>\n",
       "    </tr>\n",
       "    <tr>\n",
       "      <th>3</th>\n",
       "      <td>3.7500</td>\n",
       "      <td>28125.0000</td>\n",
       "      <td>7.5000</td>\n",
       "      <td>10151.7096</td>\n",
       "    </tr>\n",
       "    <tr>\n",
       "      <th>4</th>\n",
       "      <td>3.8500</td>\n",
       "      <td>19250.0000</td>\n",
       "      <td>5.0000</td>\n",
       "      <td>7307.1338</td>\n",
       "    </tr>\n",
       "    <tr>\n",
       "      <th>5</th>\n",
       "      <td>3.6899</td>\n",
       "      <td>12398.0300</td>\n",
       "      <td>3.3600</td>\n",
       "      <td>4787.5505</td>\n",
       "    </tr>\n",
       "    <tr>\n",
       "      <th>6</th>\n",
       "      <td>3.0240</td>\n",
       "      <td>45905.0000</td>\n",
       "      <td>15.1800</td>\n",
       "      <td>nan</td>\n",
       "    </tr>\n",
       "    <tr>\n",
       "      <th>7</th>\n",
       "      <td>3.4955</td>\n",
       "      <td>24468.3900</td>\n",
       "      <td>7.0000</td>\n",
       "      <td>9941.3441</td>\n",
       "    </tr>\n",
       "    <tr>\n",
       "      <th>8</th>\n",
       "      <td>5.2327</td>\n",
       "      <td>12558.4200</td>\n",
       "      <td>2.4000</td>\n",
       "      <td>3409.0526</td>\n",
       "    </tr>\n",
       "    <tr>\n",
       "      <th>9</th>\n",
       "      <td>3.4444</td>\n",
       "      <td>15500.0000</td>\n",
       "      <td>4.5000</td>\n",
       "      <td>5993.9495</td>\n",
       "    </tr>\n",
       "  </tbody>\n",
       "</table>\n",
       "</div>"
      ],
      "text/plain": [
       "   cost_per_watt       cost  size_kw  annual_pv_prod\n",
       "0         2.8978 30600.5300  10.5600      14999.8316\n",
       "1         3.1447 40000.0000  12.7200      17811.5744\n",
       "2         4.1973 22665.5800   5.4000       7833.7428\n",
       "3         3.7500 28125.0000   7.5000      10151.7096\n",
       "4         3.8500 19250.0000   5.0000       7307.1338\n",
       "5         3.6899 12398.0300   3.3600       4787.5505\n",
       "6         3.0240 45905.0000  15.1800             nan\n",
       "7         3.4955 24468.3900   7.0000       9941.3441\n",
       "8         5.2327 12558.4200   2.4000       3409.0526\n",
       "9         3.4444 15500.0000   4.5000       5993.9495"
      ]
     },
     "execution_count": 78,
     "metadata": {},
     "output_type": "execute_result"
    }
   ],
   "source": [
    "# explore the columns\n",
    "pv_df[['cost_per_watt', 'cost', 'size_kw', 'annual_pv_prod']].head(10)\n",
    "\n",
    "# NOTE:\n",
    "#       do not fill missing vals at this moment\n",
    "#       wait until ML to fill, trying using mean and median"
   ]
  },
  {
   "cell_type": "code",
   "execution_count": 79,
   "metadata": {},
   "outputs": [
    {
     "name": "stdout",
     "output_type": "stream",
     "text": [
      "count       695447.0000\n",
      "mean         11461.0805\n",
      "std        1446838.6639\n",
      "min              8.6602\n",
      "25%           5745.1178\n",
      "50%           8125.0994\n",
      "75%          11199.7587\n",
      "max     1113475807.0000\n",
      "Name: annual_pv_prod, dtype: float64\n",
      "('annual_pv_prod', 191208)\n"
     ]
    }
   ],
   "source": [
    "#%% SUMMARY STATS: annual_PV_prod (estimated production)\n",
    "# =============================================================================\n",
    "\n",
    "# having all values for 'size_kw', fill in missing values in 'annual_pv_prod'\n",
    "print(pv_df['annual_pv_prod'].describe())\n",
    "print(missing_val_count(pv_df, 'annual_pv_prod'))\n",
    "#print(missing_val_count(pv_df, 'annual_pv_prod', True)[['annual_pv_prod', 'size_kw', 'annual_insolation']])\n"
   ]
  },
  {
   "cell_type": "code",
   "execution_count": 80,
   "metadata": {},
   "outputs": [
    {
     "data": {
      "image/png": "[encoded data removed]",
      "text/plain": [
       "<Figure size 432x288 with 1 Axes>"
      ]
     },
     "metadata": {
      "needs_background": "light"
     },
     "output_type": "display_data"
    }
   ],
   "source": [
    "# quick plot to see relationship between annual PV prod and size_kw\n",
    "plt.scatter(pv_df['annual_pv_prod'].values,\n",
    "            pv_df['size_kw'].values,\n",
    "            marker = '.',\n",
    "            alpha = 0.5,\n",
    "            )\n",
    "plt.show()"
   ]
  },
  {
   "cell_type": "code",
   "execution_count": 81,
   "metadata": {},
   "outputs": [
    {
     "data": {
      "image/png": "[encoded data removed]",
      "text/plain": [
       "<Figure size 432x288 with 1 Axes>"
      ]
     },
     "metadata": {
      "needs_background": "light"
     },
     "output_type": "display_data"
    }
   ],
   "source": [
    "# use mask to reduce outlier impact\n",
    "plt.scatter(pv_df[pv_df['annual_pv_prod']<60000].annual_pv_prod.values,\n",
    "            pv_df[pv_df['annual_pv_prod']<60000].size_kw.values,\n",
    "            marker = '.',\n",
    "            alpha = 0.5,\n",
    "            )\n",
    "plt.show()"
   ]
  },
  {
   "cell_type": "code",
   "execution_count": 82,
   "metadata": {},
   "outputs": [
    {
     "name": "stdout",
     "output_type": "stream",
     "text": [
      "count   695447.0000\n",
      "mean      1481.9326\n",
      "std        165.6300\n",
      "min        345.4355\n",
      "25%       1334.8381\n",
      "50%       1528.7861\n",
      "75%       1572.1466\n",
      "max       1825.9442\n",
      "Name: annual_pv_prod, dtype: float64\n",
      "191208\n"
     ]
    }
   ],
   "source": [
    "# FILL MISSING VALUES OF ANNUAL PV PRODUCTION\n",
    "\n",
    "# common denominator = annual_pv_produced / system_size\n",
    "pv_df['size_kw'].describe()\n",
    "common_denom = pv_df['annual_pv_prod'] / pv_df['size_kw'].values\n",
    "\n",
    "print(common_denom.describe())\n",
    "print(np.count_nonzero(common_denom.isnull().values))\n",
    "# NOTE:\n",
    "#       mean and median are nearly equal and stand. dev. is relatively small\n",
    "#       therefore, this could be a reasonably accurate method to fillna\n",
    "#       Also, size of the system will generally determine the output"
   ]
  },
  {
   "cell_type": "code",
   "execution_count": 83,
   "metadata": {},
   "outputs": [
    {
     "data": {
      "text/plain": [
       "count      695447.0000\n",
       "mean         2169.2121\n",
       "std        264375.8555\n",
       "min             1.6112\n",
       "25%          1096.5823\n",
       "50%          1548.3317\n",
       "75%          2144.6585\n",
       "max     203459281.7182\n",
       "Name: annual_pv_prod, dtype: float64"
      ]
     },
     "execution_count": 83,
     "metadata": {},
     "output_type": "execute_result"
    }
   ],
   "source": [
    "# annual insol common denominator \n",
    "pv_df['annual_insolation'].describe()\n",
    "common_denom_insol = pv_df['annual_pv_prod'] / pv_df['annual_insolation'].values\n",
    "common_denom_insol.describe()\n",
    "# not as good as using size_kw"
   ]
  },
  {
   "cell_type": "code",
   "execution_count": 84,
   "metadata": {},
   "outputs": [
    {
     "data": {
      "text/plain": [
       "count   886655.0000\n",
       "mean      1492.0366\n",
       "std        147.9479\n",
       "min        345.4355\n",
       "25%       1405.8169\n",
       "50%       1528.7861\n",
       "75%       1560.7252\n",
       "max       1825.9442\n",
       "Name: annual_pv_prod, dtype: float64"
      ]
     },
     "execution_count": 84,
     "metadata": {},
     "output_type": "execute_result"
    }
   ],
   "source": [
    "# NOTE:\n",
    "#     common denom has missing values as a result\n",
    "#     fill missing values with its median\n",
    "common_denom = common_denom.fillna(common_denom.median())\n",
    "common_denom.describe()"
   ]
  },
  {
   "cell_type": "code",
   "execution_count": 85,
   "metadata": {},
   "outputs": [
    {
     "name": "stdout",
     "output_type": "stream",
     "text": [
      "count       886655.0000\n",
      "mean         10984.7394\n",
      "std        1282398.4804\n",
      "min              8.6602\n",
      "25%           5640.4733\n",
      "50%           8037.7193\n",
      "75%          11161.7068\n",
      "max     1113475807.0000\n",
      "Name: annual_pv_prod, dtype: float64\n",
      "count       695447.0000\n",
      "mean         11461.0805\n",
      "std        1446838.6639\n",
      "min              8.6602\n",
      "25%           5745.1178\n",
      "50%           8125.0994\n",
      "75%          11199.7587\n",
      "max     1113475807.0000\n",
      "Name: annual_pv_prod, dtype: float64\n"
     ]
    }
   ],
   "source": [
    "# COMPARE TWO RESULTS\n",
    "\n",
    "# annual pv fill = common_denom * size\n",
    "annual_pv_infer = common_denom * pv_df['size_kw'].values\n",
    "print(annual_pv_infer.describe())\n",
    "print(pv_df['annual_pv_prod'].describe())"
   ]
  },
  {
   "cell_type": "code",
   "execution_count": 86,
   "metadata": {},
   "outputs": [
    {
     "data": {
      "text/plain": [
       "0"
      ]
     },
     "execution_count": 86,
     "metadata": {},
     "output_type": "execute_result"
    }
   ],
   "source": [
    "np.count_nonzero(annual_pv_infer.isnull())"
   ]
  },
  {
   "cell_type": "code",
   "execution_count": 87,
   "metadata": {},
   "outputs": [
    {
     "data": {
      "text/plain": [
       "count   695447.0000\n",
       "mean         0.0000\n",
       "std          0.0000\n",
       "min          0.0000\n",
       "25%          0.0000\n",
       "50%          0.0000\n",
       "75%          0.0000\n",
       "max          0.0000\n",
       "Name: annual_pv_prod, dtype: float64"
      ]
     },
     "execution_count": 87,
     "metadata": {},
     "output_type": "execute_result"
    }
   ],
   "source": [
    "# check the error between actual and calculated energy production\n",
    "error = abs(annual_pv_infer - pv_df['annual_pv_prod']) / pv_df['annual_pv_prod']\n",
    "error.describe()"
   ]
  },
  {
   "cell_type": "code",
   "execution_count": 88,
   "metadata": {},
   "outputs": [
    {
     "name": "stdout",
     "output_type": "stream",
     "text": [
      "count       886655.0000\n",
      "mean         10984.7394\n",
      "std        1282398.4804\n",
      "min              8.6602\n",
      "25%           5640.4733\n",
      "50%           8037.7193\n",
      "75%          11161.7068\n",
      "max     1113475807.0000\n",
      "Name: annual_pv_prod, dtype: float64\n"
     ]
    },
    {
     "data": {
      "text/plain": [
       "0"
      ]
     },
     "execution_count": 88,
     "metadata": {},
     "output_type": "execute_result"
    }
   ],
   "source": [
    "# fill missing values\n",
    "pv_df['annual_pv_prod'] = pv_df['annual_pv_prod'].fillna(annual_pv_infer)\n",
    "print(pv_df['annual_pv_prod'].describe())\n",
    "\n",
    "# count missing vals again\n",
    "np.count_nonzero(common_denom.isnull().values)"
   ]
  },
  {
   "cell_type": "code",
   "execution_count": 89,
   "metadata": {},
   "outputs": [
    {
     "name": "stdout",
     "output_type": "stream",
     "text": [
      "count    184936.0000\n",
      "mean       9136.9687\n",
      "std       12138.9366\n",
      "min           0.8841\n",
      "25%        5518.0000\n",
      "50%        8070.1500\n",
      "75%       11311.0000\n",
      "max     3263750.0000\n",
      "Name: reported_annual_energy_prod, dtype: float64\n"
     ]
    },
    {
     "data": {
      "text/html": [
       "<div>\n",
       "<style scoped>\n",
       "    .dataframe tbody tr th:only-of-type {\n",
       "        vertical-align: middle;\n",
       "    }\n",
       "\n",
       "    .dataframe tbody tr th {\n",
       "        vertical-align: top;\n",
       "    }\n",
       "\n",
       "    .dataframe thead th {\n",
       "        text-align: right;\n",
       "    }\n",
       "</style>\n",
       "<table border=\"1\" class=\"dataframe\">\n",
       "  <thead>\n",
       "    <tr style=\"text-align: right;\">\n",
       "      <th></th>\n",
       "      <th>reported_annual_energy_prod</th>\n",
       "      <th>annual_pv_prod</th>\n",
       "    </tr>\n",
       "  </thead>\n",
       "  <tbody>\n",
       "    <tr>\n",
       "      <th>0</th>\n",
       "      <td>13836.0000</td>\n",
       "      <td>14999.8316</td>\n",
       "    </tr>\n",
       "    <tr>\n",
       "      <th>1</th>\n",
       "      <td>16419.0000</td>\n",
       "      <td>17811.5744</td>\n",
       "    </tr>\n",
       "    <tr>\n",
       "      <th>2</th>\n",
       "      <td>7235.0000</td>\n",
       "      <td>7833.7428</td>\n",
       "    </tr>\n",
       "    <tr>\n",
       "      <th>3</th>\n",
       "      <td>9340.0000</td>\n",
       "      <td>10151.7096</td>\n",
       "    </tr>\n",
       "    <tr>\n",
       "      <th>4</th>\n",
       "      <td>6729.0000</td>\n",
       "      <td>7307.1338</td>\n",
       "    </tr>\n",
       "  </tbody>\n",
       "</table>\n",
       "</div>"
      ],
      "text/plain": [
       "   reported_annual_energy_prod  annual_pv_prod\n",
       "0                   13836.0000      14999.8316\n",
       "1                   16419.0000      17811.5744\n",
       "2                    7235.0000       7833.7428\n",
       "3                    9340.0000      10151.7096\n",
       "4                    6729.0000       7307.1338"
      ]
     },
     "execution_count": 89,
     "metadata": {},
     "output_type": "execute_result"
    }
   ],
   "source": [
    "#%% SUMMARY STATS: reported_annual_energy_prod\n",
    "# =============================================================================\n",
    "# count and explore missing values\n",
    "# 833,466 missing values\n",
    "missing_val_count(pv_df, 'reported_annual_energy_prod', True)\n",
    "# this may be too many missing values to fill as it may lead to a lrager error\n",
    "\n",
    "print(pv_df['reported_annual_energy_prod'].describe())\n",
    "\n",
    "pv_df[['reported_annual_energy_prod', 'annual_pv_prod']].head()"
   ]
  },
  {
   "cell_type": "code",
   "execution_count": 90,
   "metadata": {},
   "outputs": [
    {
     "name": "stdout",
     "output_type": "stream",
     "text": [
      "('annual_insolation', 191208)\n",
      "count   695447.0000\n",
      "mean         5.2936\n",
      "std          0.7182\n",
      "min          1.1775\n",
      "25%          4.6181\n",
      "50%          5.4184\n",
      "75%          5.7036\n",
      "max          6.7613\n",
      "Name: annual_insolation, dtype: float64\n"
     ]
    }
   ],
   "source": [
    "# SUMMARY STATS: annual_insolation\n",
    "# use API to fill missing values\n",
    "# =============================================================================\n",
    "print(missing_val_count(pv_df, 'annual_insolation'))\n",
    "print(pv_df['annual_insolation'].describe())"
   ]
  },
  {
   "cell_type": "code",
   "execution_count": 91,
   "metadata": {},
   "outputs": [
    {
     "data": {
      "text/plain": [
       "count   23.0000\n",
       "mean     4.8633\n",
       "std      0.6835\n",
       "min      4.2099\n",
       "25%      4.3924\n",
       "50%      4.5930\n",
       "75%      5.1454\n",
       "max      6.4643\n",
       "Name: annual_insolation, dtype: float64"
      ]
     },
     "execution_count": 91,
     "metadata": {},
     "output_type": "execute_result"
    }
   ],
   "source": [
    "# explore: insolation rate for each state\n",
    "# insolation too high for some states: DO NOT USE\n",
    "state_insol = pv_df.groupby('state')['annual_insolation'].mean()\n",
    "state_insol.sort_values()\n",
    "state_insol.describe()"
   ]
  },
  {
   "cell_type": "code",
   "execution_count": null,
   "metadata": {},
   "outputs": [],
   "source": []
  },
  {
   "cell_type": "code",
   "execution_count": 92,
   "metadata": {},
   "outputs": [
    {
     "data": {
      "text/html": [
       "<div>\n",
       "<style scoped>\n",
       "    .dataframe tbody tr th:only-of-type {\n",
       "        vertical-align: middle;\n",
       "    }\n",
       "\n",
       "    .dataframe tbody tr th {\n",
       "        vertical-align: top;\n",
       "    }\n",
       "\n",
       "    .dataframe thead th {\n",
       "        text-align: right;\n",
       "    }\n",
       "</style>\n",
       "<table border=\"1\" class=\"dataframe\">\n",
       "  <thead>\n",
       "    <tr style=\"text-align: right;\">\n",
       "      <th></th>\n",
       "      <th>solar_rad</th>\n",
       "      <th>county</th>\n",
       "      <th>state</th>\n",
       "    </tr>\n",
       "  </thead>\n",
       "  <tbody>\n",
       "    <tr>\n",
       "      <th>0</th>\n",
       "      <td>5.4921</td>\n",
       "      <td>travis</td>\n",
       "      <td>tx</td>\n",
       "    </tr>\n",
       "    <tr>\n",
       "      <th>1</th>\n",
       "      <td>5.8094</td>\n",
       "      <td>seminole</td>\n",
       "      <td>fl</td>\n",
       "    </tr>\n",
       "    <tr>\n",
       "      <th>2</th>\n",
       "      <td>6.5416</td>\n",
       "      <td>pinal</td>\n",
       "      <td>az</td>\n",
       "    </tr>\n",
       "    <tr>\n",
       "      <th>3</th>\n",
       "      <td>6.5697</td>\n",
       "      <td>pima</td>\n",
       "      <td>az</td>\n",
       "    </tr>\n",
       "    <tr>\n",
       "      <th>4</th>\n",
       "      <td>5.3960</td>\n",
       "      <td>orange</td>\n",
       "      <td>fl</td>\n",
       "    </tr>\n",
       "  </tbody>\n",
       "</table>\n",
       "</div>"
      ],
      "text/plain": [
       "   solar_rad    county state\n",
       "0     5.4921    travis    tx\n",
       "1     5.8094  seminole    fl\n",
       "2     6.5416     pinal    az\n",
       "3     6.5697      pima    az\n",
       "4     5.3960    orange    fl"
      ]
     },
     "execution_count": 92,
     "metadata": {},
     "output_type": "execute_result"
    }
   ],
   "source": [
    "# NREL API\n",
    "# =============================================================================\n",
    "insol_df = pd.read_csv('insolation_df.csv')\n",
    "insol_df.head()"
   ]
  },
  {
   "cell_type": "code",
   "execution_count": 93,
   "metadata": {},
   "outputs": [],
   "source": [
    "# insol_df['county_state'].head()"
   ]
  },
  {
   "cell_type": "code",
   "execution_count": 94,
   "metadata": {},
   "outputs": [],
   "source": [
    "# NOTE: \n",
    "# - this needs to be done only the first time that the insolation DF is loaded \n",
    "\n",
    "# temp = insol_df['county_state'].str.split(',', expand=True)\n",
    "# insol_df['county'] = temp[0]\n",
    "# insol_df['state'] = temp[1]\n",
    "# insol_df.drop(columns = ['county_state'], inplace=True)\n",
    "# insol_df.head()"
   ]
  },
  {
   "cell_type": "code",
   "execution_count": 95,
   "metadata": {},
   "outputs": [],
   "source": [
    "# Write insolation_df to file\n",
    "insol_df.to_csv('insolation_df.csv', encoding='utf-8', index=False)"
   ]
  },
  {
   "cell_type": "code",
   "execution_count": 96,
   "metadata": {},
   "outputs": [
    {
     "data": {
      "text/plain": [
       "state                          0.0000\n",
       "annual_pv_prod                 0.0000\n",
       "county                         0.0000\n",
       "model1_clean                   0.0000\n",
       "utility_clean                  0.0000\n",
       "city                           0.0000\n",
       "3rdparty                       0.0000\n",
       "install_type                   0.0000\n",
       "zipcode                        0.0000\n",
       "size_kw                        0.0000\n",
       "incentive_prog_names           0.0000\n",
       "date_installed                 0.0000\n",
       "installer                      0.0000\n",
       "annual_insolation             21.5651\n",
       "cost_per_watt                 25.4072\n",
       "cost                          25.4177\n",
       "tech_1                        39.7822\n",
       "tracking_type                 44.1172\n",
       "tilt1                         59.2087\n",
       "azimuth1                      61.5380\n",
       "rebate                        62.5498\n",
       "sales_tax_cost                66.1306\n",
       "reported_annual_energy_prod   79.1423\n",
       "dtype: float64"
      ]
     },
     "execution_count": 96,
     "metadata": {},
     "output_type": "execute_result"
    }
   ],
   "source": [
    "percent_missing(pv_df)"
   ]
  },
  {
   "cell_type": "code",
   "execution_count": 97,
   "metadata": {},
   "outputs": [],
   "source": [
    "#pv_df = drop_n_reset(pv_df)\n",
    "#pv_df.info()"
   ]
  },
  {
   "cell_type": "code",
   "execution_count": 98,
   "metadata": {},
   "outputs": [
    {
     "name": "stdout",
     "output_type": "stream",
     "text": [
      "File written to: C:\\Users\\smouz\\OneDrive\\Desktop\\DataSci\\Python\\SP-Capstone-PY\\Capstone\n"
     ]
    }
   ],
   "source": [
    "# WRITE FILE\n",
    "# =============================================================================\n",
    "# write to file cleaned data before merging with other DFs\n",
    "pv_df.to_csv('pv_df_short.csv', encoding='utf-8', na_rep='NA', index=False)\n",
    "print('File written to:', os.getcwd())"
   ]
  },
  {
   "cell_type": "code",
   "execution_count": 99,
   "metadata": {},
   "outputs": [],
   "source": [
    "# MERGE DFs\n",
    "\n",
    "# Merge the following daaframes into one:\n",
    "# - solar radiation(insolation)\n",
    "# - incentives\n",
    "# - state abbreviations\n",
    "# - population\n",
    "\n",
    "# function to load DFs\n",
    "def load_csv(file_name):\n",
    "    df = pd.read_csv(file_name, low_memory=False)\n",
    "    return df"
   ]
  },
  {
   "cell_type": "code",
   "execution_count": 100,
   "metadata": {},
   "outputs": [],
   "source": [
    "incentives_df = load_csv('incentives_df.csv')\n",
    "states_abbv = load_csv('states_abbreviation.csv')\n",
    "pop_df = load_csv('population_df.csv')\n",
    "insolation_df = load_csv('insolation_df.csv')"
   ]
  },
  {
   "cell_type": "code",
   "execution_count": 101,
   "metadata": {},
   "outputs": [
    {
     "name": "stdout",
     "output_type": "stream",
     "text": [
      "<class 'pandas.core.frame.DataFrame'>\n",
      "RangeIndex: 886655 entries, 0 to 886654\n",
      "Data columns (total 23 columns):\n",
      "state                          886655 non-null object\n",
      "date_installed                 886655 non-null object\n",
      "incentive_prog_names           710174 non-null object\n",
      "size_kw                        886655 non-null float64\n",
      "zipcode                        886655 non-null int64\n",
      "install_type                   886655 non-null object\n",
      "installer                      641410 non-null object\n",
      "cost_per_watt                  661381 non-null float64\n",
      "cost                           661288 non-null float64\n",
      "city                           712730 non-null object\n",
      "utility_clean                  706910 non-null object\n",
      "tech_1                         533924 non-null object\n",
      "model1_clean                   533924 non-null object\n",
      "county                         877357 non-null object\n",
      "annual_pv_prod                 886655 non-null float64\n",
      "annual_insolation              695447 non-null float64\n",
      "rebate                         332054 non-null float64\n",
      "sales_tax_cost                 300305 non-null float64\n",
      "tilt1                          361678 non-null float64\n",
      "tracking_type                  495488 non-null object\n",
      "azimuth1                       341025 non-null float64\n",
      "reported_annual_energy_prod    184936 non-null float64\n",
      "3rdparty                       886655 non-null int64\n",
      "dtypes: float64(10), int64(2), object(11)\n",
      "memory usage: 155.6+ MB\n"
     ]
    }
   ],
   "source": [
    "pv_df = load_csv('pv_df_short.csv')\n",
    "pv_df.info()"
   ]
  },
  {
   "cell_type": "code",
   "execution_count": 102,
   "metadata": {},
   "outputs": [
    {
     "name": "stdout",
     "output_type": "stream",
     "text": [
      "  abbreviation            full\n",
      "0           ak          alaska\n",
      "1           al         alabama\n",
      "2           ar        arkansas\n",
      "3           as  american samoa\n",
      "4           az         arizona \n",
      "\n",
      "          cities  population        states\n",
      "0      new york     8405837      new york\n",
      "1   los angeles     3884307    california\n",
      "2       chicago     2718782      illinois\n",
      "3       houston     2195914         texas\n",
      "4  philadelphia     1553165  pennsylvania \n",
      "\n",
      "         county_state  incentive_count\n",
      "0         travis, tx               38\n",
      "1      san mateo, ca               59\n",
      "2     williamson, tx               41\n",
      "3    santa clara, ca               59\n",
      "4  san francisco, ca               59 \n",
      "\n",
      "    solar_rad    county state\n",
      "0     5.4921    travis    tx\n",
      "1     5.8094  seminole    fl\n",
      "2     6.5416     pinal    az\n",
      "3     6.5697      pima    az\n",
      "4     5.3960    orange    fl\n"
     ]
    }
   ],
   "source": [
    "print(states_abbv.head(),\n",
    "      '\\n\\n',\n",
    "     pop_df.head(),\n",
    "      '\\n\\n',\n",
    "      incentives_df.head(),\n",
    "      '\\n\\n',\n",
    "      insolation_df.head(),\n",
    "     )"
   ]
  },
  {
   "cell_type": "code",
   "execution_count": 103,
   "metadata": {},
   "outputs": [],
   "source": [
    "# split columns into county and state, save to temporary series\n",
    "tmp = incentives_df['county_state'].str.split(',', expand=True)\n",
    "tmp\n",
    "# rename columns\n",
    "incentives_df['county'] = tmp[0]\n",
    "incentives_df['state'] = tmp[1]\n",
    "# drop column 'county_state'\n",
    "incentives_df.drop(columns='county_state', inplace=True)"
   ]
  },
  {
   "cell_type": "code",
   "execution_count": 104,
   "metadata": {},
   "outputs": [],
   "source": [
    "# strip leading spaces on 'state'\n",
    "incentives_df['state'] = incentives_df['state'].str.strip()\n",
    "# incentives_df"
   ]
  },
  {
   "cell_type": "code",
   "execution_count": 105,
   "metadata": {},
   "outputs": [],
   "source": [
    "insolation_df['state'] = insolation_df['state'].str.strip()"
   ]
  },
  {
   "cell_type": "code",
   "execution_count": 106,
   "metadata": {
    "scrolled": true
   },
   "outputs": [
    {
     "data": {
      "text/plain": [
       "state                          0.0000\n",
       "annual_pv_prod                 0.0000\n",
       "install_type                   0.0000\n",
       "zipcode                        0.0000\n",
       "3rdparty                       0.0000\n",
       "date_installed                 0.0000\n",
       "size_kw                        0.0000\n",
       "county                         1.0487\n",
       "city                          19.6159\n",
       "incentive_prog_names          19.9041\n",
       "utility_clean                 20.2723\n",
       "annual_insolation             21.5651\n",
       "cost_per_watt                 25.4072\n",
       "cost                          25.4177\n",
       "installer                     27.6596\n",
       "model1_clean                  39.7822\n",
       "tech_1                        39.7822\n",
       "tracking_type                 44.1172\n",
       "tilt1                         59.2087\n",
       "azimuth1                      61.5380\n",
       "rebate                        62.5498\n",
       "sales_tax_cost                66.1306\n",
       "reported_annual_energy_prod   79.1423\n",
       "dtype: float64"
      ]
     },
     "execution_count": 106,
     "metadata": {},
     "output_type": "execute_result"
    }
   ],
   "source": [
    "# take note of missing values before merging and filling NAs\n",
    "percent_missing(pv_df)"
   ]
  },
  {
   "cell_type": "code",
   "execution_count": 107,
   "metadata": {
    "scrolled": true
   },
   "outputs": [
    {
     "name": "stdout",
     "output_type": "stream",
     "text": [
      "<class 'pandas.core.frame.DataFrame'>\n",
      "Int64Index: 886655 entries, 0 to 886654\n",
      "Data columns (total 25 columns):\n",
      "state                          886655 non-null object\n",
      "date_installed                 886655 non-null object\n",
      "incentive_prog_names           710174 non-null object\n",
      "size_kw                        886655 non-null float64\n",
      "zipcode                        886655 non-null int64\n",
      "install_type                   886655 non-null object\n",
      "installer                      641410 non-null object\n",
      "cost_per_watt                  661381 non-null float64\n",
      "cost                           661288 non-null float64\n",
      "city                           712730 non-null object\n",
      "utility_clean                  706910 non-null object\n",
      "tech_1                         533924 non-null object\n",
      "model1_clean                   533924 non-null object\n",
      "county                         877357 non-null object\n",
      "annual_pv_prod                 886655 non-null float64\n",
      "annual_insolation              695447 non-null float64\n",
      "rebate                         332054 non-null float64\n",
      "sales_tax_cost                 300305 non-null float64\n",
      "tilt1                          361678 non-null float64\n",
      "tracking_type                  495488 non-null object\n",
      "azimuth1                       341025 non-null float64\n",
      "reported_annual_energy_prod    184936 non-null float64\n",
      "3rdparty                       886655 non-null int64\n",
      "solar_rad                      875979 non-null float64\n",
      "incentive_count                876479 non-null float64\n",
      "dtypes: float64(12), int64(2), object(11)\n",
      "memory usage: 175.9+ MB\n"
     ]
    }
   ],
   "source": [
    "# fill missing values in working DF (pv_df) using data obtain through API\n",
    "# insolation_df contains the data acquired earlier from API\n",
    "pv_df = pv_df.merge(insolation_df, how='left').merge(incentives_df, how='left')\n",
    "pv_df.info()"
   ]
  },
  {
   "cell_type": "code",
   "execution_count": 108,
   "metadata": {},
   "outputs": [],
   "source": [
    "\n",
    "# fill existing insolation missing values from 'solar_rad' obtained through an API\n",
    "pv_df['annual_insolation'].fillna(pv_df['solar_rad'], inplace=True)\n",
    "\n",
    "\n",
    "# NOTE:\n",
    "# - this needs to be done only the first time that the insolation DF is loaded \n",
    "\n",
    "# then drop unnecessary columns\n",
    "# pv_df.drop(columns=['county_state', 'solar_rad'], inplace=True)\n",
    "pv_df.drop(columns=['solar_rad'], inplace=True)"
   ]
  },
  {
   "cell_type": "code",
   "execution_count": 109,
   "metadata": {
    "scrolled": true
   },
   "outputs": [],
   "source": [
    "# percent_missing(pv_df)\n",
    "state_mean_insolation = pv_df.groupby(['state'])['annual_insolation'].agg('mean')"
   ]
  },
  {
   "cell_type": "code",
   "execution_count": 110,
   "metadata": {},
   "outputs": [],
   "source": [
    "# set index to 'state' in order to fill values by state average\n",
    "pv_df = pv_df.set_index('state')\n",
    "pv_df['annual_insolation'].fillna(state_mean_insolation, inplace=True)\n",
    "\n",
    "# reset index and drop previous index\n",
    "pv_df = pv_df.reset_index()"
   ]
  },
  {
   "cell_type": "code",
   "execution_count": 111,
   "metadata": {},
   "outputs": [
    {
     "data": {
      "text/html": [
       "<div>\n",
       "<style scoped>\n",
       "    .dataframe tbody tr th:only-of-type {\n",
       "        vertical-align: middle;\n",
       "    }\n",
       "\n",
       "    .dataframe tbody tr th {\n",
       "        vertical-align: top;\n",
       "    }\n",
       "\n",
       "    .dataframe thead th {\n",
       "        text-align: right;\n",
       "    }\n",
       "</style>\n",
       "<table border=\"1\" class=\"dataframe\">\n",
       "  <thead>\n",
       "    <tr style=\"text-align: right;\">\n",
       "      <th></th>\n",
       "      <th>state</th>\n",
       "      <th>county</th>\n",
       "      <th>annual_insolation</th>\n",
       "    </tr>\n",
       "  </thead>\n",
       "  <tbody>\n",
       "    <tr>\n",
       "      <th>457</th>\n",
       "      <td>ak</td>\n",
       "      <td>NaN</td>\n",
       "      <td>nan</td>\n",
       "    </tr>\n",
       "    <tr>\n",
       "      <th>88251</th>\n",
       "      <td>ak</td>\n",
       "      <td>yukon-koyukuk</td>\n",
       "      <td>nan</td>\n",
       "    </tr>\n",
       "    <tr>\n",
       "      <th>91148</th>\n",
       "      <td>ak</td>\n",
       "      <td>southeast fairbanks</td>\n",
       "      <td>nan</td>\n",
       "    </tr>\n",
       "    <tr>\n",
       "      <th>98362</th>\n",
       "      <td>ak</td>\n",
       "      <td>matanuska-susitna</td>\n",
       "      <td>nan</td>\n",
       "    </tr>\n",
       "    <tr>\n",
       "      <th>100629</th>\n",
       "      <td>ak</td>\n",
       "      <td>fairbanks north star</td>\n",
       "      <td>nan</td>\n",
       "    </tr>\n",
       "    <tr>\n",
       "      <th>100688</th>\n",
       "      <td>ak</td>\n",
       "      <td>fairbanks north star</td>\n",
       "      <td>nan</td>\n",
       "    </tr>\n",
       "    <tr>\n",
       "      <th>100689</th>\n",
       "      <td>ak</td>\n",
       "      <td>fairbanks north star</td>\n",
       "      <td>nan</td>\n",
       "    </tr>\n",
       "    <tr>\n",
       "      <th>100690</th>\n",
       "      <td>ak</td>\n",
       "      <td>fairbanks north star</td>\n",
       "      <td>nan</td>\n",
       "    </tr>\n",
       "    <tr>\n",
       "      <th>100691</th>\n",
       "      <td>ak</td>\n",
       "      <td>fairbanks north star</td>\n",
       "      <td>nan</td>\n",
       "    </tr>\n",
       "    <tr>\n",
       "      <th>100692</th>\n",
       "      <td>ak</td>\n",
       "      <td>matanuska-susitna</td>\n",
       "      <td>nan</td>\n",
       "    </tr>\n",
       "    <tr>\n",
       "      <th>101358</th>\n",
       "      <td>ak</td>\n",
       "      <td>matanuska-susitna</td>\n",
       "      <td>nan</td>\n",
       "    </tr>\n",
       "    <tr>\n",
       "      <th>334142</th>\n",
       "      <td>ak</td>\n",
       "      <td>fairbanks north star</td>\n",
       "      <td>nan</td>\n",
       "    </tr>\n",
       "  </tbody>\n",
       "</table>\n",
       "</div>"
      ],
      "text/plain": [
       "       state                county  annual_insolation\n",
       "457       ak                   NaN                nan\n",
       "88251     ak         yukon-koyukuk                nan\n",
       "91148     ak   southeast fairbanks                nan\n",
       "98362     ak     matanuska-susitna                nan\n",
       "100629    ak  fairbanks north star                nan\n",
       "100688    ak  fairbanks north star                nan\n",
       "100689    ak  fairbanks north star                nan\n",
       "100690    ak  fairbanks north star                nan\n",
       "100691    ak  fairbanks north star                nan\n",
       "100692    ak     matanuska-susitna                nan\n",
       "101358    ak     matanuska-susitna                nan\n",
       "334142    ak  fairbanks north star                nan"
      ]
     },
     "execution_count": 111,
     "metadata": {},
     "output_type": "execute_result"
    }
   ],
   "source": [
    "pv_df[pv_df['annual_insolation'].isnull()][['state', 'county', 'annual_insolation']]"
   ]
  },
  {
   "cell_type": "code",
   "execution_count": 112,
   "metadata": {},
   "outputs": [
    {
     "data": {
      "text/plain": [
       "state                          0.0000\n",
       "date_installed                 0.0000\n",
       "size_kw                        0.0000\n",
       "zipcode                        0.0000\n",
       "install_type                   0.0000\n",
       "annual_pv_prod                 0.0000\n",
       "3rdparty                       0.0000\n",
       "annual_insolation              0.0014\n",
       "county                         1.0487\n",
       "incentive_count                1.1477\n",
       "city                          19.6159\n",
       "incentive_prog_names          19.9041\n",
       "utility_clean                 20.2723\n",
       "cost_per_watt                 25.4072\n",
       "cost                          25.4177\n",
       "installer                     27.6596\n",
       "model1_clean                  39.7822\n",
       "tech_1                        39.7822\n",
       "tracking_type                 44.1172\n",
       "tilt1                         59.2087\n",
       "azimuth1                      61.5380\n",
       "rebate                        62.5498\n",
       "sales_tax_cost                66.1306\n",
       "reported_annual_energy_prod   79.1423\n",
       "dtype: float64"
      ]
     },
     "execution_count": 112,
     "metadata": {},
     "output_type": "execute_result"
    }
   ],
   "source": [
    "percent_missing(pv_df)"
   ]
  },
  {
   "cell_type": "code",
   "execution_count": 113,
   "metadata": {},
   "outputs": [],
   "source": [
    "pv_df = drop_n_reset(pv_df)"
   ]
  },
  {
   "cell_type": "markdown",
   "metadata": {},
   "source": [
    "## Write to File"
   ]
  },
  {
   "cell_type": "code",
   "execution_count": 114,
   "metadata": {},
   "outputs": [
    {
     "name": "stdout",
     "output_type": "stream",
     "text": [
      "Writing file: pv_df_clean.csv\n",
      "Finished writing to: C:\\Users\\smouz\\OneDrive\\Desktop\\DataSci\\Python\\SP-Capstone-PY\\Capstone\n"
     ]
    }
   ],
   "source": [
    "# write file\n",
    "\n",
    "filename = 'pv_df_clean.csv'\n",
    "print('Writing file:', filename)\n",
    "pv_df.to_csv(filename, encoding='utf-8', na_rep='NA', index=False)\n",
    "print('Finished writing to:', os.getcwd())"
   ]
  },
  {
   "cell_type": "code",
   "execution_count": 115,
   "metadata": {},
   "outputs": [
    {
     "name": "stdout",
     "output_type": "stream",
     "text": [
      "<class 'pandas.core.frame.DataFrame'>\n",
      "RangeIndex: 886655 entries, 0 to 886654\n",
      "Data columns (total 24 columns):\n",
      "state                          886655 non-null object\n",
      "date_installed                 886655 non-null object\n",
      "incentive_prog_names           710174 non-null object\n",
      "size_kw                        886655 non-null float64\n",
      "zipcode                        886655 non-null int64\n",
      "install_type                   886655 non-null object\n",
      "installer                      641410 non-null object\n",
      "cost_per_watt                  661381 non-null float64\n",
      "cost                           661288 non-null float64\n",
      "city                           712730 non-null object\n",
      "utility_clean                  706910 non-null object\n",
      "tech_1                         533924 non-null object\n",
      "model1_clean                   533924 non-null object\n",
      "county                         877357 non-null object\n",
      "annual_pv_prod                 886655 non-null float64\n",
      "annual_insolation              886643 non-null float64\n",
      "rebate                         332054 non-null float64\n",
      "sales_tax_cost                 300305 non-null float64\n",
      "tilt1                          361678 non-null float64\n",
      "tracking_type                  495488 non-null object\n",
      "azimuth1                       341025 non-null float64\n",
      "reported_annual_energy_prod    184936 non-null float64\n",
      "3rdparty                       886655 non-null int64\n",
      "incentive_count                876479 non-null float64\n",
      "dtypes: float64(11), int64(2), object(11)\n",
      "memory usage: 162.4+ MB\n"
     ]
    }
   ],
   "source": [
    "pv_df.info()"
   ]
  },
  {
   "cell_type": "markdown",
   "metadata": {},
   "source": [
    "## Merge with Population\n",
    "\n",
    "Merge with population dataframe to see how much data is retained/lost"
   ]
  },
  {
   "cell_type": "code",
   "execution_count": 116,
   "metadata": {},
   "outputs": [
    {
     "name": "stdout",
     "output_type": "stream",
     "text": [
      "         cities  population        states\n",
      "0      new york     8405837      new york\n",
      "1   los angeles     3884307    california\n",
      "2       chicago     2718782      illinois\n",
      "3       houston     2195914         texas\n",
      "4  philadelphia     1553165  pennsylvania\n",
      "  abbreviation            full\n",
      "0           ak          alaska\n",
      "1           al         alabama\n",
      "2           ar        arkansas\n",
      "3           as  american samoa\n",
      "4           az         arizona\n"
     ]
    }
   ],
   "source": [
    "# POPULATION MERGE\n",
    "\n",
    "# merge with population data\n",
    "print(pop_df.head()); print(states_abbv.head())"
   ]
  },
  {
   "cell_type": "code",
   "execution_count": 117,
   "metadata": {},
   "outputs": [],
   "source": [
    "city_population_df = pop_df.merge(states_abbv, left_on='states', right_on='full')"
   ]
  },
  {
   "cell_type": "code",
   "execution_count": 118,
   "metadata": {},
   "outputs": [],
   "source": [
    "city_population_df.drop(columns='full', inplace=True)"
   ]
  },
  {
   "cell_type": "code",
   "execution_count": 119,
   "metadata": {
    "scrolled": true
   },
   "outputs": [],
   "source": [
    "city_population_df = drop_n_reset(city_population_df)\n",
    "pv_df = drop_n_reset(pv_df)"
   ]
  },
  {
   "cell_type": "code",
   "execution_count": 120,
   "metadata": {},
   "outputs": [
    {
     "data": {
      "text/html": [
       "<div>\n",
       "<style scoped>\n",
       "    .dataframe tbody tr th:only-of-type {\n",
       "        vertical-align: middle;\n",
       "    }\n",
       "\n",
       "    .dataframe tbody tr th {\n",
       "        vertical-align: top;\n",
       "    }\n",
       "\n",
       "    .dataframe thead th {\n",
       "        text-align: right;\n",
       "    }\n",
       "</style>\n",
       "<table border=\"1\" class=\"dataframe\">\n",
       "  <thead>\n",
       "    <tr style=\"text-align: right;\">\n",
       "      <th></th>\n",
       "      <th>state</th>\n",
       "      <th>date_installed</th>\n",
       "      <th>incentive_prog_names</th>\n",
       "      <th>size_kw</th>\n",
       "      <th>zipcode</th>\n",
       "      <th>...</th>\n",
       "      <th>tracking_type</th>\n",
       "      <th>azimuth1</th>\n",
       "      <th>reported_annual_energy_prod</th>\n",
       "      <th>3rdparty</th>\n",
       "      <th>incentive_count</th>\n",
       "    </tr>\n",
       "  </thead>\n",
       "  <tbody>\n",
       "    <tr>\n",
       "      <th>0</th>\n",
       "      <td>tx</td>\n",
       "      <td>2013-12-12</td>\n",
       "      <td>austin energy</td>\n",
       "      <td>10.5600</td>\n",
       "      <td>78702</td>\n",
       "      <td>...</td>\n",
       "      <td>fixed</td>\n",
       "      <td>180.0000</td>\n",
       "      <td>13836.0000</td>\n",
       "      <td>0</td>\n",
       "      <td>38.0000</td>\n",
       "    </tr>\n",
       "    <tr>\n",
       "      <th>1</th>\n",
       "      <td>tx</td>\n",
       "      <td>2014-07-11</td>\n",
       "      <td>austin energy</td>\n",
       "      <td>12.7200</td>\n",
       "      <td>78702</td>\n",
       "      <td>...</td>\n",
       "      <td>fixed</td>\n",
       "      <td>180.0000</td>\n",
       "      <td>16419.0000</td>\n",
       "      <td>0</td>\n",
       "      <td>38.0000</td>\n",
       "    </tr>\n",
       "    <tr>\n",
       "      <th>2</th>\n",
       "      <td>tx</td>\n",
       "      <td>2014-01-17</td>\n",
       "      <td>austin energy</td>\n",
       "      <td>5.4000</td>\n",
       "      <td>78702</td>\n",
       "      <td>...</td>\n",
       "      <td>fixed</td>\n",
       "      <td>165.0000</td>\n",
       "      <td>7235.0000</td>\n",
       "      <td>0</td>\n",
       "      <td>38.0000</td>\n",
       "    </tr>\n",
       "    <tr>\n",
       "      <th>3</th>\n",
       "      <td>tx</td>\n",
       "      <td>2012-09-27</td>\n",
       "      <td>austin energy</td>\n",
       "      <td>7.5000</td>\n",
       "      <td>78702</td>\n",
       "      <td>...</td>\n",
       "      <td>fixed</td>\n",
       "      <td>260.0000</td>\n",
       "      <td>9340.0000</td>\n",
       "      <td>0</td>\n",
       "      <td>38.0000</td>\n",
       "    </tr>\n",
       "    <tr>\n",
       "      <th>4</th>\n",
       "      <td>tx</td>\n",
       "      <td>2012-09-26</td>\n",
       "      <td>austin energy</td>\n",
       "      <td>5.0000</td>\n",
       "      <td>78702</td>\n",
       "      <td>...</td>\n",
       "      <td>fixed</td>\n",
       "      <td>205.0000</td>\n",
       "      <td>6729.0000</td>\n",
       "      <td>0</td>\n",
       "      <td>38.0000</td>\n",
       "    </tr>\n",
       "  </tbody>\n",
       "</table>\n",
       "<p>5 rows × 24 columns</p>\n",
       "</div>"
      ],
      "text/plain": [
       "  state date_installed incentive_prog_names  size_kw  zipcode  ...  \\\n",
       "0    tx     2013-12-12        austin energy  10.5600    78702  ...   \n",
       "1    tx     2014-07-11        austin energy  12.7200    78702  ...   \n",
       "2    tx     2014-01-17        austin energy   5.4000    78702  ...   \n",
       "3    tx     2012-09-27        austin energy   7.5000    78702  ...   \n",
       "4    tx     2012-09-26        austin energy   5.0000    78702  ...   \n",
       "\n",
       "  tracking_type azimuth1  reported_annual_energy_prod  3rdparty  \\\n",
       "0         fixed 180.0000                   13836.0000         0   \n",
       "1         fixed 180.0000                   16419.0000         0   \n",
       "2         fixed 165.0000                    7235.0000         0   \n",
       "3         fixed 260.0000                    9340.0000         0   \n",
       "4         fixed 205.0000                    6729.0000         0   \n",
       "\n",
       "  incentive_count  \n",
       "0         38.0000  \n",
       "1         38.0000  \n",
       "2         38.0000  \n",
       "3         38.0000  \n",
       "4         38.0000  \n",
       "\n",
       "[5 rows x 24 columns]"
      ]
     },
     "execution_count": 120,
     "metadata": {},
     "output_type": "execute_result"
    }
   ],
   "source": [
    "pv_df.head()"
   ]
  },
  {
   "cell_type": "code",
   "execution_count": 121,
   "metadata": {},
   "outputs": [],
   "source": [
    "pv_merge = pv_df.merge(city_population_df, left_on=['city','state'], right_on=['cities', 'abbreviation'], how='left')"
   ]
  },
  {
   "cell_type": "code",
   "execution_count": 122,
   "metadata": {},
   "outputs": [],
   "source": [
    "pv_merge.drop(columns=['cities','states','abbreviation'], inplace=True)"
   ]
  },
  {
   "cell_type": "code",
   "execution_count": 123,
   "metadata": {
    "scrolled": true
   },
   "outputs": [
    {
     "data": {
      "text/html": [
       "<div>\n",
       "<style scoped>\n",
       "    .dataframe tbody tr th:only-of-type {\n",
       "        vertical-align: middle;\n",
       "    }\n",
       "\n",
       "    .dataframe tbody tr th {\n",
       "        vertical-align: top;\n",
       "    }\n",
       "\n",
       "    .dataframe thead th {\n",
       "        text-align: right;\n",
       "    }\n",
       "</style>\n",
       "<table border=\"1\" class=\"dataframe\">\n",
       "  <thead>\n",
       "    <tr style=\"text-align: right;\">\n",
       "      <th></th>\n",
       "      <th>state</th>\n",
       "      <th>county</th>\n",
       "      <th>city</th>\n",
       "      <th>population</th>\n",
       "    </tr>\n",
       "  </thead>\n",
       "  <tbody>\n",
       "    <tr>\n",
       "      <th>195015</th>\n",
       "      <td>ny</td>\n",
       "      <td>new york</td>\n",
       "      <td>new york</td>\n",
       "      <td>8405837.0000</td>\n",
       "    </tr>\n",
       "    <tr>\n",
       "      <th>195005</th>\n",
       "      <td>ny</td>\n",
       "      <td>new york</td>\n",
       "      <td>new york</td>\n",
       "      <td>8405837.0000</td>\n",
       "    </tr>\n",
       "    <tr>\n",
       "      <th>195012</th>\n",
       "      <td>ny</td>\n",
       "      <td>new york</td>\n",
       "      <td>new york</td>\n",
       "      <td>8405837.0000</td>\n",
       "    </tr>\n",
       "    <tr>\n",
       "      <th>195011</th>\n",
       "      <td>ny</td>\n",
       "      <td>new york</td>\n",
       "      <td>new york</td>\n",
       "      <td>8405837.0000</td>\n",
       "    </tr>\n",
       "    <tr>\n",
       "      <th>195010</th>\n",
       "      <td>ny</td>\n",
       "      <td>new york</td>\n",
       "      <td>new york</td>\n",
       "      <td>8405837.0000</td>\n",
       "    </tr>\n",
       "    <tr>\n",
       "      <th>195009</th>\n",
       "      <td>ny</td>\n",
       "      <td>new york</td>\n",
       "      <td>new york</td>\n",
       "      <td>8405837.0000</td>\n",
       "    </tr>\n",
       "    <tr>\n",
       "      <th>195008</th>\n",
       "      <td>ny</td>\n",
       "      <td>new york</td>\n",
       "      <td>new york</td>\n",
       "      <td>8405837.0000</td>\n",
       "    </tr>\n",
       "    <tr>\n",
       "      <th>195006</th>\n",
       "      <td>ny</td>\n",
       "      <td>new york</td>\n",
       "      <td>new york</td>\n",
       "      <td>8405837.0000</td>\n",
       "    </tr>\n",
       "    <tr>\n",
       "      <th>195004</th>\n",
       "      <td>ny</td>\n",
       "      <td>new york</td>\n",
       "      <td>new york</td>\n",
       "      <td>8405837.0000</td>\n",
       "    </tr>\n",
       "    <tr>\n",
       "      <th>195014</th>\n",
       "      <td>ny</td>\n",
       "      <td>new york</td>\n",
       "      <td>new york</td>\n",
       "      <td>8405837.0000</td>\n",
       "    </tr>\n",
       "    <tr>\n",
       "      <th>195002</th>\n",
       "      <td>ny</td>\n",
       "      <td>new york</td>\n",
       "      <td>new york</td>\n",
       "      <td>8405837.0000</td>\n",
       "    </tr>\n",
       "    <tr>\n",
       "      <th>195001</th>\n",
       "      <td>ny</td>\n",
       "      <td>new york</td>\n",
       "      <td>new york</td>\n",
       "      <td>8405837.0000</td>\n",
       "    </tr>\n",
       "    <tr>\n",
       "      <th>195000</th>\n",
       "      <td>ny</td>\n",
       "      <td>new york</td>\n",
       "      <td>new york</td>\n",
       "      <td>8405837.0000</td>\n",
       "    </tr>\n",
       "    <tr>\n",
       "      <th>194999</th>\n",
       "      <td>ny</td>\n",
       "      <td>new york</td>\n",
       "      <td>new york</td>\n",
       "      <td>8405837.0000</td>\n",
       "    </tr>\n",
       "    <tr>\n",
       "      <th>194998</th>\n",
       "      <td>ny</td>\n",
       "      <td>new york</td>\n",
       "      <td>new york</td>\n",
       "      <td>8405837.0000</td>\n",
       "    </tr>\n",
       "    <tr>\n",
       "      <th>194996</th>\n",
       "      <td>ny</td>\n",
       "      <td>new york</td>\n",
       "      <td>new york</td>\n",
       "      <td>8405837.0000</td>\n",
       "    </tr>\n",
       "    <tr>\n",
       "      <th>195013</th>\n",
       "      <td>ny</td>\n",
       "      <td>new york</td>\n",
       "      <td>new york</td>\n",
       "      <td>8405837.0000</td>\n",
       "    </tr>\n",
       "    <tr>\n",
       "      <th>195003</th>\n",
       "      <td>ny</td>\n",
       "      <td>new york</td>\n",
       "      <td>new york</td>\n",
       "      <td>8405837.0000</td>\n",
       "    </tr>\n",
       "    <tr>\n",
       "      <th>195026</th>\n",
       "      <td>ny</td>\n",
       "      <td>new york</td>\n",
       "      <td>new york</td>\n",
       "      <td>8405837.0000</td>\n",
       "    </tr>\n",
       "    <tr>\n",
       "      <th>195023</th>\n",
       "      <td>ny</td>\n",
       "      <td>new york</td>\n",
       "      <td>new york</td>\n",
       "      <td>8405837.0000</td>\n",
       "    </tr>\n",
       "    <tr>\n",
       "      <th>195029</th>\n",
       "      <td>ny</td>\n",
       "      <td>new york</td>\n",
       "      <td>new york</td>\n",
       "      <td>8405837.0000</td>\n",
       "    </tr>\n",
       "    <tr>\n",
       "      <th>195028</th>\n",
       "      <td>ny</td>\n",
       "      <td>new york</td>\n",
       "      <td>new york</td>\n",
       "      <td>8405837.0000</td>\n",
       "    </tr>\n",
       "    <tr>\n",
       "      <th>195027</th>\n",
       "      <td>ny</td>\n",
       "      <td>new york</td>\n",
       "      <td>new york</td>\n",
       "      <td>8405837.0000</td>\n",
       "    </tr>\n",
       "    <tr>\n",
       "      <th>195025</th>\n",
       "      <td>ny</td>\n",
       "      <td>new york</td>\n",
       "      <td>new york</td>\n",
       "      <td>8405837.0000</td>\n",
       "    </tr>\n",
       "    <tr>\n",
       "      <th>195024</th>\n",
       "      <td>ny</td>\n",
       "      <td>new york</td>\n",
       "      <td>new york</td>\n",
       "      <td>8405837.0000</td>\n",
       "    </tr>\n",
       "    <tr>\n",
       "      <th>...</th>\n",
       "      <td>...</td>\n",
       "      <td>...</td>\n",
       "      <td>...</td>\n",
       "      <td>...</td>\n",
       "    </tr>\n",
       "    <tr>\n",
       "      <th>886628</th>\n",
       "      <td>oh</td>\n",
       "      <td>NaN</td>\n",
       "      <td>new philadelphia</td>\n",
       "      <td>nan</td>\n",
       "    </tr>\n",
       "    <tr>\n",
       "      <th>886629</th>\n",
       "      <td>oh</td>\n",
       "      <td>NaN</td>\n",
       "      <td>millersburg</td>\n",
       "      <td>nan</td>\n",
       "    </tr>\n",
       "    <tr>\n",
       "      <th>886630</th>\n",
       "      <td>md</td>\n",
       "      <td>NaN</td>\n",
       "      <td>pylesville</td>\n",
       "      <td>nan</td>\n",
       "    </tr>\n",
       "    <tr>\n",
       "      <th>886631</th>\n",
       "      <td>pa</td>\n",
       "      <td>NaN</td>\n",
       "      <td>cogan station</td>\n",
       "      <td>nan</td>\n",
       "    </tr>\n",
       "    <tr>\n",
       "      <th>886632</th>\n",
       "      <td>pa</td>\n",
       "      <td>NaN</td>\n",
       "      <td>phoenixville</td>\n",
       "      <td>nan</td>\n",
       "    </tr>\n",
       "    <tr>\n",
       "      <th>886633</th>\n",
       "      <td>pa</td>\n",
       "      <td>NaN</td>\n",
       "      <td>lincoln university</td>\n",
       "      <td>nan</td>\n",
       "    </tr>\n",
       "    <tr>\n",
       "      <th>886634</th>\n",
       "      <td>pa</td>\n",
       "      <td>NaN</td>\n",
       "      <td>york springs</td>\n",
       "      <td>nan</td>\n",
       "    </tr>\n",
       "    <tr>\n",
       "      <th>886635</th>\n",
       "      <td>ny</td>\n",
       "      <td>NaN</td>\n",
       "      <td>waterloo</td>\n",
       "      <td>nan</td>\n",
       "    </tr>\n",
       "    <tr>\n",
       "      <th>886636</th>\n",
       "      <td>ny</td>\n",
       "      <td>NaN</td>\n",
       "      <td>canandaigua</td>\n",
       "      <td>nan</td>\n",
       "    </tr>\n",
       "    <tr>\n",
       "      <th>886637</th>\n",
       "      <td>ny</td>\n",
       "      <td>NaN</td>\n",
       "      <td>salisbury mills</td>\n",
       "      <td>nan</td>\n",
       "    </tr>\n",
       "    <tr>\n",
       "      <th>886638</th>\n",
       "      <td>oh</td>\n",
       "      <td>NaN</td>\n",
       "      <td>uhrichsville</td>\n",
       "      <td>nan</td>\n",
       "    </tr>\n",
       "    <tr>\n",
       "      <th>886639</th>\n",
       "      <td>oh</td>\n",
       "      <td>NaN</td>\n",
       "      <td>sugarcreek</td>\n",
       "      <td>nan</td>\n",
       "    </tr>\n",
       "    <tr>\n",
       "      <th>886641</th>\n",
       "      <td>oh</td>\n",
       "      <td>NaN</td>\n",
       "      <td>orrville</td>\n",
       "      <td>nan</td>\n",
       "    </tr>\n",
       "    <tr>\n",
       "      <th>886642</th>\n",
       "      <td>va</td>\n",
       "      <td>NaN</td>\n",
       "      <td>rocky mount</td>\n",
       "      <td>nan</td>\n",
       "    </tr>\n",
       "    <tr>\n",
       "      <th>886643</th>\n",
       "      <td>pa</td>\n",
       "      <td>NaN</td>\n",
       "      <td>mercersburg</td>\n",
       "      <td>nan</td>\n",
       "    </tr>\n",
       "    <tr>\n",
       "      <th>886644</th>\n",
       "      <td>pa</td>\n",
       "      <td>NaN</td>\n",
       "      <td>coatesville</td>\n",
       "      <td>nan</td>\n",
       "    </tr>\n",
       "    <tr>\n",
       "      <th>886645</th>\n",
       "      <td>pa</td>\n",
       "      <td>NaN</td>\n",
       "      <td>fairfield</td>\n",
       "      <td>nan</td>\n",
       "    </tr>\n",
       "    <tr>\n",
       "      <th>886646</th>\n",
       "      <td>pa</td>\n",
       "      <td>NaN</td>\n",
       "      <td>red lion</td>\n",
       "      <td>nan</td>\n",
       "    </tr>\n",
       "    <tr>\n",
       "      <th>886648</th>\n",
       "      <td>pa</td>\n",
       "      <td>NaN</td>\n",
       "      <td>lititz</td>\n",
       "      <td>nan</td>\n",
       "    </tr>\n",
       "    <tr>\n",
       "      <th>886649</th>\n",
       "      <td>pa</td>\n",
       "      <td>NaN</td>\n",
       "      <td>marietta</td>\n",
       "      <td>nan</td>\n",
       "    </tr>\n",
       "    <tr>\n",
       "      <th>886650</th>\n",
       "      <td>md</td>\n",
       "      <td>NaN</td>\n",
       "      <td>parsonsburg</td>\n",
       "      <td>nan</td>\n",
       "    </tr>\n",
       "    <tr>\n",
       "      <th>886651</th>\n",
       "      <td>md</td>\n",
       "      <td>NaN</td>\n",
       "      <td>denton</td>\n",
       "      <td>nan</td>\n",
       "    </tr>\n",
       "    <tr>\n",
       "      <th>886652</th>\n",
       "      <td>md</td>\n",
       "      <td>NaN</td>\n",
       "      <td>parsonsburg</td>\n",
       "      <td>nan</td>\n",
       "    </tr>\n",
       "    <tr>\n",
       "      <th>886653</th>\n",
       "      <td>md</td>\n",
       "      <td>NaN</td>\n",
       "      <td>westover</td>\n",
       "      <td>nan</td>\n",
       "    </tr>\n",
       "    <tr>\n",
       "      <th>886654</th>\n",
       "      <td>md</td>\n",
       "      <td>NaN</td>\n",
       "      <td>willards</td>\n",
       "      <td>nan</td>\n",
       "    </tr>\n",
       "  </tbody>\n",
       "</table>\n",
       "<p>886655 rows × 4 columns</p>\n",
       "</div>"
      ],
      "text/plain": [
       "       state    county                city   population\n",
       "195015    ny  new york            new york 8405837.0000\n",
       "195005    ny  new york            new york 8405837.0000\n",
       "195012    ny  new york            new york 8405837.0000\n",
       "195011    ny  new york            new york 8405837.0000\n",
       "195010    ny  new york            new york 8405837.0000\n",
       "195009    ny  new york            new york 8405837.0000\n",
       "195008    ny  new york            new york 8405837.0000\n",
       "195006    ny  new york            new york 8405837.0000\n",
       "195004    ny  new york            new york 8405837.0000\n",
       "195014    ny  new york            new york 8405837.0000\n",
       "195002    ny  new york            new york 8405837.0000\n",
       "195001    ny  new york            new york 8405837.0000\n",
       "195000    ny  new york            new york 8405837.0000\n",
       "194999    ny  new york            new york 8405837.0000\n",
       "194998    ny  new york            new york 8405837.0000\n",
       "194996    ny  new york            new york 8405837.0000\n",
       "195013    ny  new york            new york 8405837.0000\n",
       "195003    ny  new york            new york 8405837.0000\n",
       "195026    ny  new york            new york 8405837.0000\n",
       "195023    ny  new york            new york 8405837.0000\n",
       "195029    ny  new york            new york 8405837.0000\n",
       "195028    ny  new york            new york 8405837.0000\n",
       "195027    ny  new york            new york 8405837.0000\n",
       "195025    ny  new york            new york 8405837.0000\n",
       "195024    ny  new york            new york 8405837.0000\n",
       "...      ...       ...                 ...          ...\n",
       "886628    oh       NaN    new philadelphia          nan\n",
       "886629    oh       NaN         millersburg          nan\n",
       "886630    md       NaN          pylesville          nan\n",
       "886631    pa       NaN       cogan station          nan\n",
       "886632    pa       NaN        phoenixville          nan\n",
       "886633    pa       NaN  lincoln university          nan\n",
       "886634    pa       NaN        york springs          nan\n",
       "886635    ny       NaN            waterloo          nan\n",
       "886636    ny       NaN         canandaigua          nan\n",
       "886637    ny       NaN     salisbury mills          nan\n",
       "886638    oh       NaN        uhrichsville          nan\n",
       "886639    oh       NaN          sugarcreek          nan\n",
       "886641    oh       NaN            orrville          nan\n",
       "886642    va       NaN         rocky mount          nan\n",
       "886643    pa       NaN         mercersburg          nan\n",
       "886644    pa       NaN         coatesville          nan\n",
       "886645    pa       NaN           fairfield          nan\n",
       "886646    pa       NaN            red lion          nan\n",
       "886648    pa       NaN              lititz          nan\n",
       "886649    pa       NaN            marietta          nan\n",
       "886650    md       NaN         parsonsburg          nan\n",
       "886651    md       NaN              denton          nan\n",
       "886652    md       NaN         parsonsburg          nan\n",
       "886653    md       NaN            westover          nan\n",
       "886654    md       NaN            willards          nan\n",
       "\n",
       "[886655 rows x 4 columns]"
      ]
     },
     "execution_count": 123,
     "metadata": {},
     "output_type": "execute_result"
    }
   ],
   "source": [
    "# pv_merge.info()\n",
    "pv_merge[['state', 'county', 'city', 'population']].sort_values('population', ascending=False)"
   ]
  },
  {
   "cell_type": "code",
   "execution_count": 124,
   "metadata": {},
   "outputs": [
    {
     "data": {
      "text/html": [
       "<div>\n",
       "<style scoped>\n",
       "    .dataframe tbody tr th:only-of-type {\n",
       "        vertical-align: middle;\n",
       "    }\n",
       "\n",
       "    .dataframe tbody tr th {\n",
       "        vertical-align: top;\n",
       "    }\n",
       "\n",
       "    .dataframe thead th {\n",
       "        text-align: right;\n",
       "    }\n",
       "</style>\n",
       "<table border=\"1\" class=\"dataframe\">\n",
       "  <thead>\n",
       "    <tr style=\"text-align: right;\">\n",
       "      <th></th>\n",
       "      <th>state</th>\n",
       "      <th>date_installed</th>\n",
       "      <th>incentive_prog_names</th>\n",
       "      <th>size_kw</th>\n",
       "      <th>zipcode</th>\n",
       "      <th>...</th>\n",
       "      <th>azimuth1</th>\n",
       "      <th>reported_annual_energy_prod</th>\n",
       "      <th>3rdparty</th>\n",
       "      <th>incentive_count</th>\n",
       "      <th>population</th>\n",
       "    </tr>\n",
       "  </thead>\n",
       "  <tbody>\n",
       "    <tr>\n",
       "      <th>23979</th>\n",
       "      <td>wi</td>\n",
       "      <td>2015-06-04</td>\n",
       "      <td>wisconsin focus on energy</td>\n",
       "      <td>11.0000</td>\n",
       "      <td>53594</td>\n",
       "      <td>...</td>\n",
       "      <td>nan</td>\n",
       "      <td>12331.0000</td>\n",
       "      <td>0</td>\n",
       "      <td>34.0000</td>\n",
       "      <td>nan</td>\n",
       "    </tr>\n",
       "    <tr>\n",
       "      <th>76870</th>\n",
       "      <td>ny</td>\n",
       "      <td>2015-12-28</td>\n",
       "      <td>new york state energy research and development...</td>\n",
       "      <td>10.6000</td>\n",
       "      <td>13165</td>\n",
       "      <td>...</td>\n",
       "      <td>nan</td>\n",
       "      <td>12442.7000</td>\n",
       "      <td>0</td>\n",
       "      <td>40.0000</td>\n",
       "      <td>nan</td>\n",
       "    </tr>\n",
       "    <tr>\n",
       "      <th>76871</th>\n",
       "      <td>ny</td>\n",
       "      <td>2014-07-24</td>\n",
       "      <td>new york state energy research and development...</td>\n",
       "      <td>10.3400</td>\n",
       "      <td>13165</td>\n",
       "      <td>...</td>\n",
       "      <td>nan</td>\n",
       "      <td>12137.5100</td>\n",
       "      <td>0</td>\n",
       "      <td>40.0000</td>\n",
       "      <td>nan</td>\n",
       "    </tr>\n",
       "    <tr>\n",
       "      <th>76872</th>\n",
       "      <td>ny</td>\n",
       "      <td>2013-12-02</td>\n",
       "      <td>new york state energy research and development...</td>\n",
       "      <td>7.4200</td>\n",
       "      <td>13165</td>\n",
       "      <td>...</td>\n",
       "      <td>nan</td>\n",
       "      <td>8709.8900</td>\n",
       "      <td>0</td>\n",
       "      <td>40.0000</td>\n",
       "      <td>nan</td>\n",
       "    </tr>\n",
       "    <tr>\n",
       "      <th>76873</th>\n",
       "      <td>ny</td>\n",
       "      <td>2015-06-05</td>\n",
       "      <td>new york state energy research and development...</td>\n",
       "      <td>4.3400</td>\n",
       "      <td>13165</td>\n",
       "      <td>...</td>\n",
       "      <td>nan</td>\n",
       "      <td>5088.6000</td>\n",
       "      <td>1</td>\n",
       "      <td>40.0000</td>\n",
       "      <td>nan</td>\n",
       "    </tr>\n",
       "    <tr>\n",
       "      <th>76874</th>\n",
       "      <td>ny</td>\n",
       "      <td>2015-06-16</td>\n",
       "      <td>new york state energy research and development...</td>\n",
       "      <td>5.7000</td>\n",
       "      <td>13165</td>\n",
       "      <td>...</td>\n",
       "      <td>nan</td>\n",
       "      <td>6690.8900</td>\n",
       "      <td>0</td>\n",
       "      <td>40.0000</td>\n",
       "      <td>nan</td>\n",
       "    </tr>\n",
       "    <tr>\n",
       "      <th>76875</th>\n",
       "      <td>ny</td>\n",
       "      <td>2015-08-27</td>\n",
       "      <td>new york state energy research and development...</td>\n",
       "      <td>12.6000</td>\n",
       "      <td>13165</td>\n",
       "      <td>...</td>\n",
       "      <td>nan</td>\n",
       "      <td>14790.3800</td>\n",
       "      <td>0</td>\n",
       "      <td>40.0000</td>\n",
       "      <td>nan</td>\n",
       "    </tr>\n",
       "    <tr>\n",
       "      <th>76876</th>\n",
       "      <td>ny</td>\n",
       "      <td>2009-06-16</td>\n",
       "      <td>new york state energy research and development...</td>\n",
       "      <td>9.5200</td>\n",
       "      <td>13165</td>\n",
       "      <td>...</td>\n",
       "      <td>nan</td>\n",
       "      <td>11174.9600</td>\n",
       "      <td>0</td>\n",
       "      <td>40.0000</td>\n",
       "      <td>nan</td>\n",
       "    </tr>\n",
       "    <tr>\n",
       "      <th>76877</th>\n",
       "      <td>ny</td>\n",
       "      <td>2014-09-29</td>\n",
       "      <td>new york state energy research and development...</td>\n",
       "      <td>19.8800</td>\n",
       "      <td>13165</td>\n",
       "      <td>...</td>\n",
       "      <td>nan</td>\n",
       "      <td>23330.0700</td>\n",
       "      <td>0</td>\n",
       "      <td>40.0000</td>\n",
       "      <td>nan</td>\n",
       "    </tr>\n",
       "    <tr>\n",
       "      <th>76878</th>\n",
       "      <td>ny</td>\n",
       "      <td>2015-11-04</td>\n",
       "      <td>new york state energy research and development...</td>\n",
       "      <td>8.4200</td>\n",
       "      <td>13165</td>\n",
       "      <td>...</td>\n",
       "      <td>nan</td>\n",
       "      <td>9877.8600</td>\n",
       "      <td>1</td>\n",
       "      <td>40.0000</td>\n",
       "      <td>nan</td>\n",
       "    </tr>\n",
       "    <tr>\n",
       "      <th>76879</th>\n",
       "      <td>ny</td>\n",
       "      <td>2013-06-28</td>\n",
       "      <td>new york state energy research and development...</td>\n",
       "      <td>8.5800</td>\n",
       "      <td>13165</td>\n",
       "      <td>...</td>\n",
       "      <td>nan</td>\n",
       "      <td>10065.6800</td>\n",
       "      <td>0</td>\n",
       "      <td>40.0000</td>\n",
       "      <td>nan</td>\n",
       "    </tr>\n",
       "    <tr>\n",
       "      <th>76880</th>\n",
       "      <td>ny</td>\n",
       "      <td>2014-05-01</td>\n",
       "      <td>new york state energy research and development...</td>\n",
       "      <td>6.0000</td>\n",
       "      <td>13165</td>\n",
       "      <td>...</td>\n",
       "      <td>nan</td>\n",
       "      <td>7043.0400</td>\n",
       "      <td>0</td>\n",
       "      <td>40.0000</td>\n",
       "      <td>nan</td>\n",
       "    </tr>\n",
       "    <tr>\n",
       "      <th>76881</th>\n",
       "      <td>ny</td>\n",
       "      <td>2015-01-15</td>\n",
       "      <td>new york state energy research and development...</td>\n",
       "      <td>3.2500</td>\n",
       "      <td>13165</td>\n",
       "      <td>...</td>\n",
       "      <td>nan</td>\n",
       "      <td>3814.9800</td>\n",
       "      <td>1</td>\n",
       "      <td>40.0000</td>\n",
       "      <td>nan</td>\n",
       "    </tr>\n",
       "    <tr>\n",
       "      <th>76882</th>\n",
       "      <td>ny</td>\n",
       "      <td>2015-06-10</td>\n",
       "      <td>new york state energy research and development...</td>\n",
       "      <td>12.6000</td>\n",
       "      <td>13165</td>\n",
       "      <td>...</td>\n",
       "      <td>nan</td>\n",
       "      <td>14790.3800</td>\n",
       "      <td>0</td>\n",
       "      <td>40.0000</td>\n",
       "      <td>nan</td>\n",
       "    </tr>\n",
       "    <tr>\n",
       "      <th>76883</th>\n",
       "      <td>ny</td>\n",
       "      <td>2015-03-03</td>\n",
       "      <td>new york state energy research and development...</td>\n",
       "      <td>8.2500</td>\n",
       "      <td>13165</td>\n",
       "      <td>...</td>\n",
       "      <td>nan</td>\n",
       "      <td>9684.1800</td>\n",
       "      <td>0</td>\n",
       "      <td>40.0000</td>\n",
       "      <td>nan</td>\n",
       "    </tr>\n",
       "    <tr>\n",
       "      <th>76884</th>\n",
       "      <td>ny</td>\n",
       "      <td>2013-11-25</td>\n",
       "      <td>new york state energy research and development...</td>\n",
       "      <td>7.4200</td>\n",
       "      <td>13165</td>\n",
       "      <td>...</td>\n",
       "      <td>nan</td>\n",
       "      <td>8709.8900</td>\n",
       "      <td>0</td>\n",
       "      <td>40.0000</td>\n",
       "      <td>nan</td>\n",
       "    </tr>\n",
       "    <tr>\n",
       "      <th>76885</th>\n",
       "      <td>ny</td>\n",
       "      <td>2014-11-10</td>\n",
       "      <td>new york state energy research and development...</td>\n",
       "      <td>16.5000</td>\n",
       "      <td>13165</td>\n",
       "      <td>...</td>\n",
       "      <td>nan</td>\n",
       "      <td>19368.3600</td>\n",
       "      <td>0</td>\n",
       "      <td>40.0000</td>\n",
       "      <td>nan</td>\n",
       "    </tr>\n",
       "    <tr>\n",
       "      <th>76886</th>\n",
       "      <td>ny</td>\n",
       "      <td>2013-10-24</td>\n",
       "      <td>new york state energy research and development...</td>\n",
       "      <td>7.4200</td>\n",
       "      <td>13165</td>\n",
       "      <td>...</td>\n",
       "      <td>nan</td>\n",
       "      <td>8709.8900</td>\n",
       "      <td>0</td>\n",
       "      <td>40.0000</td>\n",
       "      <td>nan</td>\n",
       "    </tr>\n",
       "    <tr>\n",
       "      <th>886621</th>\n",
       "      <td>ny</td>\n",
       "      <td>2017-04-28</td>\n",
       "      <td>NaN</td>\n",
       "      <td>10.8800</td>\n",
       "      <td>13165</td>\n",
       "      <td>...</td>\n",
       "      <td>nan</td>\n",
       "      <td>nan</td>\n",
       "      <td>0</td>\n",
       "      <td>nan</td>\n",
       "      <td>nan</td>\n",
       "    </tr>\n",
       "    <tr>\n",
       "      <th>886635</th>\n",
       "      <td>ny</td>\n",
       "      <td>2017-08-24</td>\n",
       "      <td>NaN</td>\n",
       "      <td>5.7600</td>\n",
       "      <td>13165</td>\n",
       "      <td>...</td>\n",
       "      <td>nan</td>\n",
       "      <td>nan</td>\n",
       "      <td>0</td>\n",
       "      <td>nan</td>\n",
       "      <td>nan</td>\n",
       "    </tr>\n",
       "  </tbody>\n",
       "</table>\n",
       "<p>20 rows × 25 columns</p>\n",
       "</div>"
      ],
      "text/plain": [
       "       state date_installed  \\\n",
       "23979     wi     2015-06-04   \n",
       "76870     ny     2015-12-28   \n",
       "76871     ny     2014-07-24   \n",
       "76872     ny     2013-12-02   \n",
       "76873     ny     2015-06-05   \n",
       "76874     ny     2015-06-16   \n",
       "76875     ny     2015-08-27   \n",
       "76876     ny     2009-06-16   \n",
       "76877     ny     2014-09-29   \n",
       "76878     ny     2015-11-04   \n",
       "76879     ny     2013-06-28   \n",
       "76880     ny     2014-05-01   \n",
       "76881     ny     2015-01-15   \n",
       "76882     ny     2015-06-10   \n",
       "76883     ny     2015-03-03   \n",
       "76884     ny     2013-11-25   \n",
       "76885     ny     2014-11-10   \n",
       "76886     ny     2013-10-24   \n",
       "886621    ny     2017-04-28   \n",
       "886635    ny     2017-08-24   \n",
       "\n",
       "                                     incentive_prog_names  size_kw  zipcode  \\\n",
       "23979                           wisconsin focus on energy  11.0000    53594   \n",
       "76870   new york state energy research and development...  10.6000    13165   \n",
       "76871   new york state energy research and development...  10.3400    13165   \n",
       "76872   new york state energy research and development...   7.4200    13165   \n",
       "76873   new york state energy research and development...   4.3400    13165   \n",
       "76874   new york state energy research and development...   5.7000    13165   \n",
       "76875   new york state energy research and development...  12.6000    13165   \n",
       "76876   new york state energy research and development...   9.5200    13165   \n",
       "76877   new york state energy research and development...  19.8800    13165   \n",
       "76878   new york state energy research and development...   8.4200    13165   \n",
       "76879   new york state energy research and development...   8.5800    13165   \n",
       "76880   new york state energy research and development...   6.0000    13165   \n",
       "76881   new york state energy research and development...   3.2500    13165   \n",
       "76882   new york state energy research and development...  12.6000    13165   \n",
       "76883   new york state energy research and development...   8.2500    13165   \n",
       "76884   new york state energy research and development...   7.4200    13165   \n",
       "76885   new york state energy research and development...  16.5000    13165   \n",
       "76886   new york state energy research and development...   7.4200    13165   \n",
       "886621                                                NaN  10.8800    13165   \n",
       "886635                                                NaN   5.7600    13165   \n",
       "\n",
       "        ... azimuth1 reported_annual_energy_prod  3rdparty  incentive_count  \\\n",
       "23979   ...      nan                  12331.0000         0          34.0000   \n",
       "76870   ...      nan                  12442.7000         0          40.0000   \n",
       "76871   ...      nan                  12137.5100         0          40.0000   \n",
       "76872   ...      nan                   8709.8900         0          40.0000   \n",
       "76873   ...      nan                   5088.6000         1          40.0000   \n",
       "76874   ...      nan                   6690.8900         0          40.0000   \n",
       "76875   ...      nan                  14790.3800         0          40.0000   \n",
       "76876   ...      nan                  11174.9600         0          40.0000   \n",
       "76877   ...      nan                  23330.0700         0          40.0000   \n",
       "76878   ...      nan                   9877.8600         1          40.0000   \n",
       "76879   ...      nan                  10065.6800         0          40.0000   \n",
       "76880   ...      nan                   7043.0400         0          40.0000   \n",
       "76881   ...      nan                   3814.9800         1          40.0000   \n",
       "76882   ...      nan                  14790.3800         0          40.0000   \n",
       "76883   ...      nan                   9684.1800         0          40.0000   \n",
       "76884   ...      nan                   8709.8900         0          40.0000   \n",
       "76885   ...      nan                  19368.3600         0          40.0000   \n",
       "76886   ...      nan                   8709.8900         0          40.0000   \n",
       "886621  ...      nan                         nan         0              nan   \n",
       "886635  ...      nan                         nan         0              nan   \n",
       "\n",
       "       population  \n",
       "23979         nan  \n",
       "76870         nan  \n",
       "76871         nan  \n",
       "76872         nan  \n",
       "76873         nan  \n",
       "76874         nan  \n",
       "76875         nan  \n",
       "76876         nan  \n",
       "76877         nan  \n",
       "76878         nan  \n",
       "76879         nan  \n",
       "76880         nan  \n",
       "76881         nan  \n",
       "76882         nan  \n",
       "76883         nan  \n",
       "76884         nan  \n",
       "76885         nan  \n",
       "76886         nan  \n",
       "886621        nan  \n",
       "886635        nan  \n",
       "\n",
       "[20 rows x 25 columns]"
      ]
     },
     "execution_count": 124,
     "metadata": {},
     "output_type": "execute_result"
    }
   ],
   "source": [
    "pv_merge[pv_merge['city'] == 'waterloo']"
   ]
  }
 ],
 "metadata": {
  "kernelspec": {
   "display_name": "Python 3",
   "language": "python",
   "name": "python3"
  },
  "language_info": {
   "codemirror_mode": {
    "name": "ipython",
    "version": 3
   },
   "file_extension": ".py",
   "mimetype": "text/x-python",
   "name": "python",
   "nbconvert_exporter": "python",
   "pygments_lexer": "ipython3",
   "version": "3.7.3"
  }
 },
 "nbformat": 4,
 "nbformat_minor": 2
}
