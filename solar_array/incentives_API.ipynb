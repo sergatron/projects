{
 "cells": [
  {
   "cell_type": "code",
   "execution_count": 1,
   "metadata": {},
   "outputs": [],
   "source": [
    "import numpy as np\n",
    "import pandas as pd\n",
    "import requests\n",
    "import os\n",
    "import time\n",
    "from IPython.display import clear_output"
   ]
  },
  {
   "cell_type": "code",
   "execution_count": 2,
   "metadata": {},
   "outputs": [
    {
     "data": {
      "text/plain": [
       "'C:\\\\Users\\\\smouz\\\\Google Drive\\\\jupyter_notebook\\\\capstone'"
      ]
     },
     "execution_count": 2,
     "metadata": {},
     "output_type": "execute_result"
    }
   ],
   "source": [
    "os.getcwd()"
   ]
  },
  {
   "cell_type": "code",
   "execution_count": 3,
   "metadata": {},
   "outputs": [
    {
     "name": "stdout",
     "output_type": "stream",
     "text": [
      "Working directory: C:\\Users\\smouz\\OneDrive\\Desktop\\DataSci\\Python\\SP-Capstone-PY\\Capstone\n"
     ]
    }
   ],
   "source": [
    "if 'Capstone' not in os.getcwd():\n",
    "    os.chdir(str(os.environ['HOMEPATH']) + '\\OneDrive\\Desktop\\DataSci\\Python\\SP-Capstone-PY\\Capstone')\n",
    "print('Working directory:', os.getcwd())"
   ]
  },
  {
   "cell_type": "code",
   "execution_count": 4,
   "metadata": {},
   "outputs": [],
   "source": [
    "pv_df = pd.read_csv('pv_df_short.csv', low_memory=False)"
   ]
  },
  {
   "cell_type": "code",
   "execution_count": 5,
   "metadata": {
    "scrolled": true
   },
   "outputs": [
    {
     "name": "stdout",
     "output_type": "stream",
     "text": [
      "1157\n"
     ]
    }
   ],
   "source": [
    "county_state = pv_df['county'] + ', ' + pv_df['state']\n",
    "print(county_state[county_state.notnull()].nunique())\n",
    "# select values which are not NaNs, and are unique\n",
    "county_state = county_state[county_state.notnull()].unique()\n"
   ]
  },
  {
   "cell_type": "code",
   "execution_count": 6,
   "metadata": {},
   "outputs": [],
   "source": [
    "def get_data(baseurl, params=None):\n",
    "    \"\"\" Returns results of a request in JSON format\"\"\"\n",
    "    re = requests.get(baseurl, params)\n",
    "    try:\n",
    "        if re.status_code == 200:\n",
    "            return re.json()\n",
    "        else:\n",
    "            return re.json()\n",
    "    except Exception as e:\n",
    "        print(e)\n",
    "        pass"
   ]
  },
  {
   "cell_type": "code",
   "execution_count": 7,
   "metadata": {},
   "outputs": [
    {
     "name": "stdout",
     "output_type": "stream",
     "text": [
      "Trying address: malheur, or\n"
     ]
    }
   ],
   "source": [
    "incentives_count = []\n",
    "incentives_location = []\n",
    "for addr in county_state:\n",
    "    # define parameters for request\n",
    "    inputs = {'address': addr,\n",
    "              'api_key': '0DkoSjFm3OJ21FRtM05Smfi9bPNoFRcJHpFNgNJw',\n",
    "              'category': 'solar_technologies',\n",
    "              'technology': 'solar_photovoltaics',\n",
    "             }\n",
    "    # send request\n",
    "    programs_data = get_data(baseurl='https://developer.nrel.gov/api/energy_incentives/v2/dsire.json?',\n",
    "                             params=inputs,\n",
    "                            )\n",
    "    try:\n",
    "        # append results to lists\n",
    "        print('Trying address:', addr)\n",
    "        incentives_count.append(len(programs_data['result']))\n",
    "        incentives_location.append(programs_data['inputs']['address'])\n",
    "        \n",
    "        # wait 2 seconds between requests\n",
    "        time.sleep(2)\n",
    "        # clears last output to keep the output screen clutter free\n",
    "        clear_output(wait=True)\n",
    "    except Exception as e:\n",
    "        print(e)\n",
    "        pass"
   ]
  },
  {
   "cell_type": "code",
   "execution_count": 8,
   "metadata": {},
   "outputs": [],
   "source": [
    "# incentives_count = len(programs_data['result'])\n",
    "# incentive_location = programs_data['inputs']['address']"
   ]
  },
  {
   "cell_type": "code",
   "execution_count": 9,
   "metadata": {},
   "outputs": [],
   "source": [
    "# print(incentives_count)\n",
    "# print(incentive_location)"
   ]
  },
  {
   "cell_type": "code",
   "execution_count": 11,
   "metadata": {},
   "outputs": [],
   "source": [
    "# create DF and write to file\n",
    "# create dataframe\n",
    "incentives_df = pd.DataFrame({'county_state': incentives_location,\n",
    "                              'incentive_count': incentives_count})\n",
    "incentives_df = incentives_df.drop_duplicates()\n",
    "incentives_df = incentives_df.reset_index(drop=True)"
   ]
  },
  {
   "cell_type": "code",
   "execution_count": 13,
   "metadata": {},
   "outputs": [
    {
     "name": "stdout",
     "output_type": "stream",
     "text": [
      "Writing to file: incentives_df.csv\n",
      "Finished writing to: C:\\Users\\smouz\\OneDrive\\Desktop\\DataSci\\Python\\SP-Capstone-PY\\Capstone\n"
     ]
    }
   ],
   "source": [
    "# write file\n",
    "filename = 'incentives_df.csv'\n",
    "print('Writing to file:', filename)\n",
    "incentives_df.to_csv(filename, encoding='utf-8', index=False)\n",
    "print('Finished writing to:', os.getcwd())"
   ]
  },
  {
   "cell_type": "code",
   "execution_count": null,
   "metadata": {},
   "outputs": [],
   "source": []
  }
 ],
 "metadata": {
  "kernelspec": {
   "display_name": "Python 3",
   "language": "python",
   "name": "python3"
  },
  "language_info": {
   "codemirror_mode": {
    "name": "ipython",
    "version": 3
   },
   "file_extension": ".py",
   "mimetype": "text/x-python",
   "name": "python",
   "nbconvert_exporter": "python",
   "pygments_lexer": "ipython3",
   "version": "3.7.3"
  }
 },
 "nbformat": 4,
 "nbformat_minor": 2
}
