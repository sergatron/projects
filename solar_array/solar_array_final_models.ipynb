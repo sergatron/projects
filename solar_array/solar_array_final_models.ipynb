{
 "cells": [
  {
   "cell_type": "markdown",
   "metadata": {},
   "source": [
    "# Solar Array Cost Prediction"
   ]
  },
  {
   "cell_type": "code",
   "execution_count": 1,
   "metadata": {},
   "outputs": [],
   "source": [
    "import matplotlib.pyplot as plt\n",
    "from matplotlib import rcParams\n",
    "import seaborn as sns\n",
    "\n",
    "import pandas as pd\n",
    "import numpy as np\n",
    "\n",
    "from sklearn import linear_model\n",
    "from sklearn.kernel_ridge import KernelRidge\n",
    "\n",
    "from sklearn.metrics import mean_squared_error, r2_score, mean_absolute_error, make_scorer\n",
    "\n",
    "from sklearn.model_selection import cross_val_score, cross_validate\n",
    "from sklearn.model_selection import GridSearchCV, RandomizedSearchCV\n",
    "from sklearn.model_selection import train_test_split, TimeSeriesSplit\n",
    "\n",
    "from sklearn.feature_selection import SelectKBest, mutual_info_regression, f_regression\n",
    "\n",
    "from sklearn.pipeline import Pipeline, FeatureUnion, make_pipeline\n",
    "from sklearn.svm import SVR\n",
    "\n",
    "from sklearn.preprocessing import StandardScaler, RobustScaler, MinMaxScaler, MaxAbsScaler, Normalizer\n",
    "from sklearn.preprocessing import PolynomialFeatures, FunctionTransformer\n",
    "from sklearn.preprocessing import PowerTransformer, QuantileTransformer\n",
    "from sklearn.preprocessing import OneHotEncoder, LabelEncoder\n",
    "\n",
    "from sklearn.impute import SimpleImputer\n",
    "from sklearn.compose import ColumnTransformer, make_column_transformer, TransformedTargetRegressor\n",
    "\n",
    "from sklearn.ensemble import GradientBoostingRegressor, RandomForestRegressor, AdaBoostRegressor\n",
    "\n",
    "import scipy.stats as stats\n",
    "import statsmodels.api as sm\n",
    "\n",
    "import os\n",
    "from pprint import pprint\n",
    "\n",
    "import time\n",
    "\n",
    "import warnings\n",
    "warnings.filterwarnings(\"ignore\")"
   ]
  },
  {
   "cell_type": "code",
   "execution_count": 2,
   "metadata": {},
   "outputs": [],
   "source": [
    "# format float in pandas\n",
    "# pd.options.display.float_format = '{:.4f}'.format\n",
    "pd.options.display.max_columns = 30\n",
    "pd.options.display.max_rows = 50\n",
    "pd.options.display.width = 100\n",
    "\n",
    "plt.style.use('seaborn-white')\n",
    "rcParams['axes.labelsize'] = 'x-large'\n",
    "rcParams['axes.edgecolor'] = 'black'\n",
    "rcParams['axes.facecolor'] = 'white'\n",
    "rcParams['axes.titlesize'] = 'x-large'\n",
    "rcParams['axes.spines.top'] = False\n",
    "rcParams['axes.spines.right'] = False\n",
    "rcParams['axes.xmargin'] = 0.02\n",
    "rcParams['axes.ymargin'] = 0.02\n",
    "            \n",
    "rcParams['axes.grid'] = True\n",
    "rcParams['grid.linestyle'] = ':'\n",
    "rcParams['grid.alpha'] = 0.2\n",
    "rcParams['grid.color'] = 'black'\n",
    "          \n",
    "rcParams['figure.titlesize'] = 'x-large'\n",
    "rcParams['figure.edgecolor']= 'black'\n",
    "rcParams['figure.facecolor'] = 'white'\n",
    "rcParams['figure.figsize'] = [12, 8]\n",
    "\n",
    "rcParams['ytick.labelsize'] = 'large'\n",
    "rcParams['xtick.labelsize'] = 'large'"
   ]
  },
  {
   "cell_type": "code",
   "execution_count": 3,
   "metadata": {},
   "outputs": [],
   "source": [
    "pv_df = pd.read_csv('pv_df_clean_2.csv', low_memory=False)\n",
    "# pv_df.info()"
   ]
  },
  {
   "cell_type": "code",
   "execution_count": 4,
   "metadata": {},
   "outputs": [],
   "source": [
    "# Convert to datetime\n",
    "# =============================================================================\n",
    "# set index to the date installed and sort index\n",
    "date_time = '%Y-%m-%d'\n",
    "datetime = pd.to_datetime(pv_df['date_installed'], format=date_time)\n",
    "clean_pv = pv_df.set_index(datetime).sort_index()"
   ]
  },
  {
   "cell_type": "code",
   "execution_count": 5,
   "metadata": {},
   "outputs": [],
   "source": [
    "clean_pv = clean_pv['1998':'2017']"
   ]
  },
  {
   "cell_type": "markdown",
   "metadata": {},
   "source": [
    "## Feature Engineering\n",
    "### Combine Technology Type\n",
    "\n",
    "Combine features which appear infrequently into a single group called '*other*'. This will reduce the size of the sparse matrix that will be created when categorical variables are encoded. Additionally, new features can be created from existing numeric and categoric features. \n"
   ]
  },
  {
   "cell_type": "code",
   "execution_count": 6,
   "metadata": {},
   "outputs": [],
   "source": [
    "def counts_of(feature, df=clean_pv, freq=True):\n",
    "    \"\"\"\n",
    "    Count occurence or frequency.\n",
    "    \"\"\"\n",
    "    if freq:\n",
    "        return df[feature].value_counts() / np.count_nonzero(df[feature].notnull()) * 100\n",
    "    return df[feature].value_counts()\n",
    "\n",
    "def combine_features(feature, threshold, df=clean_pv, new_tag='others'):\n",
    "    \"\"\"\n",
    "    Combine features based on their frequency.\n",
    "    Variables appearing less frequently will be combined together.\n",
    "    \n",
    "    \"\"\"\n",
    "    counts = counts_of(feature)\n",
    "    mask = df[feature].isin(counts[counts < threshold].index)\n",
    "    df[feature][mask] = new_tag\n",
    "    \n",
    "def percent_missing(df, threshold=50, drop=False):\n",
    "    \"\"\"\n",
    "    Calculate percent missing values in each column.\n",
    "    \n",
    "    Returns a series showing the proportion of missing vals in each column\n",
    "    \n",
    "    Drop columns which contain more than <threshold> missing values.\n",
    "    \"\"\"\n",
    "    ms = (np.sum(df.isnull()) / len(df)) * 100\n",
    "    if drop:\n",
    "        return df.drop(labels=ms[ms >= threshold].index, axis=1)     \n",
    "    else:\n",
    "        return ms.sort_values()"
   ]
  },
  {
   "cell_type": "code",
   "execution_count": 7,
   "metadata": {},
   "outputs": [
    {
     "data": {
      "text/plain": [
       "9.090909090909092"
      ]
     },
     "execution_count": 7,
     "metadata": {},
     "output_type": "execute_result"
    }
   ],
   "source": [
    "# TECH_1\n",
    "counts_of('tech_1').mean()"
   ]
  },
  {
   "cell_type": "code",
   "execution_count": 8,
   "metadata": {},
   "outputs": [],
   "source": [
    "combine_features('tech_1',\n",
    "                 threshold=counts_of('tech_1').mean(),\n",
    "                 new_tag='other'\n",
    "                )\n",
    "\n",
    "# counts_of('tech_1', freq=False)"
   ]
  },
  {
   "cell_type": "code",
   "execution_count": 9,
   "metadata": {},
   "outputs": [
    {
     "data": {
      "text/plain": [
       "poly     58.633855\n",
       "mono     38.337607\n",
       "other     3.028538\n",
       "Name: tech_1, dtype: float64"
      ]
     },
     "execution_count": 9,
     "metadata": {},
     "output_type": "execute_result"
    }
   ],
   "source": [
    "counts_of('tech_1')"
   ]
  },
  {
   "cell_type": "code",
   "execution_count": 10,
   "metadata": {},
   "outputs": [
    {
     "data": {
      "text/plain": [
       "fixed          99.670780\n",
       "single-axis     0.141963\n",
       "dual-axis       0.110348\n",
       "mixed           0.076909\n",
       "Name: tracking_type, dtype: float64"
      ]
     },
     "execution_count": 10,
     "metadata": {},
     "output_type": "execute_result"
    }
   ],
   "source": [
    "# TRACKING TYPE\n",
    "# frequency\n",
    "counts_of('tracking_type')"
   ]
  },
  {
   "cell_type": "code",
   "execution_count": 11,
   "metadata": {},
   "outputs": [
    {
     "data": {
      "text/plain": [
       "fixed       99.67078\n",
       "has_axis     0.32922\n",
       "Name: tracking_type, dtype: float64"
      ]
     },
     "execution_count": 11,
     "metadata": {},
     "output_type": "execute_result"
    }
   ],
   "source": [
    "combine_features('tracking_type',\n",
    "                 threshold=counts_of('tracking_type').mean(),\n",
    "                 new_tag='has_axis'\n",
    "                )\n",
    "\n",
    "counts_of('tracking_type')"
   ]
  },
  {
   "cell_type": "code",
   "execution_count": null,
   "metadata": {},
   "outputs": [],
   "source": []
  },
  {
   "cell_type": "code",
   "execution_count": 12,
   "metadata": {},
   "outputs": [
    {
     "data": {
      "text/plain": [
       "date_installed                  0.000000\n",
       "year                            0.000000\n",
       "day                             0.000000\n",
       "month                           0.000000\n",
       "size_catg                       0.000000\n",
       "total_cost                      0.000000\n",
       "3rdparty                        0.000000\n",
       "cost_mo_agg_med                 0.000000\n",
       "annual_pv_prod                  0.000000\n",
       "month_install_cnt               0.000000\n",
       "state                           0.000000\n",
       "cost                            0.000000\n",
       "size_kw                         0.000000\n",
       "zipcode                         0.000000\n",
       "install_type                    0.000000\n",
       "cost_per_watt                   0.000654\n",
       "annual_insolation               0.000817\n",
       "power_density                   0.000817\n",
       "area_est                        0.000817\n",
       "county                          0.643225\n",
       "incentive_count                 0.756610\n",
       "city                           24.653145\n",
       "incentive_prog_names           24.891679\n",
       "utility_clean                  25.227424\n",
       "installer                      34.335340\n",
       "model1_clean                   41.376178\n",
       "tech_1                         41.376178\n",
       "tracking_type                  46.254852\n",
       "tilt1                          49.685331\n",
       "rebate_cost_ratio              50.550589\n",
       "rebate                         50.550589\n",
       "azimuth1                       52.745755\n",
       "sales_tax_percent              53.729136\n",
       "sales_tax_cost                 53.729136\n",
       "reported_annual_energy_prod    72.798298\n",
       "dtype: float64"
      ]
     },
     "execution_count": 12,
     "metadata": {},
     "output_type": "execute_result"
    }
   ],
   "source": [
    "percent_missing(clean_pv)"
   ]
  },
  {
   "cell_type": "code",
   "execution_count": null,
   "metadata": {},
   "outputs": [],
   "source": []
  },
  {
   "cell_type": "code",
   "execution_count": 13,
   "metadata": {},
   "outputs": [],
   "source": [
    "pv_dm = clean_pv.copy()"
   ]
  },
  {
   "cell_type": "code",
   "execution_count": 14,
   "metadata": {},
   "outputs": [
    {
     "data": {
      "text/plain": [
       "month\n",
       "12    29404.758917\n",
       "11    29414.329758\n",
       "10    29449.837032\n",
       "9     29485.749490\n",
       "7     29766.724061\n",
       "8     29841.020024\n",
       "6     30371.166334\n",
       "5     30474.619863\n",
       "2     30800.167366\n",
       "1     30954.987227\n",
       "4     30958.332673\n",
       "3     31155.114718\n",
       "Name: cost, dtype: float64"
      ]
     },
     "execution_count": 14,
     "metadata": {},
     "output_type": "execute_result"
    }
   ],
   "source": [
    "# NOTE:\n",
    "# - December is cheaper apparently, but the difference between MIN and MAX doesn't seem significant enough\n",
    "#   for making predictions\n",
    "\n",
    "(pv_dm['cost_mo_agg_med'] / pv_dm['month_install_cnt']).describe()\n",
    "clean_pv.groupby('month')['cost'].mean().sort_values()"
   ]
  },
  {
   "cell_type": "code",
   "execution_count": 15,
   "metadata": {},
   "outputs": [
    {
     "data": {
      "text/plain": [
       "tracking_type\n",
       "fixed       27700.00\n",
       "has_axis    26705.22\n",
       "Name: cost, dtype: float64"
      ]
     },
     "execution_count": 15,
     "metadata": {},
     "output_type": "execute_result"
    }
   ],
   "source": [
    "# NOTE:\n",
    "# - not a good predictor of cost as the difference seems to be insignificant\n",
    "pv_dm.groupby('tracking_type')['cost'].median()\n",
    "# pv_dm['tracking_type'].value_counts()"
   ]
  },
  {
   "cell_type": "code",
   "execution_count": 16,
   "metadata": {},
   "outputs": [
    {
     "data": {
      "text/plain": [
       "tech_1\n",
       "mono     28056.0\n",
       "other    30500.0\n",
       "poly     26624.0\n",
       "Name: cost, dtype: float64"
      ]
     },
     "execution_count": 16,
     "metadata": {},
     "output_type": "execute_result"
    }
   ],
   "source": [
    "pv_dm.groupby('tech_1')['cost'].median()"
   ]
  },
  {
   "cell_type": "code",
   "execution_count": 17,
   "metadata": {},
   "outputs": [],
   "source": [
    "def to_frequency(column_name, df):\n",
    " \n",
    "    new_name = str(column_name) + '_freq'   \n",
    "    temp = df[column_name].value_counts() / len(df)\n",
    "    df[new_name] = df[column_name].map(temp).astype('float')\n",
    "    return df\n",
    "\n",
    "# select numeric dtype \n",
    "def get_numeric_data(df):\n",
    "    return df.select_dtypes(include=[np.float64, np.int64])\n",
    "\n",
    "# select categoric dtype \n",
    "def get_non_numeric_data(df):\n",
    "    return df.select_dtypes(exclude=[np.float64, np.int64])"
   ]
  },
  {
   "cell_type": "code",
   "execution_count": 18,
   "metadata": {},
   "outputs": [],
   "source": [
    "def process_data(df, \n",
    "                 to_drop=['date_installed', 'total_cost', '3rdparty', 'incentive_prog_names',\n",
    "                          'install_type', 'city', 'county', 'size_catg', 'model1_clean', 'installer', \n",
    "                          'utility_clean', 'day', 'month', 'cost_mo_agg_med', 'zipcode', 'incentive_count'],\n",
    "                ):\n",
    "    try:\n",
    "        df = clean_pv.copy()\n",
    "        \n",
    "        # drop columns which contain more than 50% missing values\n",
    "        df = percent_missing(df, 50, drop=True)\n",
    "        \n",
    "        # drop features\n",
    "        df = df.drop(to_drop, axis=1)\n",
    "\n",
    "        # adjust dtype\n",
    "        df['year'] = df['year'].astype('category')\n",
    "#         df['zipcode'] = df['zipcode'].astype(str)\n",
    "        \n",
    "        # ENCODE CATEGORICAL FEATURES\n",
    "        # FREQUENCIES: categorical to continous encoding\n",
    "        to_freq_cols = get_non_numeric_data(df)\n",
    "        for item in to_freq_cols:\n",
    "            df = to_frequency(item, df)\n",
    "        \n",
    "    except:\n",
    "        print(sys.exc_info()[0])\n",
    "        print(sys.exc_info()[1])\n",
    "    \n",
    "    return df"
   ]
  },
  {
   "cell_type": "code",
   "execution_count": 19,
   "metadata": {},
   "outputs": [
    {
     "name": "stdout",
     "output_type": "stream",
     "text": [
      "<class 'pandas.core.frame.DataFrame'>\n",
      "DatetimeIndex: 612072 entries, 1998-04-08 to 2017-12-28\n",
      "Data columns (total 17 columns):\n",
      "state                 612072 non-null object\n",
      "size_kw               612072 non-null float64\n",
      "cost_per_watt         612068 non-null float64\n",
      "cost                  612072 non-null float64\n",
      "tech_1                358820 non-null object\n",
      "annual_pv_prod        612072 non-null float64\n",
      "annual_insolation     612067 non-null float64\n",
      "tilt1                 307962 non-null float64\n",
      "tracking_type         328959 non-null object\n",
      "area_est              612067 non-null float64\n",
      "power_density         612067 non-null float64\n",
      "year                  612072 non-null category\n",
      "month_install_cnt     612072 non-null int64\n",
      "state_freq            612072 non-null float64\n",
      "tech_1_freq           358820 non-null float64\n",
      "tracking_type_freq    328959 non-null float64\n",
      "year_freq             612072 non-null float64\n",
      "dtypes: category(1), float64(12), int64(1), object(3)\n",
      "memory usage: 100.0+ MB\n"
     ]
    }
   ],
   "source": [
    "# pv_dm.info()\n",
    "process_data(pv_dm).info()"
   ]
  },
  {
   "cell_type": "markdown",
   "metadata": {},
   "source": [
    "### Train-Test Split\n",
    "Data will be split into training and testing subsets such that training will occur on past data and predictions will be made on more recent data. The ratio will be approximately 80% train and 20% test."
   ]
  },
  {
   "cell_type": "code",
   "execution_count": 20,
   "metadata": {},
   "outputs": [],
   "source": [
    "def train_test_df(df, end_date, start_date, show_split=False):\n",
    "    \"\"\"\n",
    "    Split dataframe into Training and Testing set by dates.\n",
    "    \n",
    "    Training set will be past data, from start to `split_date`.\n",
    "    \n",
    "    Testing set will more future data, from `split_date` to end.\n",
    "    \n",
    "    The goal is to have about 80/20 split.\n",
    "    \"\"\"\n",
    "    train_set = df.loc[:end_date, :]\n",
    "    test_set = df.loc[start_date:, :]\n",
    "    if show_split:\n",
    "        # return split proportion of TRAIN, TEST\n",
    "        return len(train_set)/len(df), len(test_set)/len(df)\n",
    "    return train_set, test_set\n",
    "\n",
    "def train_test_split(df, end_date, start_date, target='cost'):\n",
    "    \"\"\"\n",
    "    Returns arrays of X, y train and test sets\n",
    "    Exclude additional features with param `drop_features` from predictors arrays\n",
    "    \n",
    "    Parameters:\n",
    "    -----------\n",
    "        df_train:      training set\n",
    "        df_test:       testing set\n",
    "        target:        target variable\n",
    "        drop_features: drop additional features from df\n",
    "    \n",
    "    Returns:\n",
    "    -----------\n",
    "        X_train, X_test, y_train, y_test\n",
    "    \"\"\"\n",
    "    df_train, df_test = train_test_df(df, end_date, start_date)\n",
    "    \n",
    "    X_train = df_train.drop(target, axis=1)\n",
    "    X_test = df_test.drop(target, axis=1)\n",
    "    y_train = df_train[[target]]\n",
    "    y_test = df_test[[target]]\n",
    "    return X_train, y_train, X_test, y_test\n",
    "    \n",
    "def drop_features(df, drop_this):\n",
    "    return df.drop(drop_this, axis=1)\n"
   ]
  },
  {
   "cell_type": "code",
   "execution_count": 21,
   "metadata": {},
   "outputs": [],
   "source": [
    "pv_dm = process_data(pv_dm)"
   ]
  },
  {
   "cell_type": "code",
   "execution_count": 22,
   "metadata": {},
   "outputs": [
    {
     "data": {
      "text/plain": [
       "(0.7849256296644839, 0.21507437033551607)"
      ]
     },
     "execution_count": 22,
     "metadata": {},
     "output_type": "execute_result"
    }
   ],
   "source": [
    "train_test_df(pv_dm, '2015-05-31', '2015-06-01', show_split=True)"
   ]
  },
  {
   "cell_type": "markdown",
   "metadata": {},
   "source": [
    "# Correlations"
   ]
  },
  {
   "cell_type": "code",
   "execution_count": 23,
   "metadata": {},
   "outputs": [
    {
     "name": "stdout",
     "output_type": "stream",
     "text": [
      "<class 'pandas.core.frame.DataFrame'>\n",
      "DatetimeIndex: 612072 entries, 1998-04-08 to 2017-12-28\n",
      "Data columns (total 17 columns):\n",
      "state                 612072 non-null object\n",
      "size_kw               612072 non-null float64\n",
      "cost_per_watt         612068 non-null float64\n",
      "cost                  612072 non-null float64\n",
      "tech_1                358820 non-null object\n",
      "annual_pv_prod        612072 non-null float64\n",
      "annual_insolation     612067 non-null float64\n",
      "tilt1                 307962 non-null float64\n",
      "tracking_type         328959 non-null object\n",
      "area_est              612067 non-null float64\n",
      "power_density         612067 non-null float64\n",
      "year                  612072 non-null category\n",
      "month_install_cnt     612072 non-null int64\n",
      "state_freq            612072 non-null float64\n",
      "tech_1_freq           358820 non-null float64\n",
      "tracking_type_freq    328959 non-null float64\n",
      "year_freq             612072 non-null float64\n",
      "dtypes: category(1), float64(12), int64(1), object(3)\n",
      "memory usage: 100.0+ MB\n"
     ]
    }
   ],
   "source": [
    "pv_dm.info()"
   ]
  },
  {
   "cell_type": "markdown",
   "metadata": {},
   "source": [
    "## Heatmap 1"
   ]
  },
  {
   "cell_type": "code",
   "execution_count": 24,
   "metadata": {},
   "outputs": [
    {
     "data": {
      "image/png": "[encoded data removed]",
      "text/plain": [
       "<Figure size 864x576 with 2 Axes>"
      ]
     },
     "metadata": {},
     "output_type": "display_data"
    },
    {
     "name": "stdout",
     "output_type": "stream",
     "text": [
      "cost                  1.000000\n",
      "size_kw               0.739517\n",
      "area_est              0.718252\n",
      "annual_pv_prod        0.712267\n",
      "cost_per_watt         0.271661\n",
      "tilt1                 0.096764\n",
      "tracking_type_freq    0.002464\n",
      "annual_insolation    -0.052751\n",
      "power_density        -0.052751\n",
      "tech_1_freq          -0.059597\n",
      "state_freq           -0.076588\n",
      "month_install_cnt    -0.152681\n",
      "year_freq            -0.155107\n",
      "Name: cost, dtype: float64\n"
     ]
    }
   ],
   "source": [
    "# HEATMAP\n",
    "# [['size_kw', 'cost_per_watt', 'cost', 'annual_pv_prod', 'annual_insolation', 'tilt1',\n",
    "#                                       'incentive_count', 'area_est', 'power_density']]\n",
    "\n",
    "# drop_this = ['cost_mo_agg_med', ]\n",
    "\n",
    "numeric_df = get_numeric_data(pv_dm)\n",
    "\n",
    "sns.heatmap(numeric_df.corr(), cmap='viridis')\n",
    "plt.show()\n",
    "\n",
    "corr_ = numeric_df.corr()['cost'].sort_values(ascending=False)\n",
    "print(corr_)\n",
    "\n",
    "high_corr = corr_[abs(corr_) > 0.10]"
   ]
  },
  {
   "cell_type": "markdown",
   "metadata": {},
   "source": [
    "## Heatmap 2\n",
    "Feature **size_kw** multiplied by every feature"
   ]
  },
  {
   "cell_type": "code",
   "execution_count": 25,
   "metadata": {},
   "outputs": [],
   "source": [
    "sample_df = pv_dm.copy()\n",
    "size_constant = (sample_df['size_kw'])\n",
    "\n",
    "#  \n",
    "# features = ['size_kw', 'annual_pv_prod', 'cost_per_watt', 'area_est', 'power_density', 'annual_insolation', 'month_install_cnt']\n",
    "\n",
    "# remove 'cost' so there are no operations performed on it\n",
    "sample_df = get_numeric_data(sample_df).drop('cost', axis=1)\n",
    "\n",
    "features = sample_df.columns.to_list()"
   ]
  },
  {
   "cell_type": "code",
   "execution_count": 26,
   "metadata": {},
   "outputs": [
    {
     "data": {
      "image/png": "[encoded data removed]",
      "text/plain": [
       "<Figure size 864x576 with 2 Axes>"
      ]
     },
     "metadata": {},
     "output_type": "display_data"
    },
    {
     "data": {
      "text/plain": [
       "month_install_cnt     0.095101\n",
       "year_freq             0.264695\n",
       "state_freq            0.325470\n",
       "tech_1_freq           0.583460\n",
       "tilt1                 0.588652\n",
       "area_est              0.688254\n",
       "annual_pv_prod        0.696183\n",
       "size_kw               0.700050\n",
       "annual_insolation     0.700725\n",
       "power_density         0.700725\n",
       "tracking_type_freq    0.742255\n",
       "cost_per_watt         0.999999\n",
       "cost                  1.000000\n",
       "Name: cost, dtype: float64"
      ]
     },
     "execution_count": 26,
     "metadata": {},
     "output_type": "execute_result"
    }
   ],
   "source": [
    "# instantiate new dataframe\n",
    "df_2 = pd.DataFrame()\n",
    "\n",
    "for col in features:\n",
    "    df_2 = pd.concat([df_2, sample_df[col] * size_constant], axis=1)\n",
    "    \n",
    "col_labels = [str(item) for item in features]\n",
    "df_2.columns = col_labels\n",
    "\n",
    "# put back column 'cost'\n",
    "df_2 = pd.concat([df_2, pv_dm['cost']], axis=1)\n",
    "\n",
    "# plot heatmap\n",
    "sns.heatmap(df_2.corr(), cmap='viridis', annot=True)\n",
    "plt.tight_layout()\n",
    "plt.show()\n",
    "\n",
    "df_2.corr()['cost'].sort_values()"
   ]
  },
  {
   "cell_type": "code",
   "execution_count": 27,
   "metadata": {},
   "outputs": [
    {
     "data": {
      "text/html": [
       "<div>\n",
       "<style scoped>\n",
       "    .dataframe tbody tr th:only-of-type {\n",
       "        vertical-align: middle;\n",
       "    }\n",
       "\n",
       "    .dataframe tbody tr th {\n",
       "        vertical-align: top;\n",
       "    }\n",
       "\n",
       "    .dataframe thead th {\n",
       "        text-align: right;\n",
       "    }\n",
       "</style>\n",
       "<table border=\"1\" class=\"dataframe\">\n",
       "  <thead>\n",
       "    <tr style=\"text-align: right;\">\n",
       "      <th></th>\n",
       "      <th>size_kw</th>\n",
       "      <th>cost_per_watt</th>\n",
       "      <th>annual_pv_prod</th>\n",
       "      <th>annual_insolation</th>\n",
       "      <th>tilt1</th>\n",
       "      <th>area_est</th>\n",
       "      <th>power_density</th>\n",
       "      <th>month_install_cnt</th>\n",
       "      <th>state_freq</th>\n",
       "      <th>tech_1_freq</th>\n",
       "      <th>tracking_type_freq</th>\n",
       "      <th>year_freq</th>\n",
       "      <th>cost</th>\n",
       "    </tr>\n",
       "  </thead>\n",
       "  <tbody>\n",
       "    <tr>\n",
       "      <th>count</th>\n",
       "      <td>612072.000000</td>\n",
       "      <td>612068.000000</td>\n",
       "      <td>612072.000000</td>\n",
       "      <td>612067.000000</td>\n",
       "      <td>307962.000000</td>\n",
       "      <td>612067.000000</td>\n",
       "      <td>612067.000000</td>\n",
       "      <td>612072.000000</td>\n",
       "      <td>612072.000000</td>\n",
       "      <td>358820.000000</td>\n",
       "      <td>328959.000000</td>\n",
       "      <td>612072.000000</td>\n",
       "      <td>612072.000000</td>\n",
       "    </tr>\n",
       "    <tr>\n",
       "      <th>mean</th>\n",
       "      <td>35.833464</td>\n",
       "      <td>30050.221504</td>\n",
       "      <td>52418.257345</td>\n",
       "      <td>10734.958294</td>\n",
       "      <td>128.665610</td>\n",
       "      <td>202.130725</td>\n",
       "      <td>1449.219370</td>\n",
       "      <td>17665.537435</td>\n",
       "      <td>1.899048</td>\n",
       "      <td>1.608612</td>\n",
       "      <td>3.006234</td>\n",
       "      <td>0.850356</td>\n",
       "      <td>30050.351214</td>\n",
       "    </tr>\n",
       "    <tr>\n",
       "      <th>std</th>\n",
       "      <td>29.667400</td>\n",
       "      <td>13022.352179</td>\n",
       "      <td>42488.750975</td>\n",
       "      <td>4727.445746</td>\n",
       "      <td>75.737579</td>\n",
       "      <td>170.423948</td>\n",
       "      <td>638.205176</td>\n",
       "      <td>23533.676856</td>\n",
       "      <td>1.585883</td>\n",
       "      <td>0.807186</td>\n",
       "      <td>1.250431</td>\n",
       "      <td>0.694213</td>\n",
       "      <td>13022.343215</td>\n",
       "    </tr>\n",
       "    <tr>\n",
       "      <th>min</th>\n",
       "      <td>0.002500</td>\n",
       "      <td>227.000000</td>\n",
       "      <td>3.821965</td>\n",
       "      <td>106.980968</td>\n",
       "      <td>0.018000</td>\n",
       "      <td>0.011948</td>\n",
       "      <td>14.442431</td>\n",
       "      <td>0.064000</td>\n",
       "      <td>0.000003</td>\n",
       "      <td>0.009055</td>\n",
       "      <td>0.002123</td>\n",
       "      <td>0.000017</td>\n",
       "      <td>227.000000</td>\n",
       "    </tr>\n",
       "    <tr>\n",
       "      <th>25%</th>\n",
       "      <td>13.542400</td>\n",
       "      <td>20360.000000</td>\n",
       "      <td>19834.154418</td>\n",
       "      <td>7106.023770</td>\n",
       "      <td>75.924000</td>\n",
       "      <td>75.698096</td>\n",
       "      <td>959.313209</td>\n",
       "      <td>3634.260000</td>\n",
       "      <td>0.516030</td>\n",
       "      <td>1.031202</td>\n",
       "      <td>2.089160</td>\n",
       "      <td>0.358897</td>\n",
       "      <td>20360.000000</td>\n",
       "    </tr>\n",
       "    <tr>\n",
       "      <th>50%</th>\n",
       "      <td>27.040000</td>\n",
       "      <td>28380.000000</td>\n",
       "      <td>40394.369641</td>\n",
       "      <td>10109.815236</td>\n",
       "      <td>112.710000</td>\n",
       "      <td>153.047321</td>\n",
       "      <td>1364.825057</td>\n",
       "      <td>9810.720000</td>\n",
       "      <td>1.618085</td>\n",
       "      <td>1.519308</td>\n",
       "      <td>2.849829</td>\n",
       "      <td>0.653704</td>\n",
       "      <td>28380.000000</td>\n",
       "    </tr>\n",
       "    <tr>\n",
       "      <th>75%</th>\n",
       "      <td>49.280400</td>\n",
       "      <td>38306.100000</td>\n",
       "      <td>72785.507784</td>\n",
       "      <td>13763.732082</td>\n",
       "      <td>163.200000</td>\n",
       "      <td>279.119275</td>\n",
       "      <td>1858.103831</td>\n",
       "      <td>21145.800000</td>\n",
       "      <td>3.030978</td>\n",
       "      <td>2.096778</td>\n",
       "      <td>3.811542</td>\n",
       "      <td>1.124985</td>\n",
       "      <td>38307.500000</td>\n",
       "    </tr>\n",
       "    <tr>\n",
       "      <th>max</th>\n",
       "      <td>196.000000</td>\n",
       "      <td>68040.000000</td>\n",
       "      <td>249172.563919</td>\n",
       "      <td>28412.569308</td>\n",
       "      <td>1764.000000</td>\n",
       "      <td>1180.920687</td>\n",
       "      <td>3835.696857</td>\n",
       "      <td>233818.750000</td>\n",
       "      <td>8.207678</td>\n",
       "      <td>4.812277</td>\n",
       "      <td>7.499549</td>\n",
       "      <td>3.923084</td>\n",
       "      <td>67770.000000</td>\n",
       "    </tr>\n",
       "  </tbody>\n",
       "</table>\n",
       "</div>"
      ],
      "text/plain": [
       "             size_kw  cost_per_watt  annual_pv_prod  annual_insolation          tilt1  \\\n",
       "count  612072.000000  612068.000000   612072.000000      612067.000000  307962.000000   \n",
       "mean       35.833464   30050.221504    52418.257345       10734.958294     128.665610   \n",
       "std        29.667400   13022.352179    42488.750975        4727.445746      75.737579   \n",
       "min         0.002500     227.000000        3.821965         106.980968       0.018000   \n",
       "25%        13.542400   20360.000000    19834.154418        7106.023770      75.924000   \n",
       "50%        27.040000   28380.000000    40394.369641       10109.815236     112.710000   \n",
       "75%        49.280400   38306.100000    72785.507784       13763.732082     163.200000   \n",
       "max       196.000000   68040.000000   249172.563919       28412.569308    1764.000000   \n",
       "\n",
       "            area_est  power_density  month_install_cnt     state_freq    tech_1_freq  \\\n",
       "count  612067.000000  612067.000000      612072.000000  612072.000000  358820.000000   \n",
       "mean      202.130725    1449.219370       17665.537435       1.899048       1.608612   \n",
       "std       170.423948     638.205176       23533.676856       1.585883       0.807186   \n",
       "min         0.011948      14.442431           0.064000       0.000003       0.009055   \n",
       "25%        75.698096     959.313209        3634.260000       0.516030       1.031202   \n",
       "50%       153.047321    1364.825057        9810.720000       1.618085       1.519308   \n",
       "75%       279.119275    1858.103831       21145.800000       3.030978       2.096778   \n",
       "max      1180.920687    3835.696857      233818.750000       8.207678       4.812277   \n",
       "\n",
       "       tracking_type_freq      year_freq           cost  \n",
       "count       328959.000000  612072.000000  612072.000000  \n",
       "mean             3.006234       0.850356   30050.351214  \n",
       "std              1.250431       0.694213   13022.343215  \n",
       "min              0.002123       0.000017     227.000000  \n",
       "25%              2.089160       0.358897   20360.000000  \n",
       "50%              2.849829       0.653704   28380.000000  \n",
       "75%              3.811542       1.124985   38307.500000  \n",
       "max              7.499549       3.923084   67770.000000  "
      ]
     },
     "execution_count": 27,
     "metadata": {},
     "output_type": "execute_result"
    }
   ],
   "source": [
    "df_2.describe()"
   ]
  },
  {
   "cell_type": "markdown",
   "metadata": {},
   "source": [
    "## Heatmap 3\n",
    "Feature **size_kw** multiplied by every feature *and* compute **log**. Target variable **cost** is left untouched."
   ]
  },
  {
   "cell_type": "code",
   "execution_count": 28,
   "metadata": {},
   "outputs": [
    {
     "data": {
      "image/png": "[encoded data removed]",
      "text/plain": [
       "<Figure size 864x576 with 2 Axes>"
      ]
     },
     "metadata": {},
     "output_type": "display_data"
    },
    {
     "data": {
      "text/plain": [
       "month_install_cnt     0.127606\n",
       "state_freq            0.190222\n",
       "year_freq             0.232272\n",
       "tech_1_freq           0.441077\n",
       "tilt1                 0.584158\n",
       "tracking_type_freq    0.593481\n",
       "annual_insolation     0.702716\n",
       "power_density         0.702716\n",
       "area_est              0.720701\n",
       "annual_pv_prod        0.722412\n",
       "size_kw               0.727110\n",
       "cost_per_watt         0.950220\n",
       "cost                  1.000000\n",
       "Name: cost, dtype: float64"
      ]
     },
     "execution_count": 28,
     "metadata": {},
     "output_type": "execute_result"
    }
   ],
   "source": [
    "df_log = pd.DataFrame()\n",
    "# sample_df = get_numeric_data(sample_df).drop('cost', axis=1)\n",
    "\n",
    "for col in features:\n",
    "    df_log = pd.concat([df_log, np.log(sample_df[col] * (sample_df['size_kw'].values))], axis=1)\n",
    "    \n",
    "col_labels = [str(item) for item in features]\n",
    "df_log.columns = col_labels\n",
    "\n",
    "# put back column 'cost'\n",
    "df_log = pd.concat([df_log, pv_dm['cost']], axis=1)\n",
    "\n",
    "# plot heatmap\n",
    "sns.heatmap(df_log.corr(), cmap='viridis', annot=True)\n",
    "plt.tight_layout()\n",
    "plt.show()\n",
    "\n",
    "df_log.corr()['cost'].sort_values()\n"
   ]
  },
  {
   "cell_type": "markdown",
   "metadata": {},
   "source": [
    "## Multiple Linear Regression\n",
    "The goal is to create a pipeline and try various regressor with the pipeline. Asses the model with various metrics then take the neccessary steps to improve the model."
   ]
  },
  {
   "cell_type": "code",
   "execution_count": 29,
   "metadata": {},
   "outputs": [],
   "source": [
    "def metrics(y_true, y_pred):\n",
    "    return (\n",
    "        r2_score(y_true, y_pred), \n",
    "        mean_absolute_error(y_true, y_pred),\n",
    "        np.sqrt(mean_squared_error(y_true, y_pred))\n",
    "    )\n",
    "\n",
    "def model_metrics(y_train, y_test, y_pred, y_train_pred):\n",
    "    print('Metrics'.center(50, '-'))\n",
    "    print('Train set:')\n",
    "    print('R^2: ', metrics(y_train, y_train_pred)[0])\n",
    "    print('MAE: ', metrics(y_train, y_train_pred)[1])\n",
    "    print('RMSE:', metrics(y_train, y_train_pred)[2])  \n",
    "    print('='*50)\n",
    "    print('Test set:')\n",
    "    print('R^2: ', metrics(y_test, y_pred)[0])\n",
    "    print('MAE: ', metrics(y_test, y_pred)[1])\n",
    "    print('RMSE:', metrics(y_test, y_pred)[2])\n",
    "    print('='*50)"
   ]
  },
  {
   "cell_type": "code",
   "execution_count": 30,
   "metadata": {},
   "outputs": [],
   "source": [
    "# high_corr.drop('cost').index.to_list()\n",
    "# get_numeric_data(X_train).columns.to_list()\n",
    "# pv_dm.info()"
   ]
  },
  {
   "cell_type": "code",
   "execution_count": 31,
   "metadata": {},
   "outputs": [],
   "source": [
    "df_log.index = pd.to_datetime(df_log.index)\n",
    "df_2.index = pd.to_datetime(df_2.index)"
   ]
  },
  {
   "cell_type": "code",
   "execution_count": 32,
   "metadata": {},
   "outputs": [
    {
     "data": {
      "text/html": [
       "<div>\n",
       "<style scoped>\n",
       "    .dataframe tbody tr th:only-of-type {\n",
       "        vertical-align: middle;\n",
       "    }\n",
       "\n",
       "    .dataframe tbody tr th {\n",
       "        vertical-align: top;\n",
       "    }\n",
       "\n",
       "    .dataframe thead th {\n",
       "        text-align: right;\n",
       "    }\n",
       "</style>\n",
       "<table border=\"1\" class=\"dataframe\">\n",
       "  <thead>\n",
       "    <tr style=\"text-align: right;\">\n",
       "      <th></th>\n",
       "      <th>size_kw</th>\n",
       "      <th>cost_per_watt</th>\n",
       "      <th>annual_pv_prod</th>\n",
       "      <th>annual_insolation</th>\n",
       "      <th>tilt1</th>\n",
       "      <th>area_est</th>\n",
       "      <th>power_density</th>\n",
       "      <th>month_install_cnt</th>\n",
       "      <th>state_freq</th>\n",
       "      <th>tech_1_freq</th>\n",
       "      <th>tracking_type_freq</th>\n",
       "      <th>year_freq</th>\n",
       "      <th>cost</th>\n",
       "    </tr>\n",
       "  </thead>\n",
       "  <tbody>\n",
       "    <tr>\n",
       "      <th>count</th>\n",
       "      <td>612072.000000</td>\n",
       "      <td>612068.000000</td>\n",
       "      <td>612072.000000</td>\n",
       "      <td>612067.000000</td>\n",
       "      <td>307962.000000</td>\n",
       "      <td>612067.000000</td>\n",
       "      <td>612067.000000</td>\n",
       "      <td>612072.000000</td>\n",
       "      <td>612072.000000</td>\n",
       "      <td>358820.000000</td>\n",
       "      <td>328959.000000</td>\n",
       "      <td>612072.000000</td>\n",
       "      <td>612072.000000</td>\n",
       "    </tr>\n",
       "    <tr>\n",
       "      <th>mean</th>\n",
       "      <td>3.199429</td>\n",
       "      <td>10.205577</td>\n",
       "      <td>10.495183</td>\n",
       "      <td>9.174538</td>\n",
       "      <td>4.687569</td>\n",
       "      <td>4.922852</td>\n",
       "      <td>7.172057</td>\n",
       "      <td>8.903014</td>\n",
       "      <td>0.017297</td>\n",
       "      <td>0.300203</td>\n",
       "      <td>0.993321</td>\n",
       "      <td>-0.567426</td>\n",
       "      <td>30050.351214</td>\n",
       "    </tr>\n",
       "    <tr>\n",
       "      <th>std</th>\n",
       "      <td>0.961279</td>\n",
       "      <td>0.484433</td>\n",
       "      <td>0.952915</td>\n",
       "      <td>0.484646</td>\n",
       "      <td>0.614848</td>\n",
       "      <td>0.967538</td>\n",
       "      <td>0.484646</td>\n",
       "      <td>1.634013</td>\n",
       "      <td>1.454683</td>\n",
       "      <td>0.700886</td>\n",
       "      <td>0.552149</td>\n",
       "      <td>1.073168</td>\n",
       "      <td>13022.343215</td>\n",
       "    </tr>\n",
       "    <tr>\n",
       "      <th>min</th>\n",
       "      <td>-5.991465</td>\n",
       "      <td>5.424950</td>\n",
       "      <td>1.340765</td>\n",
       "      <td>4.672651</td>\n",
       "      <td>-4.017384</td>\n",
       "      <td>-4.427166</td>\n",
       "      <td>2.670170</td>\n",
       "      <td>-2.748872</td>\n",
       "      <td>-12.582668</td>\n",
       "      <td>-4.704464</td>\n",
       "      <td>-6.154793</td>\n",
       "      <td>-10.996840</td>\n",
       "      <td>227.000000</td>\n",
       "    </tr>\n",
       "    <tr>\n",
       "      <th>25%</th>\n",
       "      <td>2.605826</td>\n",
       "      <td>9.921327</td>\n",
       "      <td>9.895161</td>\n",
       "      <td>8.868698</td>\n",
       "      <td>4.329733</td>\n",
       "      <td>4.326753</td>\n",
       "      <td>6.866218</td>\n",
       "      <td>8.198161</td>\n",
       "      <td>-0.661590</td>\n",
       "      <td>0.030725</td>\n",
       "      <td>0.736762</td>\n",
       "      <td>-1.024721</td>\n",
       "      <td>20360.000000</td>\n",
       "    </tr>\n",
       "    <tr>\n",
       "      <th>50%</th>\n",
       "      <td>3.297317</td>\n",
       "      <td>10.253440</td>\n",
       "      <td>10.606446</td>\n",
       "      <td>9.221262</td>\n",
       "      <td>4.724818</td>\n",
       "      <td>5.030747</td>\n",
       "      <td>7.218782</td>\n",
       "      <td>9.191231</td>\n",
       "      <td>0.481243</td>\n",
       "      <td>0.418255</td>\n",
       "      <td>1.047259</td>\n",
       "      <td>-0.425100</td>\n",
       "      <td>28380.000000</td>\n",
       "    </tr>\n",
       "    <tr>\n",
       "      <th>75%</th>\n",
       "      <td>3.897526</td>\n",
       "      <td>10.553364</td>\n",
       "      <td>11.195272</td>\n",
       "      <td>9.529792</td>\n",
       "      <td>5.094976</td>\n",
       "      <td>5.631639</td>\n",
       "      <td>7.527312</td>\n",
       "      <td>9.959197</td>\n",
       "      <td>1.108885</td>\n",
       "      <td>0.740402</td>\n",
       "      <td>1.338034</td>\n",
       "      <td>0.117770</td>\n",
       "      <td>38307.500000</td>\n",
       "    </tr>\n",
       "    <tr>\n",
       "      <th>max</th>\n",
       "      <td>5.278115</td>\n",
       "      <td>11.127851</td>\n",
       "      <td>12.425901</td>\n",
       "      <td>10.254587</td>\n",
       "      <td>7.475339</td>\n",
       "      <td>7.074050</td>\n",
       "      <td>8.252106</td>\n",
       "      <td>12.362302</td>\n",
       "      <td>2.105070</td>\n",
       "      <td>1.571170</td>\n",
       "      <td>2.014843</td>\n",
       "      <td>1.366878</td>\n",
       "      <td>67770.000000</td>\n",
       "    </tr>\n",
       "  </tbody>\n",
       "</table>\n",
       "</div>"
      ],
      "text/plain": [
       "             size_kw  cost_per_watt  annual_pv_prod  annual_insolation          tilt1  \\\n",
       "count  612072.000000  612068.000000   612072.000000      612067.000000  307962.000000   \n",
       "mean        3.199429      10.205577       10.495183           9.174538       4.687569   \n",
       "std         0.961279       0.484433        0.952915           0.484646       0.614848   \n",
       "min        -5.991465       5.424950        1.340765           4.672651      -4.017384   \n",
       "25%         2.605826       9.921327        9.895161           8.868698       4.329733   \n",
       "50%         3.297317      10.253440       10.606446           9.221262       4.724818   \n",
       "75%         3.897526      10.553364       11.195272           9.529792       5.094976   \n",
       "max         5.278115      11.127851       12.425901          10.254587       7.475339   \n",
       "\n",
       "            area_est  power_density  month_install_cnt     state_freq    tech_1_freq  \\\n",
       "count  612067.000000  612067.000000      612072.000000  612072.000000  358820.000000   \n",
       "mean        4.922852       7.172057           8.903014       0.017297       0.300203   \n",
       "std         0.967538       0.484646           1.634013       1.454683       0.700886   \n",
       "min        -4.427166       2.670170          -2.748872     -12.582668      -4.704464   \n",
       "25%         4.326753       6.866218           8.198161      -0.661590       0.030725   \n",
       "50%         5.030747       7.218782           9.191231       0.481243       0.418255   \n",
       "75%         5.631639       7.527312           9.959197       1.108885       0.740402   \n",
       "max         7.074050       8.252106          12.362302       2.105070       1.571170   \n",
       "\n",
       "       tracking_type_freq      year_freq           cost  \n",
       "count       328959.000000  612072.000000  612072.000000  \n",
       "mean             0.993321      -0.567426   30050.351214  \n",
       "std              0.552149       1.073168   13022.343215  \n",
       "min             -6.154793     -10.996840     227.000000  \n",
       "25%              0.736762      -1.024721   20360.000000  \n",
       "50%              1.047259      -0.425100   28380.000000  \n",
       "75%              1.338034       0.117770   38307.500000  \n",
       "max              2.014843       1.366878   67770.000000  "
      ]
     },
     "execution_count": 32,
     "metadata": {},
     "output_type": "execute_result"
    }
   ],
   "source": [
    "df_log.describe()"
   ]
  },
  {
   "cell_type": "code",
   "execution_count": 33,
   "metadata": {},
   "outputs": [
    {
     "data": {
      "text/html": [
       "<div>\n",
       "<style scoped>\n",
       "    .dataframe tbody tr th:only-of-type {\n",
       "        vertical-align: middle;\n",
       "    }\n",
       "\n",
       "    .dataframe tbody tr th {\n",
       "        vertical-align: top;\n",
       "    }\n",
       "\n",
       "    .dataframe thead th {\n",
       "        text-align: right;\n",
       "    }\n",
       "</style>\n",
       "<table border=\"1\" class=\"dataframe\">\n",
       "  <thead>\n",
       "    <tr style=\"text-align: right;\">\n",
       "      <th></th>\n",
       "      <th>size_kw</th>\n",
       "      <th>cost_per_watt</th>\n",
       "      <th>annual_pv_prod</th>\n",
       "      <th>annual_insolation</th>\n",
       "      <th>tilt1</th>\n",
       "      <th>area_est</th>\n",
       "      <th>power_density</th>\n",
       "      <th>month_install_cnt</th>\n",
       "      <th>state_freq</th>\n",
       "      <th>tech_1_freq</th>\n",
       "      <th>tracking_type_freq</th>\n",
       "      <th>year_freq</th>\n",
       "      <th>cost</th>\n",
       "    </tr>\n",
       "  </thead>\n",
       "  <tbody>\n",
       "    <tr>\n",
       "      <th>count</th>\n",
       "      <td>612072.000000</td>\n",
       "      <td>612068.000000</td>\n",
       "      <td>612072.000000</td>\n",
       "      <td>612067.000000</td>\n",
       "      <td>307962.000000</td>\n",
       "      <td>612067.000000</td>\n",
       "      <td>612067.000000</td>\n",
       "      <td>612072.000000</td>\n",
       "      <td>612072.000000</td>\n",
       "      <td>358820.000000</td>\n",
       "      <td>328959.000000</td>\n",
       "      <td>612072.000000</td>\n",
       "      <td>612072.000000</td>\n",
       "    </tr>\n",
       "    <tr>\n",
       "      <th>mean</th>\n",
       "      <td>35.833464</td>\n",
       "      <td>30050.221504</td>\n",
       "      <td>52418.257345</td>\n",
       "      <td>10734.958294</td>\n",
       "      <td>128.665610</td>\n",
       "      <td>202.130725</td>\n",
       "      <td>1449.219370</td>\n",
       "      <td>17665.537435</td>\n",
       "      <td>1.899048</td>\n",
       "      <td>1.608612</td>\n",
       "      <td>3.006234</td>\n",
       "      <td>0.850356</td>\n",
       "      <td>30050.351214</td>\n",
       "    </tr>\n",
       "    <tr>\n",
       "      <th>std</th>\n",
       "      <td>29.667400</td>\n",
       "      <td>13022.352179</td>\n",
       "      <td>42488.750975</td>\n",
       "      <td>4727.445746</td>\n",
       "      <td>75.737579</td>\n",
       "      <td>170.423948</td>\n",
       "      <td>638.205176</td>\n",
       "      <td>23533.676856</td>\n",
       "      <td>1.585883</td>\n",
       "      <td>0.807186</td>\n",
       "      <td>1.250431</td>\n",
       "      <td>0.694213</td>\n",
       "      <td>13022.343215</td>\n",
       "    </tr>\n",
       "    <tr>\n",
       "      <th>min</th>\n",
       "      <td>0.002500</td>\n",
       "      <td>227.000000</td>\n",
       "      <td>3.821965</td>\n",
       "      <td>106.980968</td>\n",
       "      <td>0.018000</td>\n",
       "      <td>0.011948</td>\n",
       "      <td>14.442431</td>\n",
       "      <td>0.064000</td>\n",
       "      <td>0.000003</td>\n",
       "      <td>0.009055</td>\n",
       "      <td>0.002123</td>\n",
       "      <td>0.000017</td>\n",
       "      <td>227.000000</td>\n",
       "    </tr>\n",
       "    <tr>\n",
       "      <th>25%</th>\n",
       "      <td>13.542400</td>\n",
       "      <td>20360.000000</td>\n",
       "      <td>19834.154418</td>\n",
       "      <td>7106.023770</td>\n",
       "      <td>75.924000</td>\n",
       "      <td>75.698096</td>\n",
       "      <td>959.313209</td>\n",
       "      <td>3634.260000</td>\n",
       "      <td>0.516030</td>\n",
       "      <td>1.031202</td>\n",
       "      <td>2.089160</td>\n",
       "      <td>0.358897</td>\n",
       "      <td>20360.000000</td>\n",
       "    </tr>\n",
       "    <tr>\n",
       "      <th>50%</th>\n",
       "      <td>27.040000</td>\n",
       "      <td>28380.000000</td>\n",
       "      <td>40394.369641</td>\n",
       "      <td>10109.815236</td>\n",
       "      <td>112.710000</td>\n",
       "      <td>153.047321</td>\n",
       "      <td>1364.825057</td>\n",
       "      <td>9810.720000</td>\n",
       "      <td>1.618085</td>\n",
       "      <td>1.519308</td>\n",
       "      <td>2.849829</td>\n",
       "      <td>0.653704</td>\n",
       "      <td>28380.000000</td>\n",
       "    </tr>\n",
       "    <tr>\n",
       "      <th>75%</th>\n",
       "      <td>49.280400</td>\n",
       "      <td>38306.100000</td>\n",
       "      <td>72785.507784</td>\n",
       "      <td>13763.732082</td>\n",
       "      <td>163.200000</td>\n",
       "      <td>279.119275</td>\n",
       "      <td>1858.103831</td>\n",
       "      <td>21145.800000</td>\n",
       "      <td>3.030978</td>\n",
       "      <td>2.096778</td>\n",
       "      <td>3.811542</td>\n",
       "      <td>1.124985</td>\n",
       "      <td>38307.500000</td>\n",
       "    </tr>\n",
       "    <tr>\n",
       "      <th>max</th>\n",
       "      <td>196.000000</td>\n",
       "      <td>68040.000000</td>\n",
       "      <td>249172.563919</td>\n",
       "      <td>28412.569308</td>\n",
       "      <td>1764.000000</td>\n",
       "      <td>1180.920687</td>\n",
       "      <td>3835.696857</td>\n",
       "      <td>233818.750000</td>\n",
       "      <td>8.207678</td>\n",
       "      <td>4.812277</td>\n",
       "      <td>7.499549</td>\n",
       "      <td>3.923084</td>\n",
       "      <td>67770.000000</td>\n",
       "    </tr>\n",
       "  </tbody>\n",
       "</table>\n",
       "</div>"
      ],
      "text/plain": [
       "             size_kw  cost_per_watt  annual_pv_prod  annual_insolation          tilt1  \\\n",
       "count  612072.000000  612068.000000   612072.000000      612067.000000  307962.000000   \n",
       "mean       35.833464   30050.221504    52418.257345       10734.958294     128.665610   \n",
       "std        29.667400   13022.352179    42488.750975        4727.445746      75.737579   \n",
       "min         0.002500     227.000000        3.821965         106.980968       0.018000   \n",
       "25%        13.542400   20360.000000    19834.154418        7106.023770      75.924000   \n",
       "50%        27.040000   28380.000000    40394.369641       10109.815236     112.710000   \n",
       "75%        49.280400   38306.100000    72785.507784       13763.732082     163.200000   \n",
       "max       196.000000   68040.000000   249172.563919       28412.569308    1764.000000   \n",
       "\n",
       "            area_est  power_density  month_install_cnt     state_freq    tech_1_freq  \\\n",
       "count  612067.000000  612067.000000      612072.000000  612072.000000  358820.000000   \n",
       "mean      202.130725    1449.219370       17665.537435       1.899048       1.608612   \n",
       "std       170.423948     638.205176       23533.676856       1.585883       0.807186   \n",
       "min         0.011948      14.442431           0.064000       0.000003       0.009055   \n",
       "25%        75.698096     959.313209        3634.260000       0.516030       1.031202   \n",
       "50%       153.047321    1364.825057        9810.720000       1.618085       1.519308   \n",
       "75%       279.119275    1858.103831       21145.800000       3.030978       2.096778   \n",
       "max      1180.920687    3835.696857      233818.750000       8.207678       4.812277   \n",
       "\n",
       "       tracking_type_freq      year_freq           cost  \n",
       "count       328959.000000  612072.000000  612072.000000  \n",
       "mean             3.006234       0.850356   30050.351214  \n",
       "std              1.250431       0.694213   13022.343215  \n",
       "min              0.002123       0.000017     227.000000  \n",
       "25%              2.089160       0.358897   20360.000000  \n",
       "50%              2.849829       0.653704   28380.000000  \n",
       "75%              3.811542       1.124985   38307.500000  \n",
       "max              7.499549       3.923084   67770.000000  "
      ]
     },
     "execution_count": 33,
     "metadata": {},
     "output_type": "execute_result"
    }
   ],
   "source": [
    "(df_2).describe()"
   ]
  },
  {
   "cell_type": "code",
   "execution_count": 34,
   "metadata": {},
   "outputs": [],
   "source": [
    "# np.logspace(-2, 2, 10)"
   ]
  },
  {
   "cell_type": "code",
   "execution_count": 35,
   "metadata": {},
   "outputs": [],
   "source": [
    "# # categorical_df = pd.concat([pv_dm[['state']], df_2.drop('month_install_cnt', axis=1)], axis=1)\n",
    "\n",
    "# X_train, y_train, X_test, y_test = train_test_split(df_2.drop('month_install_cnt', axis=1), \n",
    "#                                                     '2015-05-31', '2015-06-01')\n",
    "\n",
    "# # X_train, y_train, X_test, y_test = train_test_split(pv_dm.drop(['tech_1', 'tracking_type', 'state', 'year', 'tilt1'], axis=1), \n",
    "# #                                                     '2015-05-31', '2015-06-01')\n",
    "\n",
    "# params = {'alphas': np.logspace(-2, 2, 10),\n",
    "# #           'random_state': 11,\n",
    "#           'cv': 5,\n",
    "#           'scoring': make_scorer(mean_squared_error, greater_is_better=False)\n",
    "#          }\n",
    "# regressor = linear_model.RidgeCV(**params\n",
    "#                               )\n",
    "# numeric_features = get_numeric_data(X_train).columns.to_list()\n",
    "# categorical_features = get_non_numeric_data(X_train).columns.to_list()\n",
    "\n",
    "# # Pipeline 1: preprocess numeric data\n",
    "# numeric_transformer = Pipeline([\n",
    "#     ('imputer', SimpleImputer(strategy='mean')),\n",
    "# #     ('transformer', QuantileTransformer(output_distribution='normal')),\n",
    "#     ('scaler', RobustScaler()),\n",
    "# #     ('poly', PolynomialFeatures(degree=3, interaction_only=False, include_bias=True)),\n",
    "# ])\n",
    "\n",
    "# # Pipeline 2: preprocess categorical features, if any\n",
    "# categorical_transformer = Pipeline([\n",
    "#     ('imputer', SimpleImputer(strategy='most_frequent')),\n",
    "#     ('onehot_encoder', OneHotEncoder(handle_unknown='ignore', dtype=np.int32)),\n",
    "# ])\n",
    "\n",
    "# # COLUMN TRASNFORMER\n",
    "# col_tx = make_column_transformer(\n",
    "#     (numeric_transformer, numeric_features),\n",
    "#     (categorical_transformer, categorical_features),\n",
    "#     n_jobs=-1\n",
    "# )\n",
    "\n",
    "# # MODEL PIPELINE\n",
    "# steps = [\n",
    "#     ('preprocessor', col_tx),\n",
    "# #     ('feature select', SelectKBest(f_regression, k=6)),\n",
    "#     ('regressor', regressor)\n",
    "# ]\n",
    "\n",
    "# model = Pipeline(steps)\n",
    "\n",
    "# fit_start = time.time()\n",
    "# model.fit(X_train, y_train)\n",
    "# print('Fit time:', time.time() - fit_start)\n",
    "# y_pred = model.predict(X_test)\n",
    "# y_train_pred = model.predict(X_train)\n",
    "\n",
    "# model_metrics(y_train, y_test, y_pred, y_train_pred)\n",
    "# print('Alpha:', model.named_steps['regressor'].alpha_)"
   ]
  },
  {
   "cell_type": "markdown",
   "metadata": {},
   "source": [
    "# Building the Pipeline"
   ]
  },
  {
   "cell_type": "code",
   "execution_count": 36,
   "metadata": {},
   "outputs": [],
   "source": [
    "\n",
    "def build_pipeline(regressor, poly_degree=0, imputer_strat='mean', k_select=6, **kwargs):\n",
    "    \n",
    "#     X_train, y_train, X_test, y_test = train_test_split(data.drop('month_install_cnt', axis=1), \n",
    "#                                                     '2015-05-31', '2015-06-01')\n",
    "    \n",
    "    numeric_features = get_numeric_data(X_train).columns.to_list()\n",
    "    categorical_features = get_non_numeric_data(X_train).columns.to_list()\n",
    "    \n",
    "#     print('Numeric features:', len(numeric_features))\n",
    "#     print('Categrical features:', len(categorical_features))\n",
    "\n",
    "    # Pipeline 1: preprocess numeric data\n",
    "    numeric_transformer = Pipeline([\n",
    "        ('imputer', SimpleImputer(strategy='mean')),\n",
    "#         ('func transformer', FunctionTransformer(func=np.sqrt,\n",
    "#                                                  inverse_func=np.square\n",
    "#                                                 )),      \n",
    "        ('scaler', RobustScaler()),        \n",
    "    ])\n",
    "    # Pipeline 2: preprocess categorical features, if any\n",
    "    categorical_transformer = Pipeline([\n",
    "        ('imputer', SimpleImputer(strategy='most_frequent')),\n",
    "        ('onehot_encoder', OneHotEncoder(handle_unknown='ignore', dtype=np.int32)),\n",
    "    ])\n",
    "    # COLUMN TRASNFORMER\n",
    "    col_tx = make_column_transformer(\n",
    "        (numeric_transformer, numeric_features),\n",
    "        (categorical_transformer, categorical_features),\n",
    "        n_jobs=-1\n",
    "    )\n",
    "    # MODEL PIPELINE\n",
    "    steps = [\n",
    "        ('preprocessor', col_tx),\n",
    "        ('feature select', SelectKBest(f_regression, k=k_select)),\n",
    "#         ('target regressor', TransformedTargetRegressor(regressor=regressor(**kwargs),\n",
    "#                                                         func=np.sqrt,\n",
    "#                                                         inverse_func=np.square)),\n",
    "        ('regressor', regressor(**kwargs)),       \n",
    "    ]\n",
    "    # add step for polynomial features\n",
    "    if poly_degree > 0:\n",
    "        print('Degree:', poly_degree)\n",
    "        steps.insert(2, \n",
    "                     ('poly features', PolynomialFeatures(degree=poly_degree,\n",
    "                                                          interaction_only=True,\n",
    "                                                          include_bias=True))\n",
    "                    )\n",
    "    return Pipeline(steps)\n",
    "\n",
    "\n",
    "def coefficients(model):\n",
    "    feature_mask = model.named_steps['feature select'].get_support()\n",
    "    X_train.columns.values[feature_mask]\n",
    "    return pd.DataFrame({\n",
    "        'coef_names': X_train.columns.values[feature_mask],\n",
    "        'coef_values': model.steps[-1][-1].coef_\n",
    "    }).sort_values(by='coef_values', ascending=False)\n",
    "\n",
    "def plot_coefficients(coefficents_df):\n",
    "   \n",
    "    sns.barplot(x='coef_names',\n",
    "                y='coef_values',\n",
    "                hue='model_name',\n",
    "                data=coefficents_df,\n",
    "                ci=95,\n",
    "#                 orient='h',\n",
    "               )\n",
    "    plt.xlabel('Predictors')\n",
    "    plt.ylabel('Weight/Importance')\n",
    "    plt.title('Predictor Coefficients\\n(Variable Importance)')\n",
    "    plt.tight_layout()\n",
    "    plt.show()"
   ]
  },
  {
   "cell_type": "markdown",
   "metadata": {},
   "source": [
    "# Function: build model"
   ]
  },
  {
   "cell_type": "code",
   "execution_count": 37,
   "metadata": {},
   "outputs": [],
   "source": [
    "def build_model(regressor, data=df_2, model_name='', **pipeline_params):\n",
    "\n",
    "    # build pipeline\n",
    "    model = build_pipeline(\n",
    "        regressor,\n",
    "        **pipeline_params\n",
    "    )\n",
    "    \n",
    "    # measure fit time\n",
    "    fit_start = time.time()\n",
    "    model.fit(X_train, y_train)\n",
    "    print('Fit time:', time.time() - fit_start)\n",
    "    # make predictions\n",
    "    y_pred = model.predict(X_test)\n",
    "    y_train_pred = model.predict(X_train)\n",
    "\n",
    "    # display metrics\n",
    "    metrics_df = pd.DataFrame({\n",
    "        'metric': ['r2_score', 'MAE', 'RMSE'],\n",
    "        'test_set': metrics(y_test, y_pred),\n",
    "        'train_set': metrics(y_train, y_train_pred),\n",
    "        'regressor': str(model_name),\n",
    "        'fit_time': time.time() - fit_start\n",
    "    })\n",
    "\n",
    "    return metrics_df, model"
   ]
  },
  {
   "cell_type": "markdown",
   "metadata": {},
   "source": [
    "# Ridge\n"
   ]
  },
  {
   "cell_type": "code",
   "execution_count": 38,
   "metadata": {},
   "outputs": [
    {
     "name": "stdout",
     "output_type": "stream",
     "text": [
      "Fit time: 2.0838491916656494\n"
     ]
    },
    {
     "data": {
      "text/html": [
       "<div>\n",
       "<style scoped>\n",
       "    .dataframe tbody tr th:only-of-type {\n",
       "        vertical-align: middle;\n",
       "    }\n",
       "\n",
       "    .dataframe tbody tr th {\n",
       "        vertical-align: top;\n",
       "    }\n",
       "\n",
       "    .dataframe thead th {\n",
       "        text-align: right;\n",
       "    }\n",
       "</style>\n",
       "<table border=\"1\" class=\"dataframe\">\n",
       "  <thead>\n",
       "    <tr style=\"text-align: right;\">\n",
       "      <th></th>\n",
       "      <th>metric</th>\n",
       "      <th>test_set</th>\n",
       "      <th>train_set</th>\n",
       "      <th>regressor</th>\n",
       "      <th>fit_time</th>\n",
       "    </tr>\n",
       "  </thead>\n",
       "  <tbody>\n",
       "    <tr>\n",
       "      <th>0</th>\n",
       "      <td>r2_score</td>\n",
       "      <td>0.999998</td>\n",
       "      <td>0.999980</td>\n",
       "      <td>Ridge</td>\n",
       "      <td>4.578164</td>\n",
       "    </tr>\n",
       "    <tr>\n",
       "      <th>1</th>\n",
       "      <td>MAE</td>\n",
       "      <td>12.538510</td>\n",
       "      <td>14.432880</td>\n",
       "      <td>Ridge</td>\n",
       "      <td>4.578164</td>\n",
       "    </tr>\n",
       "    <tr>\n",
       "      <th>2</th>\n",
       "      <td>RMSE</td>\n",
       "      <td>18.538255</td>\n",
       "      <td>59.536237</td>\n",
       "      <td>Ridge</td>\n",
       "      <td>4.578164</td>\n",
       "    </tr>\n",
       "  </tbody>\n",
       "</table>\n",
       "</div>"
      ],
      "text/plain": [
       "     metric   test_set  train_set regressor  fit_time\n",
       "0  r2_score   0.999998   0.999980     Ridge  4.578164\n",
       "1       MAE  12.538510  14.432880     Ridge  4.578164\n",
       "2      RMSE  18.538255  59.536237     Ridge  4.578164"
      ]
     },
     "execution_count": 38,
     "metadata": {},
     "output_type": "execute_result"
    }
   ],
   "source": [
    "# remove some variables\n",
    "drop_this = [\n",
    "    'annual_pv_prod', \n",
    "#     'size_kw', \n",
    "    'tilt1', 'tracking_type_freq',\n",
    "    'state_freq', 'tech_1_freq', 'tracking_type_freq',\n",
    "    'month_install_cnt',\n",
    "]\n",
    "X_train, y_train, X_test, y_test = train_test_split(df_2.drop(drop_this, axis=1), \n",
    "                                                    '2015-05-31', '2015-06-01')\n",
    "\n",
    "# build ridge model\n",
    "ridge_metrics_df, ridge_model = build_model(   \n",
    "    linear_model.Ridge,\n",
    "    alpha=200,\n",
    "    random_state=11,\n",
    "    model_name='Ridge',\n",
    "           \n",
    ")\n",
    "ridge_metrics_df"
   ]
  },
  {
   "cell_type": "code",
   "execution_count": 140,
   "metadata": {},
   "outputs": [],
   "source": [
    "def plot_model_metrics(data, title):\n",
    "    \"\"\"\n",
    "    Parameters:\n",
    "    ----------\n",
    "        Data: DataFrame\n",
    "        \n",
    "    Plot comparison of MAE and RMSE for training and test data.\n",
    "    \"\"\"\n",
    "    data.drop(0).set_index('metric').plot(kind='bar', edgecolor='k')\n",
    "    plt.title(title)\n",
    "    plt.ylabel(\"RMSE\")\n",
    "    plt.xticks(rotation=0)\n",
    "    plt.show()"
   ]
  },
  {
   "cell_type": "code",
   "execution_count": 141,
   "metadata": {},
   "outputs": [
    {
     "data": {
      "image/png": "[encoded data removed]",
      "text/plain": [
       "<Figure size 864x576 with 1 Axes>"
      ]
     },
     "metadata": {},
     "output_type": "display_data"
    }
   ],
   "source": [
    "plot_model_metrics(ridge_metrics_df, 'Ridge Metrics')"
   ]
  },
  {
   "cell_type": "code",
   "execution_count": 41,
   "metadata": {},
   "outputs": [
    {
     "data": {
      "text/html": [
       "<div>\n",
       "<style scoped>\n",
       "    .dataframe tbody tr th:only-of-type {\n",
       "        vertical-align: middle;\n",
       "    }\n",
       "\n",
       "    .dataframe tbody tr th {\n",
       "        vertical-align: top;\n",
       "    }\n",
       "\n",
       "    .dataframe thead th {\n",
       "        text-align: right;\n",
       "    }\n",
       "</style>\n",
       "<table border=\"1\" class=\"dataframe\">\n",
       "  <thead>\n",
       "    <tr style=\"text-align: right;\">\n",
       "      <th></th>\n",
       "      <th>coef_names</th>\n",
       "      <th>coef_values</th>\n",
       "      <th>model_name</th>\n",
       "    </tr>\n",
       "  </thead>\n",
       "  <tbody>\n",
       "    <tr>\n",
       "      <th>1</th>\n",
       "      <td>cost_per_watt</td>\n",
       "      <td>18240.019961</td>\n",
       "      <td>ridge</td>\n",
       "    </tr>\n",
       "    <tr>\n",
       "      <th>3</th>\n",
       "      <td>area_est</td>\n",
       "      <td>21.538108</td>\n",
       "      <td>ridge</td>\n",
       "    </tr>\n",
       "    <tr>\n",
       "      <th>2</th>\n",
       "      <td>annual_insolation</td>\n",
       "      <td>9.439249</td>\n",
       "      <td>ridge</td>\n",
       "    </tr>\n",
       "    <tr>\n",
       "      <th>4</th>\n",
       "      <td>power_density</td>\n",
       "      <td>9.439249</td>\n",
       "      <td>ridge</td>\n",
       "    </tr>\n",
       "    <tr>\n",
       "      <th>5</th>\n",
       "      <td>year_freq</td>\n",
       "      <td>-6.983782</td>\n",
       "      <td>ridge</td>\n",
       "    </tr>\n",
       "    <tr>\n",
       "      <th>0</th>\n",
       "      <td>size_kw</td>\n",
       "      <td>-7.651716</td>\n",
       "      <td>ridge</td>\n",
       "    </tr>\n",
       "  </tbody>\n",
       "</table>\n",
       "</div>"
      ],
      "text/plain": [
       "          coef_names   coef_values model_name\n",
       "1      cost_per_watt  18240.019961      ridge\n",
       "3           area_est     21.538108      ridge\n",
       "2  annual_insolation      9.439249      ridge\n",
       "4      power_density      9.439249      ridge\n",
       "5          year_freq     -6.983782      ridge\n",
       "0            size_kw     -7.651716      ridge"
      ]
     },
     "execution_count": 41,
     "metadata": {},
     "output_type": "execute_result"
    }
   ],
   "source": [
    "# PLOT COEFFICIENTS\n",
    "\n",
    "# display coefficients\n",
    "feature_mask = ridge_model.named_steps['feature select'].get_support()\n",
    "X_train.columns.values[feature_mask]\n",
    "ridge_coef_df = pd.DataFrame({\n",
    "    'coef_names': X_train.columns.values[feature_mask],\n",
    "    'coef_values': ridge_model.steps[-1][-1].coef_[0],\n",
    "    'model_name': 'ridge'\n",
    "}).sort_values(by='coef_values', ascending=False)\n",
    "\n",
    "ridge_coef_df"
   ]
  },
  {
   "cell_type": "code",
   "execution_count": 42,
   "metadata": {},
   "outputs": [],
   "source": [
    "# plot_coefficients(ridge_coef_df)"
   ]
  },
  {
   "cell_type": "code",
   "execution_count": 43,
   "metadata": {},
   "outputs": [],
   "source": [
    "# sns.scatterplot(x=y_train_pred.ravel(), y=y_train.cost.values)\n",
    "# plt.show()"
   ]
  },
  {
   "cell_type": "markdown",
   "metadata": {},
   "source": [
    "# ElasticNet"
   ]
  },
  {
   "cell_type": "code",
   "execution_count": 44,
   "metadata": {},
   "outputs": [
    {
     "name": "stdout",
     "output_type": "stream",
     "text": [
      "Fit time: 5.297987222671509\n"
     ]
    },
    {
     "data": {
      "image/png": "[encoded data removed]",
      "text/plain": [
       "<Figure size 864x576 with 1 Axes>"
      ]
     },
     "metadata": {},
     "output_type": "display_data"
    }
   ],
   "source": [
    "# categorical_df = pd.concat([pv_dm[['state']], df_2.drop('month_install_cnt', axis=1)], axis=1)\n",
    "# drop_this = ['month_install_cnt', 'annual_pv_prod', 'tilt1', 'state_freq', 'tech_1_freq', 'tracking_type_freq']\n",
    "\n",
    "# X_train, y_train, X_test, y_test = train_test_split(df_2.drop(drop_this, axis=1), \n",
    "#                                                     '2015-05-31', '2015-06-01')\n",
    "\n",
    "# # fit model\n",
    "# # predict on train and test\n",
    "# # display metrics\n",
    "# elasticnet_cv_model = build_pipeline(\n",
    "#     linear_model.ElasticNetCV,\n",
    "#     l1_ratio=0.95,\n",
    "#     alphas=np.logspace(-2, 0, 100),\n",
    "#     cv=5,\n",
    "#     n_jobs=6,\n",
    "#     k_select='all',\n",
    "#     random_state=11,   \n",
    "# )\n",
    "# fit_start = time.time()\n",
    "# elasticnet_cv_model.fit(X_train, y_train)\n",
    "# print('Fit time:', time.time() - fit_start)\n",
    "# y_pred = elasticnet_cv_model.predict(X_test)\n",
    "# y_train_pred = elasticnet_cv_model.predict(X_train)\n",
    "\n",
    "# # display metrics\n",
    "# model_metrics(y_train, y_test, y_pred, y_train_pred)\n",
    "\n",
    "# display coefficients\n",
    "# coefficients(elasticnet_cv_model)\n",
    "\n",
    "enet_metrics_df, elasticnet_cv_model = build_model(\n",
    "    linear_model.ElasticNetCV,\n",
    "    l1_ratio=0.95,\n",
    "    alphas=np.logspace(-2, 0, 100),\n",
    "    cv=5,\n",
    "    n_jobs=6,\n",
    "    k_select='all',\n",
    "    random_state=11,  \n",
    "    model_name='elastic-net-cv'\n",
    "           \n",
    ")\n",
    "enet_metrics_df\n",
    "plot_model_metrics(enet_metrics_df, 'ElasticNetCV Metrics')"
   ]
  },
  {
   "cell_type": "code",
   "execution_count": 45,
   "metadata": {},
   "outputs": [
    {
     "data": {
      "image/png": "[encoded data removed]",
      "text/plain": [
       "<Figure size 864x576 with 1 Axes>"
      ]
     },
     "metadata": {},
     "output_type": "display_data"
    }
   ],
   "source": [
    "feature_mask = elasticnet_cv_model.named_steps['feature select'].get_support()\n",
    "X_train.columns.values[feature_mask]\n",
    "enet_cv_df = pd.DataFrame({\n",
    "    'coef_names': X_train.columns.values[feature_mask],\n",
    "    'coef_values': elasticnet_cv_model.steps[-1][-1].coef_,\n",
    "    'model_name': 'elastic_net'\n",
    "}).sort_values(by='coef_values', ascending=False)\n",
    "\n",
    "coefficients(elasticnet_cv_model)\n",
    "\n",
    "# plot_coefficients(enet_cv_df)\n",
    "# print(pd.concat([enet_cv_df, ridge_coef_df]))\n",
    "\n",
    "sns.barplot(x='coef_names',\n",
    "            y='coef_values',\n",
    "            hue='model_name',\n",
    "            data=pd.concat([enet_cv_df, ridge_coef_df]),\n",
    "            edgecolor='k'\n",
    "           )\n",
    "plt.xlabel('Predictors')\n",
    "plt.ylabel('Weight/Importance')\n",
    "plt.title('Predictor Coefficients\\n(Variable Importance)')\n",
    "plt.tight_layout()\n",
    "plt.show()"
   ]
  },
  {
   "cell_type": "code",
   "execution_count": 139,
   "metadata": {},
   "outputs": [
    {
     "name": "stdout",
     "output_type": "stream",
     "text": [
      "<class 'pandas.core.frame.DataFrame'>\n",
      "DatetimeIndex: 612072 entries, 1998-04-08 to 2017-12-28\n",
      "Data columns (total 13 columns):\n",
      "size_kw               612072 non-null float64\n",
      "cost_per_watt         612068 non-null float64\n",
      "annual_pv_prod        612072 non-null float64\n",
      "annual_insolation     612067 non-null float64\n",
      "tilt1                 307962 non-null float64\n",
      "area_est              612067 non-null float64\n",
      "power_density         612067 non-null float64\n",
      "month_install_cnt     612072 non-null float64\n",
      "state_freq            612072 non-null float64\n",
      "tech_1_freq           358820 non-null float64\n",
      "tracking_type_freq    328959 non-null float64\n",
      "year_freq             612072 non-null float64\n",
      "cost                  612072 non-null float64\n",
      "dtypes: float64(13)\n",
      "memory usage: 85.4 MB\n"
     ]
    }
   ],
   "source": [
    "df_2.info()"
   ]
  },
  {
   "cell_type": "code",
   "execution_count": 46,
   "metadata": {},
   "outputs": [
    {
     "name": "stdout",
     "output_type": "stream",
     "text": [
      "Fit time: 2.8890395164489746\n"
     ]
    },
    {
     "data": {
      "image/png": "[encoded data removed]",
      "text/plain": [
       "<Figure size 864x576 with 1 Axes>"
      ]
     },
     "metadata": {},
     "output_type": "display_data"
    }
   ],
   "source": [
    "# elastic net\n",
    "enet_metrics_df, elasticnet_model = build_model(\n",
    "    linear_model.ElasticNet,\n",
    "    l1_ratio=0.9999,\n",
    "    alpha=0.005,\n",
    "    k_select=6,\n",
    "    random_state=11,  \n",
    "    model_name='elastic-net-cv'\n",
    "           \n",
    ")\n",
    "enet_metrics_df\n",
    "\n",
    "# display coefficients\n",
    "coefficients(elasticnet_model)\n",
    "\n",
    "plot_model_metrics(enet_metrics_df, 'ElasticNet Metrics')"
   ]
  },
  {
   "cell_type": "markdown",
   "metadata": {},
   "source": [
    "# Cross Validate Model"
   ]
  },
  {
   "cell_type": "code",
   "execution_count": 88,
   "metadata": {},
   "outputs": [],
   "source": [
    "\n",
    "def validate_pipeline(model, data=df_2, n_splits=5):\n",
    "    \n",
    "    X_train, y_train, X_test, y_test = train_test_split(data, '2015-05-31', '2015-06-01')\n",
    "    \n",
    "    tscv = TimeSeriesSplit(n_splits=n_splits)\n",
    "    X = X_train.reset_index()\n",
    "    y = y_train.reset_index()\n",
    "\n",
    "    test_score_ls = []\n",
    "    train_score_ls = []\n",
    "    train_data_ls = []\n",
    "    fit_time_ls = []\n",
    "\n",
    "    for train_index, test_index in tscv.split(X):\n",
    "        # Split data using indices\n",
    "        X_train_cv, X_test_cv = X.loc[train_index, :].drop(['index'], axis=1), X.loc[test_index, :].drop(['index'], axis=1)\n",
    "        y_train_cv, y_test_cv = y.loc[train_index, :].drop(['index'], axis=1), y.loc[test_index, :].drop(['index'], axis=1)\n",
    "\n",
    "        # append the amount of training data\n",
    "        train_data_ls.append(y_train_cv.shape[0])\n",
    "\n",
    "        # fit model and measure fit time\n",
    "        fit_start = time.time()\n",
    "        model.fit(X_train_cv, y_train_cv)\n",
    "        fit_time_ls.append(time.time() - fit_start)\n",
    "\n",
    "        # make predictions on train and test splits\n",
    "        y_pred_cv = model.predict(X_test_cv)\n",
    "        y_train_pred_cv = model.predict(X_train_cv)\n",
    "\n",
    "        # append scores\n",
    "        train_score_ls.append(np.sqrt(mean_squared_error(y_train_cv, y_train_pred_cv)))\n",
    "        test_score_ls.append(np.sqrt(mean_squared_error(y_test_cv, y_pred_cv)))\n",
    "\n",
    "    # model stats\n",
    "    model_stats_df = pd.DataFrame({\n",
    "        'training_data': train_data_ls,\n",
    "        'cv_test_rmse': test_score_ls, \n",
    "        'cv_train_rmse': train_score_ls,\n",
    "        'cv_fit_time': fit_time_ls,\n",
    "    })\n",
    "    return model_stats_df\n",
    "\n",
    "def plot_learning_curve(data, title=''):\n",
    "    sns.lineplot(y=data['cv_test_rmse'],\n",
    "                 x=data['training_data'],\n",
    "                )\n",
    "    sns.lineplot(y=data['cv_train_rmse'],\n",
    "                 x=data['training_data'],\n",
    "                )\n",
    "    plt.ylabel('RMSE')\n",
    "    plt.xlabel('Training Data')\n",
    "    plt.axhline(y=data['cv_test_rmse'].min(), linestyle='--', color='red')\n",
    "    plt.legend((\n",
    "        f\"Validation RMSE Min: {np.round(data['cv_test_rmse'].min(), 4)}\",\n",
    "        f\"Training RMSE Min: {np.round(data['cv_train_rmse'].min(), 4)}\",\n",
    "    ))\n",
    "    plt.title(\"Learning Curve\\n\"+title)\n",
    "    plt.tight_layout()\n",
    "    plt.show()"
   ]
  },
  {
   "cell_type": "code",
   "execution_count": 89,
   "metadata": {},
   "outputs": [
    {
     "data": {
      "image/png": "[encoded data removed]",
      "text/plain": [
       "<Figure size 864x576 with 1 Axes>"
      ]
     },
     "metadata": {},
     "output_type": "display_data"
    }
   ],
   "source": [
    "# validate model and plot learning curve\n",
    "validation_data = validate_pipeline(ridge_model, n_splits=100)\n",
    "plot_learning_curve(validation_data, 'Ridge Model')"
   ]
  },
  {
   "cell_type": "code",
   "execution_count": 138,
   "metadata": {},
   "outputs": [
    {
     "data": {
      "text/html": [
       "<div>\n",
       "<style scoped>\n",
       "    .dataframe tbody tr th:only-of-type {\n",
       "        vertical-align: middle;\n",
       "    }\n",
       "\n",
       "    .dataframe tbody tr th {\n",
       "        vertical-align: top;\n",
       "    }\n",
       "\n",
       "    .dataframe thead th {\n",
       "        text-align: right;\n",
       "    }\n",
       "</style>\n",
       "<table border=\"1\" class=\"dataframe\">\n",
       "  <thead>\n",
       "    <tr style=\"text-align: right;\">\n",
       "      <th></th>\n",
       "      <th>cv_test_rmse</th>\n",
       "      <th>cv_train_rmse</th>\n",
       "      <th>cv_fit_time</th>\n",
       "    </tr>\n",
       "  </thead>\n",
       "  <tbody>\n",
       "    <tr>\n",
       "      <th>median</th>\n",
       "      <td>49.206233</td>\n",
       "      <td>97.404554</td>\n",
       "      <td>0.245223</td>\n",
       "    </tr>\n",
       "    <tr>\n",
       "      <th>mean</th>\n",
       "      <td>132.511957</td>\n",
       "      <td>154.728577</td>\n",
       "      <td>0.286250</td>\n",
       "    </tr>\n",
       "  </tbody>\n",
       "</table>\n",
       "</div>"
      ],
      "text/plain": [
       "        cv_test_rmse  cv_train_rmse  cv_fit_time\n",
       "median     49.206233      97.404554     0.245223\n",
       "mean      132.511957     154.728577     0.286250"
      ]
     },
     "execution_count": 138,
     "metadata": {},
     "output_type": "execute_result"
    }
   ],
   "source": [
    "validation_data[['cv_test_rmse', 'cv_train_rmse', 'cv_fit_time']].agg(['median', 'mean'])"
   ]
  },
  {
   "cell_type": "markdown",
   "metadata": {},
   "source": [
    "# Plot Alpha vs MSE"
   ]
  },
  {
   "cell_type": "code",
   "execution_count": 110,
   "metadata": {},
   "outputs": [
    {
     "data": {
      "text/plain": [
       "10"
      ]
     },
     "execution_count": 110,
     "metadata": {},
     "output_type": "execute_result"
    }
   ],
   "source": [
    "# ridge_model.set_params()['regressor'].alpha = 10\n",
    "# ridge_model.get_params()['regressor__alpha']"
   ]
  },
  {
   "cell_type": "code",
   "execution_count": 137,
   "metadata": {},
   "outputs": [],
   "source": [
    "\n",
    "def plot_alpha_mse(model, alphas):\n",
    "    \"\"\"\n",
    "    Plot relationship between hyperparameter `alpha` and RMSE.\n",
    "    \n",
    "    \"\"\"\n",
    "    train_rmse_ls = []\n",
    "    test_rmse_ls = []\n",
    "    \n",
    "    for alpha in alphas:\n",
    "#         ridge_model = build_pipeline(\n",
    "#             linear_model.Ridge,\n",
    "#             alpha=alpha,\n",
    "#             k_select=6,\n",
    "#             random_state=11,   \n",
    "#         )\n",
    "        model.set_params()['regressor'].alpha = alpha\n",
    "        model.fit(X_train, y_train)\n",
    "        y_pred = model.predict(X_test)\n",
    "        y_train_pred = model.predict(X_train)\n",
    "        \n",
    "        # metrics\n",
    "        train_rmse_ls.append(metrics(y_train, y_train_pred)[2])\n",
    "        test_rmse_ls.append(metrics(y_test, y_pred)[1])\n",
    "        \n",
    "    plt.subplots(1,2)\n",
    "    plt.subplot(211)\n",
    "    sns.lineplot(x=alphas,y=train_rmse_ls)\n",
    "    plt.title('Train RMSE vs Alpha')\n",
    "    plt.ylabel('RMSE')\n",
    "#     plt.show()\n",
    "    \n",
    "    plt.subplot(212)\n",
    "    sns.lineplot(x=alphas,y=test_rmse_ls)\n",
    "    plt.title('Test RMSE vs Alpha')\n",
    "    plt.xlabel('Alpha')\n",
    "    plt.ylabel('RMSE')\n",
    "#     plt.legend(('Train RMSE', 'Test RMSE'))\n",
    "    \n",
    "#     plt.tight_layout()\n",
    "    plt.show()\n",
    "    return pd.DataFrame({\n",
    "        'train_rmse': train_rmse_ls,\n",
    "        'test_rmse': test_rmse_ls\n",
    "    })"
   ]
  },
  {
   "cell_type": "code",
   "execution_count": 143,
   "metadata": {},
   "outputs": [
    {
     "data": {
      "image/png": "[encoded data removed]",
      "text/plain": [
       "<Figure size 864x576 with 2 Axes>"
      ]
     },
     "metadata": {},
     "output_type": "display_data"
    }
   ],
   "source": [
    "np.logspace(-5, 0.5, 10)\n",
    "results = plot_alpha_mse(ridge_model, np.logspace(-5, 2, 50))"
   ]
  },
  {
   "cell_type": "code",
   "execution_count": 142,
   "metadata": {},
   "outputs": [],
   "source": [
    "# results"
   ]
  },
  {
   "cell_type": "markdown",
   "metadata": {},
   "source": [
    "## Kernel Ridge"
   ]
  },
  {
   "cell_type": "code",
   "execution_count": 43,
   "metadata": {},
   "outputs": [],
   "source": [
    "# KERNEL RIDGE\n",
    "# NOTE: \n",
    "# - Results in Memory Error\n",
    "\n",
    "\n",
    "# num_df = get_numeric_data(pv_dm).sample\n",
    "# X_train, y_train, X_test, y_test = train_test_split(num_df, '2015-05-31', '2015-06-01')\n",
    "\n",
    "# krr = build_pipeline(KernelRidge, alpha=0.021, kernel='rbf', degree=3, gamma=0.3, k_select=5)\n",
    "\n",
    "# fit_start = time.time()\n",
    "# y_pred = krr.fit(X_train, y_train.values.ravel()).predict(X_test)\n",
    "# print('Fit-predict time:', time.time() - fit_start)\n",
    "# model_metrics(krr, X_train, y_train, X_test, y_test, y_pred)\n"
   ]
  },
  {
   "cell_type": "markdown",
   "metadata": {},
   "source": [
    "## Grid Search Pipeline Parameters"
   ]
  },
  {
   "cell_type": "code",
   "execution_count": 61,
   "metadata": {},
   "outputs": [
    {
     "data": {
      "text/plain": [
       "array([ 7.07945784,  9.17275935, 11.88502227, 15.39926526, 19.95262315])"
      ]
     },
     "execution_count": 61,
     "metadata": {},
     "output_type": "execute_result"
    }
   ],
   "source": [
    "# model.named_steps['regressor'].alpha\n",
    "# np.linspace(10, 15, 10)\n",
    "# np.logspace(2.35,2.45, 5)\n",
    "# np.logspace(0.85, 1.3, 5)\n",
    "# np.linspace(8,9,5)"
   ]
  },
  {
   "cell_type": "code",
   "execution_count": 47,
   "metadata": {},
   "outputs": [
    {
     "data": {
      "text/plain": [
       "(25.0, 75.0)"
      ]
     },
     "execution_count": 47,
     "metadata": {},
     "output_type": "execute_result"
    }
   ],
   "source": [
    "# GRIDSEARCH\n",
    "ridge_model.get_params()['preprocessor__pipeline-1__scaler__quantile_range'] \n",
    "# ridge_model.set_params()['preprocessor'].transformers[0][1]['scaler'].quantile_range = (30,70)"
   ]
  },
  {
   "cell_type": "code",
   "execution_count": 48,
   "metadata": {},
   "outputs": [
    {
     "data": {
      "text/plain": [
       "GridSearchCV(cv=3, error_score='raise-deprecating',\n",
       "             estimator=Pipeline(memory=None,\n",
       "                                steps=[('preprocessor',\n",
       "                                        ColumnTransformer(n_jobs=-1,\n",
       "                                                          remainder='drop',\n",
       "                                                          sparse_threshold=0.3,\n",
       "                                                          transformer_weights=None,\n",
       "                                                          transformers=[('pipeline-1',\n",
       "                                                                         Pipeline(memory=None,\n",
       "                                                                                  steps=[('imputer',\n",
       "                                                                                          SimpleImputer(add_indicator=False,\n",
       "                                                                                                        copy=True,\n",
       "                                                                                                        fill_value=None,\n",
       "                                                                                                        missing_values=nan,\n",
       "                                                                                                        strategy=...\n",
       "                         'preprocessor__pipeline-1__scaler': [RobustScaler(copy=True,\n",
       "                                                                           quantile_range=(25.0,\n",
       "                                                                                           75.0),\n",
       "                                                                           with_centering=True,\n",
       "                                                                           with_scaling=True),\n",
       "                                                              MinMaxScaler(copy=True,\n",
       "                                                                           feature_range=(0,\n",
       "                                                                                          1)),\n",
       "                                                              MaxAbsScaler(copy=True),\n",
       "                                                              StandardScaler(copy=True,\n",
       "                                                                             with_mean=True,\n",
       "                                                                             with_std=True)]},\n",
       "             pre_dispatch='2*n_jobs', refit=True, return_train_score=False,\n",
       "             scoring=make_scorer(mean_squared_error, greater_is_better=False),\n",
       "             verbose=0)"
      ]
     },
     "execution_count": 48,
     "metadata": {},
     "output_type": "execute_result"
    }
   ],
   "source": [
    "search_params = {}\n",
    "# search_params['regressor__alpha'] = np.logspace(0.85, 1.3, 5)\n",
    "# search_params['poly features__degree'] = [3,4]\n",
    "search_params['feature select__k'] = [5,6]\n",
    "search_params['preprocessor__pipeline-1__scaler'] = [RobustScaler(), MinMaxScaler(), MaxAbsScaler(), StandardScaler()]\n",
    "# search_params['preprocessor__pipeline-1__scaler__quantile_range'] = [(25,75), (20,80), (30,70), (35,65)]\n",
    "\n",
    "grid_search = GridSearchCV(\n",
    "    ridge_model,\n",
    "    search_params,\n",
    "    scoring=make_scorer(mean_squared_error, greater_is_better=False),\n",
    "    cv=3,\n",
    "    n_jobs=-1,\n",
    ")\n",
    "\n",
    "grid_search.fit(X_train, y_train)"
   ]
  },
  {
   "cell_type": "code",
   "execution_count": 49,
   "metadata": {},
   "outputs": [
    {
     "name": "stdout",
     "output_type": "stream",
     "text": [
      "Best score (RMSE): 56.693846498929744\n",
      "{'feature select__k': 5, 'preprocessor__pipeline-1__scaler': StandardScaler(copy=True, with_mean=True, with_std=True)}\n"
     ]
    }
   ],
   "source": [
    "print('Best score (RMSE):',(-1*grid_search.best_score_)**(1/2))\n",
    "print(grid_search.best_params_)\n",
    "# grid_search.cv_results_['mean_fit_time']"
   ]
  },
  {
   "cell_type": "markdown",
   "metadata": {},
   "source": [
    "## Using Best Params"
   ]
  },
  {
   "cell_type": "code",
   "execution_count": 50,
   "metadata": {},
   "outputs": [
    {
     "name": "stdout",
     "output_type": "stream",
     "text": [
      "Fit time: 0.35024499893188477\n"
     ]
    },
    {
     "data": {
      "text/html": [
       "<div>\n",
       "<style scoped>\n",
       "    .dataframe tbody tr th:only-of-type {\n",
       "        vertical-align: middle;\n",
       "    }\n",
       "\n",
       "    .dataframe tbody tr th {\n",
       "        vertical-align: top;\n",
       "    }\n",
       "\n",
       "    .dataframe thead th {\n",
       "        text-align: right;\n",
       "    }\n",
       "</style>\n",
       "<table border=\"1\" class=\"dataframe\">\n",
       "  <thead>\n",
       "    <tr style=\"text-align: right;\">\n",
       "      <th></th>\n",
       "      <th>metric</th>\n",
       "      <th>test_set</th>\n",
       "      <th>train_set</th>\n",
       "      <th>fit_time</th>\n",
       "    </tr>\n",
       "  </thead>\n",
       "  <tbody>\n",
       "    <tr>\n",
       "      <th>0</th>\n",
       "      <td>r2_score</td>\n",
       "      <td>0.999999</td>\n",
       "      <td>0.999981</td>\n",
       "      <td>0.668993</td>\n",
       "    </tr>\n",
       "    <tr>\n",
       "      <th>1</th>\n",
       "      <td>MAE</td>\n",
       "      <td>7.468807</td>\n",
       "      <td>8.754028</td>\n",
       "      <td>0.668993</td>\n",
       "    </tr>\n",
       "    <tr>\n",
       "      <th>2</th>\n",
       "      <td>RMSE</td>\n",
       "      <td>12.571842</td>\n",
       "      <td>57.798470</td>\n",
       "      <td>0.668993</td>\n",
       "    </tr>\n",
       "  </tbody>\n",
       "</table>\n",
       "</div>"
      ],
      "text/plain": [
       "     metric   test_set  train_set  fit_time\n",
       "0  r2_score   0.999999   0.999981  0.668993\n",
       "1       MAE   7.468807   8.754028  0.668993\n",
       "2      RMSE  12.571842  57.798470  0.668993"
      ]
     },
     "execution_count": 50,
     "metadata": {},
     "output_type": "execute_result"
    }
   ],
   "source": [
    "# measure fit time\n",
    "model = grid_search.best_estimator_\n",
    "\n",
    "fit_start = time.time()\n",
    "model.fit(X_train, y_train)\n",
    "print('Fit time:', time.time() - fit_start)\n",
    "# make predictions\n",
    "y_pred = model.predict(X_test)\n",
    "y_train_pred = model.predict(X_train)\n",
    "\n",
    "# display metrics\n",
    "metrics_df = pd.DataFrame({\n",
    "    'metric': ['r2_score', 'MAE', 'RMSE'],\n",
    "    'test_set': metrics(y_test, y_pred),\n",
    "    'train_set': metrics(y_train, y_train_pred),\n",
    "#     'regressor': str(model_name),\n",
    "    'fit_time': time.time() - fit_start\n",
    "})\n",
    "metrics_df"
   ]
  },
  {
   "cell_type": "code",
   "execution_count": null,
   "metadata": {},
   "outputs": [],
   "source": []
  },
  {
   "cell_type": "code",
   "execution_count": null,
   "metadata": {},
   "outputs": [],
   "source": []
  },
  {
   "cell_type": "markdown",
   "metadata": {},
   "source": [
    "## RandomForestRegressor"
   ]
  },
  {
   "cell_type": "code",
   "execution_count": 130,
   "metadata": {},
   "outputs": [
    {
     "name": "stdout",
     "output_type": "stream",
     "text": [
      "Fit time: 5.386889219284058\n"
     ]
    },
    {
     "data": {
      "image/png": "[encoded data removed]",
      "text/plain": [
       "<Figure size 864x576 with 1 Axes>"
      ]
     },
     "metadata": {},
     "output_type": "display_data"
    }
   ],
   "source": [
    "# numerica data\n",
    "X_train, y_train, X_test, y_test = train_test_split(df_2.drop(drop_this, axis=1), \n",
    "                                                    '2015-05-31', '2015-06-01')\n",
    "\n",
    "rf_params = {    \n",
    "    'max_depth': 10,\n",
    "    'n_estimators': 15,\n",
    "#     'min_samples_split': 3,\n",
    "    'n_jobs': -1,   \n",
    "}\n",
    "# define regressor and build pipeline\n",
    "rf_model_stats, rf_model = build_model(\n",
    "    RandomForestRegressor,\n",
    "    **rf_params,\n",
    "    model_name='rf'\n",
    ")\n",
    "plot_model_metrics(rf_model_stats, 'RandomForest')"
   ]
  },
  {
   "cell_type": "code",
   "execution_count": 131,
   "metadata": {},
   "outputs": [
    {
     "data": {
      "text/html": [
       "<div>\n",
       "<style scoped>\n",
       "    .dataframe tbody tr th:only-of-type {\n",
       "        vertical-align: middle;\n",
       "    }\n",
       "\n",
       "    .dataframe tbody tr th {\n",
       "        vertical-align: top;\n",
       "    }\n",
       "\n",
       "    .dataframe thead th {\n",
       "        text-align: right;\n",
       "    }\n",
       "</style>\n",
       "<table border=\"1\" class=\"dataframe\">\n",
       "  <thead>\n",
       "    <tr style=\"text-align: right;\">\n",
       "      <th></th>\n",
       "      <th>metric</th>\n",
       "      <th>test_set</th>\n",
       "      <th>train_set</th>\n",
       "      <th>regressor</th>\n",
       "      <th>fit_time</th>\n",
       "    </tr>\n",
       "  </thead>\n",
       "  <tbody>\n",
       "    <tr>\n",
       "      <th>0</th>\n",
       "      <td>r2_score</td>\n",
       "      <td>0.999999</td>\n",
       "      <td>0.999998</td>\n",
       "      <td>rf</td>\n",
       "      <td>7.983247</td>\n",
       "    </tr>\n",
       "    <tr>\n",
       "      <th>1</th>\n",
       "      <td>MAE</td>\n",
       "      <td>7.448307</td>\n",
       "      <td>8.390257</td>\n",
       "      <td>rf</td>\n",
       "      <td>7.983247</td>\n",
       "    </tr>\n",
       "    <tr>\n",
       "      <th>2</th>\n",
       "      <td>RMSE</td>\n",
       "      <td>13.275869</td>\n",
       "      <td>20.510851</td>\n",
       "      <td>rf</td>\n",
       "      <td>7.983247</td>\n",
       "    </tr>\n",
       "  </tbody>\n",
       "</table>\n",
       "</div>"
      ],
      "text/plain": [
       "     metric   test_set  train_set regressor  fit_time\n",
       "0  r2_score   0.999999   0.999998        rf  7.983247\n",
       "1       MAE   7.448307   8.390257        rf  7.983247\n",
       "2      RMSE  13.275869  20.510851        rf  7.983247"
      ]
     },
     "execution_count": 131,
     "metadata": {},
     "output_type": "execute_result"
    }
   ],
   "source": [
    "rf_model_stats"
   ]
  },
  {
   "cell_type": "code",
   "execution_count": 123,
   "metadata": {},
   "outputs": [
    {
     "data": {
      "image/png": "[encoded data removed]",
      "text/plain": [
       "<Figure size 864x576 with 1 Axes>"
      ]
     },
     "metadata": {},
     "output_type": "display_data"
    }
   ],
   "source": [
    "rf_features_df = pd.DataFrame({\n",
    "    'features': X_train.columns.values[rf_model.named_steps['feature select'].get_support()],\n",
    "    'feature importance': rf_model.named_steps['regressor'].feature_importances_,  \n",
    "    \n",
    "})\n",
    "rf_features_df\n",
    "# plot feature importance\n",
    "sns.barplot(x=rf_metrics_df['features'],\n",
    "           y=rf_metrics_df['feature importance'],\n",
    "           )\n",
    "plt.title('Random Forest\\nFeature Importance')\n",
    "plt.show()"
   ]
  },
  {
   "cell_type": "code",
   "execution_count": null,
   "metadata": {},
   "outputs": [],
   "source": []
  },
  {
   "cell_type": "markdown",
   "metadata": {},
   "source": [
    "## Grid Search: RandomForest"
   ]
  },
  {
   "cell_type": "code",
   "execution_count": 97,
   "metadata": {},
   "outputs": [
    {
     "data": {
      "text/plain": [
       "array([30, 31, 32, 33, 34])"
      ]
     },
     "execution_count": 97,
     "metadata": {},
     "output_type": "execute_result"
    }
   ],
   "source": [
    "np.arange(30,35)"
   ]
  },
  {
   "cell_type": "code",
   "execution_count": 124,
   "metadata": {},
   "outputs": [],
   "source": [
    "rf_grid_params = {}\n",
    "rf_grid_params['regressor__max_depth'] = [16,20,24]\n",
    "rf_grid_params['regressor__n_estimators'] = [20,30,40]\n",
    "# rf_grid_params['regressor__min_samples_split'] = [3,4,5]\n",
    "# rf_grid_params['feature select__k'] = [7]"
   ]
  },
  {
   "cell_type": "code",
   "execution_count": 125,
   "metadata": {},
   "outputs": [
    {
     "name": "stdout",
     "output_type": "stream",
     "text": [
      "Search time: 328.72819040000013\n"
     ]
    }
   ],
   "source": [
    "\n",
    "\n",
    "grid_search = GridSearchCV(\n",
    "    rf_model,\n",
    "    rf_grid_params,\n",
    "    scoring=make_scorer(mean_squared_error, greater_is_better=False),\n",
    "    cv=5,\n",
    "    n_jobs=6,\n",
    ")\n",
    "\n",
    "grid_search.fit(X_train, y_train.values.ravel())\n",
    "grid_start_time = time.perf_counter()\n",
    "print('Search time:', time.perf_counter() - grid_start_time)"
   ]
  },
  {
   "cell_type": "code",
   "execution_count": 126,
   "metadata": {},
   "outputs": [
    {
     "name": "stdout",
     "output_type": "stream",
     "text": [
      "Best RMSE: 46.18614389147458\n"
     ]
    },
    {
     "data": {
      "text/plain": [
       "{'regressor__max_depth': 16, 'regressor__n_estimators': 30}"
      ]
     },
     "execution_count": 126,
     "metadata": {},
     "output_type": "execute_result"
    }
   ],
   "source": [
    "print('Best RMSE:', (-1*grid_search.best_score_)**(1/2))\n",
    "grid_search.best_params_"
   ]
  },
  {
   "cell_type": "markdown",
   "metadata": {},
   "source": [
    "## RF with Best Params"
   ]
  },
  {
   "cell_type": "code",
   "execution_count": 132,
   "metadata": {},
   "outputs": [
    {
     "name": "stdout",
     "output_type": "stream",
     "text": [
      "Fit time: 10.934925317764282\n",
      "     metric  test_set  train_set regressor   fit_time\n",
      "0  r2_score  0.999999   0.999999        rf  14.289971\n",
      "1       MAE  1.633857   2.364324        rf  14.289971\n",
      "2      RMSE  9.854489  12.023350        rf  14.289971\n"
     ]
    },
    {
     "data": {
      "image/png": "[encoded data removed]",
      "text/plain": [
       "<Figure size 864x576 with 1 Axes>"
      ]
     },
     "metadata": {},
     "output_type": "display_data"
    }
   ],
   "source": [
    "rf_params = {\n",
    "    \n",
    "    'max_depth': grid_search.best_params_['regressor__max_depth'],\n",
    "    'n_estimators': grid_search.best_params_['regressor__n_estimators'],\n",
    "#     'min_samples_split': grid_search.best_params_['regressor__min_samples_split'],\n",
    "    'n_jobs': -1,\n",
    "    \n",
    "}\n",
    "# define regressor and build pipeline\n",
    "rf_model_stats, rf_model = build_model(\n",
    "    RandomForestRegressor,\n",
    "    **rf_params,\n",
    "    model_name='rf'\n",
    ")\n",
    "print(rf_model_stats)\n",
    "plot_model_metrics(rf_model_stats, 'RandomForest')"
   ]
  },
  {
   "cell_type": "code",
   "execution_count": null,
   "metadata": {},
   "outputs": [],
   "source": []
  },
  {
   "cell_type": "markdown",
   "metadata": {},
   "source": [
    "## GradientBoosting"
   ]
  },
  {
   "cell_type": "code",
   "execution_count": 148,
   "metadata": {},
   "outputs": [],
   "source": [
    "gb_params = dict(\n",
    "    n_estimators = 100,\n",
    "#     subsample=0.8,\n",
    "    loss='lad'\n",
    ")"
   ]
  },
  {
   "cell_type": "code",
   "execution_count": 149,
   "metadata": {},
   "outputs": [
    {
     "name": "stdout",
     "output_type": "stream",
     "text": [
      "Fit time: 39.80713438987732\n"
     ]
    },
    {
     "data": {
      "text/html": [
       "<div>\n",
       "<style scoped>\n",
       "    .dataframe tbody tr th:only-of-type {\n",
       "        vertical-align: middle;\n",
       "    }\n",
       "\n",
       "    .dataframe tbody tr th {\n",
       "        vertical-align: top;\n",
       "    }\n",
       "\n",
       "    .dataframe thead th {\n",
       "        text-align: right;\n",
       "    }\n",
       "</style>\n",
       "<table border=\"1\" class=\"dataframe\">\n",
       "  <thead>\n",
       "    <tr style=\"text-align: right;\">\n",
       "      <th></th>\n",
       "      <th>metric</th>\n",
       "      <th>test_set</th>\n",
       "      <th>train_set</th>\n",
       "      <th>regressor</th>\n",
       "      <th>fit_time</th>\n",
       "    </tr>\n",
       "  </thead>\n",
       "  <tbody>\n",
       "    <tr>\n",
       "      <th>0</th>\n",
       "      <td>r2_score</td>\n",
       "      <td>0.999749</td>\n",
       "      <td>0.999753</td>\n",
       "      <td>gb</td>\n",
       "      <td>42.735793</td>\n",
       "    </tr>\n",
       "    <tr>\n",
       "      <th>1</th>\n",
       "      <td>MAE</td>\n",
       "      <td>145.106867</td>\n",
       "      <td>157.752625</td>\n",
       "      <td>gb</td>\n",
       "      <td>42.735793</td>\n",
       "    </tr>\n",
       "    <tr>\n",
       "      <th>2</th>\n",
       "      <td>RMSE</td>\n",
       "      <td>189.503694</td>\n",
       "      <td>206.513787</td>\n",
       "      <td>gb</td>\n",
       "      <td>42.735793</td>\n",
       "    </tr>\n",
       "  </tbody>\n",
       "</table>\n",
       "</div>"
      ],
      "text/plain": [
       "     metric    test_set   train_set regressor   fit_time\n",
       "0  r2_score    0.999749    0.999753        gb  42.735793\n",
       "1       MAE  145.106867  157.752625        gb  42.735793\n",
       "2      RMSE  189.503694  206.513787        gb  42.735793"
      ]
     },
     "execution_count": 149,
     "metadata": {},
     "output_type": "execute_result"
    }
   ],
   "source": [
    "# X_train, y_train, X_test, y_test = train_test_split(df_2.drop(drop_this, axis=1), \n",
    "#                                                     '2015-05-31', '2015-06-01')\n",
    "\n",
    "# define regressor and build pipeline\n",
    "gb_model_stats, gb_model = build_model(\n",
    "    GradientBoostingRegressor,\n",
    "    **gb_params,\n",
    "    model_name='gb'\n",
    ")\n",
    "gb_model_stats"
   ]
  },
  {
   "cell_type": "code",
   "execution_count": 150,
   "metadata": {},
   "outputs": [
    {
     "data": {
      "image/png": "[encoded data removed]",
      "text/plain": [
       "<Figure size 864x576 with 1 Axes>"
      ]
     },
     "metadata": {},
     "output_type": "display_data"
    }
   ],
   "source": [
    "plot_model_metrics(gb_model_stats, 'GradientBoosting')"
   ]
  },
  {
   "cell_type": "code",
   "execution_count": 66,
   "metadata": {},
   "outputs": [
    {
     "data": {
      "image/png": "[encoded data removed]",
      "text/plain": [
       "<Figure size 864x576 with 1 Axes>"
      ]
     },
     "metadata": {},
     "output_type": "display_data"
    }
   ],
   "source": [
    "gb_metrics_df = pd.DataFrame({\n",
    "    'features': X_train.columns.values[gb_model.named_steps['feature select'].get_support()],\n",
    "    'feature importance': gb_model.named_steps['regressor'].feature_importances_,  \n",
    "    \n",
    "})\n",
    "gb_metrics_df\n",
    "# rf_metrics_df.plot(kind='bar')\n",
    "# plt.xticks(ticks=np.arange(6), labels=rf_metrics_df['features'], rotation=0)\n",
    "# plt.ylabel('')\n",
    "# plt.show()\n",
    "\n",
    "sns.barplot(x=gb_metrics_df['features'],\n",
    "           y=gb_metrics_df['feature importance'],\n",
    "           )\n",
    "plt.title('Gradient Boosting\\nFeature Importance')\n",
    "plt.show()"
   ]
  },
  {
   "cell_type": "markdown",
   "metadata": {},
   "source": [
    "# Grid Search GradientBoosting"
   ]
  },
  {
   "cell_type": "code",
   "execution_count": 158,
   "metadata": {},
   "outputs": [
    {
     "data": {
      "text/plain": [
       "array([0.18, 0.2 , 0.22, 0.24, 0.26, 0.28])"
      ]
     },
     "execution_count": 158,
     "metadata": {},
     "output_type": "execute_result"
    }
   ],
   "source": [
    "np.arange(0.18,0.28, 0.02)"
   ]
  },
  {
   "cell_type": "code",
   "execution_count": 68,
   "metadata": {},
   "outputs": [],
   "source": [
    "gb_grid_params = {}\n",
    "# gb_grid_params['regressor__learning_rate'] = [0.18]\n",
    "gb_grid_params['regressor__n_estimators'] = [140,180,220]"
   ]
  },
  {
   "cell_type": "code",
   "execution_count": 69,
   "metadata": {},
   "outputs": [
    {
     "name": "stdout",
     "output_type": "stream",
     "text": [
      "Search time: 309.69264399999975\n"
     ]
    }
   ],
   "source": [
    "# \n",
    "grid_start_time = time.perf_counter()\n",
    "grid_search = GridSearchCV(\n",
    "    gb_model,\n",
    "    gb_grid_params,\n",
    "    scoring=make_scorer(mean_squared_error, greater_is_better=False),\n",
    "    cv=3,\n",
    "    n_jobs=-1,\n",
    ")\n",
    "grid_search.fit(X_train, y_train)\n",
    "print('Search time:', time.perf_counter() - grid_start_time)"
   ]
  },
  {
   "cell_type": "code",
   "execution_count": 72,
   "metadata": {},
   "outputs": [
    {
     "name": "stdout",
     "output_type": "stream",
     "text": [
      "Best RMSE: 104.43601783313737\n"
     ]
    },
    {
     "data": {
      "text/plain": [
       "220"
      ]
     },
     "execution_count": 72,
     "metadata": {},
     "output_type": "execute_result"
    }
   ],
   "source": [
    "print('Best RMSE:', (-1*grid_search.best_score_)**(1/2))\n",
    "grid_search.best_params_['regressor__n_estimators']"
   ]
  },
  {
   "cell_type": "markdown",
   "metadata": {},
   "source": [
    "# Best Params w/GB"
   ]
  },
  {
   "cell_type": "code",
   "execution_count": 73,
   "metadata": {},
   "outputs": [
    {
     "name": "stdout",
     "output_type": "stream",
     "text": [
      "Fit time: 76.7989068031311\n"
     ]
    },
    {
     "data": {
      "text/html": [
       "<div>\n",
       "<style scoped>\n",
       "    .dataframe tbody tr th:only-of-type {\n",
       "        vertical-align: middle;\n",
       "    }\n",
       "\n",
       "    .dataframe tbody tr th {\n",
       "        vertical-align: top;\n",
       "    }\n",
       "\n",
       "    .dataframe thead th {\n",
       "        text-align: right;\n",
       "    }\n",
       "</style>\n",
       "<table border=\"1\" class=\"dataframe\">\n",
       "  <thead>\n",
       "    <tr style=\"text-align: right;\">\n",
       "      <th></th>\n",
       "      <th>metric</th>\n",
       "      <th>test_set</th>\n",
       "      <th>train_set</th>\n",
       "      <th>regressor</th>\n",
       "      <th>fit_time</th>\n",
       "    </tr>\n",
       "  </thead>\n",
       "  <tbody>\n",
       "    <tr>\n",
       "      <th>0</th>\n",
       "      <td>r2_score</td>\n",
       "      <td>0.999950</td>\n",
       "      <td>0.999942</td>\n",
       "      <td>gb</td>\n",
       "      <td>80.484076</td>\n",
       "    </tr>\n",
       "    <tr>\n",
       "      <th>1</th>\n",
       "      <td>MAE</td>\n",
       "      <td>65.625654</td>\n",
       "      <td>67.996938</td>\n",
       "      <td>gb</td>\n",
       "      <td>80.484076</td>\n",
       "    </tr>\n",
       "    <tr>\n",
       "      <th>2</th>\n",
       "      <td>RMSE</td>\n",
       "      <td>84.336385</td>\n",
       "      <td>100.405202</td>\n",
       "      <td>gb</td>\n",
       "      <td>80.484076</td>\n",
       "    </tr>\n",
       "  </tbody>\n",
       "</table>\n",
       "</div>"
      ],
      "text/plain": [
       "     metric   test_set   train_set regressor   fit_time\n",
       "0  r2_score   0.999950    0.999942        gb  80.484076\n",
       "1       MAE  65.625654   67.996938        gb  80.484076\n",
       "2      RMSE  84.336385  100.405202        gb  80.484076"
      ]
     },
     "execution_count": 73,
     "metadata": {},
     "output_type": "execute_result"
    }
   ],
   "source": [
    "# define regressor and build pipeline\n",
    "gb_model_stats, gb_model = build_model(\n",
    "    GradientBoostingRegressor,\n",
    "    n_estimators=grid_search.best_params_['regressor__n_estimators'],\n",
    "    model_name='gb'\n",
    ")\n",
    "gb_model_stats\n"
   ]
  },
  {
   "cell_type": "code",
   "execution_count": 142,
   "metadata": {},
   "outputs": [
    {
     "data": {
      "image/png": "[encoded data removed]",
      "text/plain": [
       "<Figure size 864x576 with 1 Axes>"
      ]
     },
     "metadata": {},
     "output_type": "display_data"
    }
   ],
   "source": [
    "plot_model_metrics(gb_model_stats, 'Gradient Boosting')"
   ]
  },
  {
   "cell_type": "code",
   "execution_count": 144,
   "metadata": {},
   "outputs": [
    {
     "data": {
      "text/plain": [
       "\u001b[1;31mInit signature:\u001b[0m\n",
       "\u001b[0mGradientBoostingRegressor\u001b[0m\u001b[1;33m(\u001b[0m\u001b[1;33m\n",
       "\u001b[0m    \u001b[0mloss\u001b[0m\u001b[1;33m=\u001b[0m\u001b[1;34m'ls'\u001b[0m\u001b[1;33m,\u001b[0m\u001b[1;33m\n",
       "\u001b[0m    \u001b[0mlearning_rate\u001b[0m\u001b[1;33m=\u001b[0m\u001b[1;36m0.1\u001b[0m\u001b[1;33m,\u001b[0m\u001b[1;33m\n",
       "\u001b[0m    \u001b[0mn_estimators\u001b[0m\u001b[1;33m=\u001b[0m\u001b[1;36m100\u001b[0m\u001b[1;33m,\u001b[0m\u001b[1;33m\n",
       "\u001b[0m    \u001b[0msubsample\u001b[0m\u001b[1;33m=\u001b[0m\u001b[1;36m1.0\u001b[0m\u001b[1;33m,\u001b[0m\u001b[1;33m\n",
       "\u001b[0m    \u001b[0mcriterion\u001b[0m\u001b[1;33m=\u001b[0m\u001b[1;34m'friedman_mse'\u001b[0m\u001b[1;33m,\u001b[0m\u001b[1;33m\n",
       "\u001b[0m    \u001b[0mmin_samples_split\u001b[0m\u001b[1;33m=\u001b[0m\u001b[1;36m2\u001b[0m\u001b[1;33m,\u001b[0m\u001b[1;33m\n",
       "\u001b[0m    \u001b[0mmin_samples_leaf\u001b[0m\u001b[1;33m=\u001b[0m\u001b[1;36m1\u001b[0m\u001b[1;33m,\u001b[0m\u001b[1;33m\n",
       "\u001b[0m    \u001b[0mmin_weight_fraction_leaf\u001b[0m\u001b[1;33m=\u001b[0m\u001b[1;36m0.0\u001b[0m\u001b[1;33m,\u001b[0m\u001b[1;33m\n",
       "\u001b[0m    \u001b[0mmax_depth\u001b[0m\u001b[1;33m=\u001b[0m\u001b[1;36m3\u001b[0m\u001b[1;33m,\u001b[0m\u001b[1;33m\n",
       "\u001b[0m    \u001b[0mmin_impurity_decrease\u001b[0m\u001b[1;33m=\u001b[0m\u001b[1;36m0.0\u001b[0m\u001b[1;33m,\u001b[0m\u001b[1;33m\n",
       "\u001b[0m    \u001b[0mmin_impurity_split\u001b[0m\u001b[1;33m=\u001b[0m\u001b[1;32mNone\u001b[0m\u001b[1;33m,\u001b[0m\u001b[1;33m\n",
       "\u001b[0m    \u001b[0minit\u001b[0m\u001b[1;33m=\u001b[0m\u001b[1;32mNone\u001b[0m\u001b[1;33m,\u001b[0m\u001b[1;33m\n",
       "\u001b[0m    \u001b[0mrandom_state\u001b[0m\u001b[1;33m=\u001b[0m\u001b[1;32mNone\u001b[0m\u001b[1;33m,\u001b[0m\u001b[1;33m\n",
       "\u001b[0m    \u001b[0mmax_features\u001b[0m\u001b[1;33m=\u001b[0m\u001b[1;32mNone\u001b[0m\u001b[1;33m,\u001b[0m\u001b[1;33m\n",
       "\u001b[0m    \u001b[0malpha\u001b[0m\u001b[1;33m=\u001b[0m\u001b[1;36m0.9\u001b[0m\u001b[1;33m,\u001b[0m\u001b[1;33m\n",
       "\u001b[0m    \u001b[0mverbose\u001b[0m\u001b[1;33m=\u001b[0m\u001b[1;36m0\u001b[0m\u001b[1;33m,\u001b[0m\u001b[1;33m\n",
       "\u001b[0m    \u001b[0mmax_leaf_nodes\u001b[0m\u001b[1;33m=\u001b[0m\u001b[1;32mNone\u001b[0m\u001b[1;33m,\u001b[0m\u001b[1;33m\n",
       "\u001b[0m    \u001b[0mwarm_start\u001b[0m\u001b[1;33m=\u001b[0m\u001b[1;32mFalse\u001b[0m\u001b[1;33m,\u001b[0m\u001b[1;33m\n",
       "\u001b[0m    \u001b[0mpresort\u001b[0m\u001b[1;33m=\u001b[0m\u001b[1;34m'auto'\u001b[0m\u001b[1;33m,\u001b[0m\u001b[1;33m\n",
       "\u001b[0m    \u001b[0mvalidation_fraction\u001b[0m\u001b[1;33m=\u001b[0m\u001b[1;36m0.1\u001b[0m\u001b[1;33m,\u001b[0m\u001b[1;33m\n",
       "\u001b[0m    \u001b[0mn_iter_no_change\u001b[0m\u001b[1;33m=\u001b[0m\u001b[1;32mNone\u001b[0m\u001b[1;33m,\u001b[0m\u001b[1;33m\n",
       "\u001b[0m    \u001b[0mtol\u001b[0m\u001b[1;33m=\u001b[0m\u001b[1;36m0.0001\u001b[0m\u001b[1;33m,\u001b[0m\u001b[1;33m\n",
       "\u001b[0m\u001b[1;33m)\u001b[0m\u001b[1;33m\u001b[0m\u001b[1;33m\u001b[0m\u001b[0m\n",
       "\u001b[1;31mSource:\u001b[0m        \n",
       "\u001b[1;32mclass\u001b[0m \u001b[0mGradientBoostingRegressor\u001b[0m\u001b[1;33m(\u001b[0m\u001b[0mBaseGradientBoosting\u001b[0m\u001b[1;33m,\u001b[0m \u001b[0mRegressorMixin\u001b[0m\u001b[1;33m)\u001b[0m\u001b[1;33m:\u001b[0m\u001b[1;33m\n",
       "\u001b[0m    \u001b[1;34m\"\"\"Gradient Boosting for regression.\n",
       "\n",
       "    GB builds an additive model in a forward stage-wise fashion;\n",
       "    it allows for the optimization of arbitrary differentiable loss functions.\n",
       "    In each stage a regression tree is fit on the negative gradient of the\n",
       "    given loss function.\n",
       "\n",
       "    Read more in the :ref:`User Guide <gradient_boosting>`.\n",
       "\n",
       "    Parameters\n",
       "    ----------\n",
       "    loss : {'ls', 'lad', 'huber', 'quantile'}, optional (default='ls')\n",
       "        loss function to be optimized. 'ls' refers to least squares\n",
       "        regression. 'lad' (least absolute deviation) is a highly robust\n",
       "        loss function solely based on order information of the input\n",
       "        variables. 'huber' is a combination of the two. 'quantile'\n",
       "        allows quantile regression (use `alpha` to specify the quantile).\n",
       "\n",
       "    learning_rate : float, optional (default=0.1)\n",
       "        learning rate shrinks the contribution of each tree by `learning_rate`.\n",
       "        There is a trade-off between learning_rate and n_estimators.\n",
       "\n",
       "    n_estimators : int (default=100)\n",
       "        The number of boosting stages to perform. Gradient boosting\n",
       "        is fairly robust to over-fitting so a large number usually\n",
       "        results in better performance.\n",
       "\n",
       "    subsample : float, optional (default=1.0)\n",
       "        The fraction of samples to be used for fitting the individual base\n",
       "        learners. If smaller than 1.0 this results in Stochastic Gradient\n",
       "        Boosting. `subsample` interacts with the parameter `n_estimators`.\n",
       "        Choosing `subsample < 1.0` leads to a reduction of variance\n",
       "        and an increase in bias.\n",
       "\n",
       "    criterion : string, optional (default=\"friedman_mse\")\n",
       "        The function to measure the quality of a split. Supported criteria\n",
       "        are \"friedman_mse\" for the mean squared error with improvement\n",
       "        score by Friedman, \"mse\" for mean squared error, and \"mae\" for\n",
       "        the mean absolute error. The default value of \"friedman_mse\" is\n",
       "        generally the best as it can provide a better approximation in\n",
       "        some cases.\n",
       "\n",
       "        .. versionadded:: 0.18\n",
       "\n",
       "    min_samples_split : int, float, optional (default=2)\n",
       "        The minimum number of samples required to split an internal node:\n",
       "\n",
       "        - If int, then consider `min_samples_split` as the minimum number.\n",
       "        - If float, then `min_samples_split` is a fraction and\n",
       "          `ceil(min_samples_split * n_samples)` are the minimum\n",
       "          number of samples for each split.\n",
       "\n",
       "        .. versionchanged:: 0.18\n",
       "           Added float values for fractions.\n",
       "\n",
       "    min_samples_leaf : int, float, optional (default=1)\n",
       "        The minimum number of samples required to be at a leaf node.\n",
       "        A split point at any depth will only be considered if it leaves at\n",
       "        least ``min_samples_leaf`` training samples in each of the left and\n",
       "        right branches.  This may have the effect of smoothing the model,\n",
       "        especially in regression.\n",
       "\n",
       "        - If int, then consider `min_samples_leaf` as the minimum number.\n",
       "        - If float, then `min_samples_leaf` is a fraction and\n",
       "          `ceil(min_samples_leaf * n_samples)` are the minimum\n",
       "          number of samples for each node.\n",
       "\n",
       "        .. versionchanged:: 0.18\n",
       "           Added float values for fractions.\n",
       "\n",
       "    min_weight_fraction_leaf : float, optional (default=0.)\n",
       "        The minimum weighted fraction of the sum total of weights (of all\n",
       "        the input samples) required to be at a leaf node. Samples have\n",
       "        equal weight when sample_weight is not provided.\n",
       "\n",
       "    max_depth : integer, optional (default=3)\n",
       "        maximum depth of the individual regression estimators. The maximum\n",
       "        depth limits the number of nodes in the tree. Tune this parameter\n",
       "        for best performance; the best value depends on the interaction\n",
       "        of the input variables.\n",
       "\n",
       "    min_impurity_decrease : float, optional (default=0.)\n",
       "        A node will be split if this split induces a decrease of the impurity\n",
       "        greater than or equal to this value.\n",
       "\n",
       "        The weighted impurity decrease equation is the following::\n",
       "\n",
       "            N_t / N * (impurity - N_t_R / N_t * right_impurity\n",
       "                                - N_t_L / N_t * left_impurity)\n",
       "\n",
       "        where ``N`` is the total number of samples, ``N_t`` is the number of\n",
       "        samples at the current node, ``N_t_L`` is the number of samples in the\n",
       "        left child, and ``N_t_R`` is the number of samples in the right child.\n",
       "\n",
       "        ``N``, ``N_t``, ``N_t_R`` and ``N_t_L`` all refer to the weighted sum,\n",
       "        if ``sample_weight`` is passed.\n",
       "\n",
       "        .. versionadded:: 0.19\n",
       "\n",
       "    min_impurity_split : float, (default=1e-7)\n",
       "        Threshold for early stopping in tree growth. A node will split\n",
       "        if its impurity is above the threshold, otherwise it is a leaf.\n",
       "\n",
       "        .. deprecated:: 0.19\n",
       "           ``min_impurity_split`` has been deprecated in favor of\n",
       "           ``min_impurity_decrease`` in 0.19. The default value of\n",
       "           ``min_impurity_split`` will change from 1e-7 to 0 in 0.23 and it\n",
       "           will be removed in 0.25. Use ``min_impurity_decrease`` instead.\n",
       "\n",
       "    init : estimator or 'zero', optional (default=None)\n",
       "        An estimator object that is used to compute the initial predictions.\n",
       "        ``init`` has to provide `fit` and `predict`. If 'zero', the initial\n",
       "        raw predictions are set to zero. By default a ``DummyEstimator`` is\n",
       "        used, predicting either the average target value (for loss='ls'), or\n",
       "        a quantile for the other losses.\n",
       "\n",
       "    random_state : int, RandomState instance or None, optional (default=None)\n",
       "        If int, random_state is the seed used by the random number generator;\n",
       "        If RandomState instance, random_state is the random number generator;\n",
       "        If None, the random number generator is the RandomState instance used\n",
       "        by `np.random`.\n",
       "\n",
       "    max_features : int, float, string or None, optional (default=None)\n",
       "        The number of features to consider when looking for the best split:\n",
       "\n",
       "        - If int, then consider `max_features` features at each split.\n",
       "        - If float, then `max_features` is a fraction and\n",
       "          `int(max_features * n_features)` features are considered at each\n",
       "          split.\n",
       "        - If \"auto\", then `max_features=n_features`.\n",
       "        - If \"sqrt\", then `max_features=sqrt(n_features)`.\n",
       "        - If \"log2\", then `max_features=log2(n_features)`.\n",
       "        - If None, then `max_features=n_features`.\n",
       "\n",
       "        Choosing `max_features < n_features` leads to a reduction of variance\n",
       "        and an increase in bias.\n",
       "\n",
       "        Note: the search for a split does not stop until at least one\n",
       "        valid partition of the node samples is found, even if it requires to\n",
       "        effectively inspect more than ``max_features`` features.\n",
       "\n",
       "    alpha : float (default=0.9)\n",
       "        The alpha-quantile of the huber loss function and the quantile\n",
       "        loss function. Only if ``loss='huber'`` or ``loss='quantile'``.\n",
       "\n",
       "    verbose : int, default: 0\n",
       "        Enable verbose output. If 1 then it prints progress and performance\n",
       "        once in a while (the more trees the lower the frequency). If greater\n",
       "        than 1 then it prints progress and performance for every tree.\n",
       "\n",
       "    max_leaf_nodes : int or None, optional (default=None)\n",
       "        Grow trees with ``max_leaf_nodes`` in best-first fashion.\n",
       "        Best nodes are defined as relative reduction in impurity.\n",
       "        If None then unlimited number of leaf nodes.\n",
       "\n",
       "    warm_start : bool, default: False\n",
       "        When set to ``True``, reuse the solution of the previous call to fit\n",
       "        and add more estimators to the ensemble, otherwise, just erase the\n",
       "        previous solution. See :term:`the Glossary <warm_start>`.\n",
       "\n",
       "    presort : bool or 'auto', optional (default='auto')\n",
       "        Whether to presort the data to speed up the finding of best splits in\n",
       "        fitting. Auto mode by default will use presorting on dense data and\n",
       "        default to normal sorting on sparse data. Setting presort to true on\n",
       "        sparse data will raise an error.\n",
       "\n",
       "        .. versionadded:: 0.17\n",
       "           optional parameter *presort*.\n",
       "\n",
       "    validation_fraction : float, optional, default 0.1\n",
       "        The proportion of training data to set aside as validation set for\n",
       "        early stopping. Must be between 0 and 1.\n",
       "        Only used if ``n_iter_no_change`` is set to an integer.\n",
       "\n",
       "        .. versionadded:: 0.20\n",
       "\n",
       "    n_iter_no_change : int, default None\n",
       "        ``n_iter_no_change`` is used to decide if early stopping will be used\n",
       "        to terminate training when validation score is not improving. By\n",
       "        default it is set to None to disable early stopping. If set to a\n",
       "        number, it will set aside ``validation_fraction`` size of the training\n",
       "        data as validation and terminate training when validation score is not\n",
       "        improving in all of the previous ``n_iter_no_change`` numbers of\n",
       "        iterations.\n",
       "\n",
       "        .. versionadded:: 0.20\n",
       "\n",
       "    tol : float, optional, default 1e-4\n",
       "        Tolerance for the early stopping. When the loss is not improving\n",
       "        by at least tol for ``n_iter_no_change`` iterations (if set to a\n",
       "        number), the training stops.\n",
       "\n",
       "        .. versionadded:: 0.20\n",
       "\n",
       "\n",
       "    Attributes\n",
       "    ----------\n",
       "    feature_importances_ : array, shape (n_features,)\n",
       "        The feature importances (the higher, the more important the feature).\n",
       "\n",
       "    oob_improvement_ : array, shape (n_estimators,)\n",
       "        The improvement in loss (= deviance) on the out-of-bag samples\n",
       "        relative to the previous iteration.\n",
       "        ``oob_improvement_[0]`` is the improvement in\n",
       "        loss of the first stage over the ``init`` estimator.\n",
       "\n",
       "    train_score_ : array, shape (n_estimators,)\n",
       "        The i-th score ``train_score_[i]`` is the deviance (= loss) of the\n",
       "        model at iteration ``i`` on the in-bag sample.\n",
       "        If ``subsample == 1`` this is the deviance on the training data.\n",
       "\n",
       "    loss_ : LossFunction\n",
       "        The concrete ``LossFunction`` object.\n",
       "\n",
       "    init_ : estimator\n",
       "        The estimator that provides the initial predictions.\n",
       "        Set via the ``init`` argument or ``loss.init_estimator``.\n",
       "\n",
       "    estimators_ : array of DecisionTreeRegressor, shape (n_estimators, 1)\n",
       "        The collection of fitted sub-estimators.\n",
       "\n",
       "    Notes\n",
       "    -----\n",
       "    The features are always randomly permuted at each split. Therefore,\n",
       "    the best found split may vary, even with the same training data and\n",
       "    ``max_features=n_features``, if the improvement of the criterion is\n",
       "    identical for several splits enumerated during the search of the best\n",
       "    split. To obtain a deterministic behaviour during fitting,\n",
       "    ``random_state`` has to be fixed.\n",
       "\n",
       "    See also\n",
       "    --------\n",
       "    sklearn.ensemble.HistGradientBoostingRegressor,\n",
       "    sklearn.tree.DecisionTreeRegressor, RandomForestRegressor\n",
       "\n",
       "    References\n",
       "    ----------\n",
       "    J. Friedman, Greedy Function Approximation: A Gradient Boosting\n",
       "    Machine, The Annals of Statistics, Vol. 29, No. 5, 2001.\n",
       "\n",
       "    J. Friedman, Stochastic Gradient Boosting, 1999\n",
       "\n",
       "    T. Hastie, R. Tibshirani and J. Friedman.\n",
       "    Elements of Statistical Learning Ed. 2, Springer, 2009.\n",
       "    \"\"\"\u001b[0m\u001b[1;33m\n",
       "\u001b[0m\u001b[1;33m\n",
       "\u001b[0m    \u001b[0m_SUPPORTED_LOSS\u001b[0m \u001b[1;33m=\u001b[0m \u001b[1;33m(\u001b[0m\u001b[1;34m'ls'\u001b[0m\u001b[1;33m,\u001b[0m \u001b[1;34m'lad'\u001b[0m\u001b[1;33m,\u001b[0m \u001b[1;34m'huber'\u001b[0m\u001b[1;33m,\u001b[0m \u001b[1;34m'quantile'\u001b[0m\u001b[1;33m)\u001b[0m\u001b[1;33m\n",
       "\u001b[0m\u001b[1;33m\n",
       "\u001b[0m    \u001b[1;32mdef\u001b[0m \u001b[0m__init__\u001b[0m\u001b[1;33m(\u001b[0m\u001b[0mself\u001b[0m\u001b[1;33m,\u001b[0m \u001b[0mloss\u001b[0m\u001b[1;33m=\u001b[0m\u001b[1;34m'ls'\u001b[0m\u001b[1;33m,\u001b[0m \u001b[0mlearning_rate\u001b[0m\u001b[1;33m=\u001b[0m\u001b[1;36m0.1\u001b[0m\u001b[1;33m,\u001b[0m \u001b[0mn_estimators\u001b[0m\u001b[1;33m=\u001b[0m\u001b[1;36m100\u001b[0m\u001b[1;33m,\u001b[0m\u001b[1;33m\n",
       "\u001b[0m                 \u001b[0msubsample\u001b[0m\u001b[1;33m=\u001b[0m\u001b[1;36m1.0\u001b[0m\u001b[1;33m,\u001b[0m \u001b[0mcriterion\u001b[0m\u001b[1;33m=\u001b[0m\u001b[1;34m'friedman_mse'\u001b[0m\u001b[1;33m,\u001b[0m \u001b[0mmin_samples_split\u001b[0m\u001b[1;33m=\u001b[0m\u001b[1;36m2\u001b[0m\u001b[1;33m,\u001b[0m\u001b[1;33m\n",
       "\u001b[0m                 \u001b[0mmin_samples_leaf\u001b[0m\u001b[1;33m=\u001b[0m\u001b[1;36m1\u001b[0m\u001b[1;33m,\u001b[0m \u001b[0mmin_weight_fraction_leaf\u001b[0m\u001b[1;33m=\u001b[0m\u001b[1;36m0.\u001b[0m\u001b[1;33m,\u001b[0m\u001b[1;33m\n",
       "\u001b[0m                 \u001b[0mmax_depth\u001b[0m\u001b[1;33m=\u001b[0m\u001b[1;36m3\u001b[0m\u001b[1;33m,\u001b[0m \u001b[0mmin_impurity_decrease\u001b[0m\u001b[1;33m=\u001b[0m\u001b[1;36m0.\u001b[0m\u001b[1;33m,\u001b[0m\u001b[1;33m\n",
       "\u001b[0m                 \u001b[0mmin_impurity_split\u001b[0m\u001b[1;33m=\u001b[0m\u001b[1;32mNone\u001b[0m\u001b[1;33m,\u001b[0m \u001b[0minit\u001b[0m\u001b[1;33m=\u001b[0m\u001b[1;32mNone\u001b[0m\u001b[1;33m,\u001b[0m \u001b[0mrandom_state\u001b[0m\u001b[1;33m=\u001b[0m\u001b[1;32mNone\u001b[0m\u001b[1;33m,\u001b[0m\u001b[1;33m\n",
       "\u001b[0m                 \u001b[0mmax_features\u001b[0m\u001b[1;33m=\u001b[0m\u001b[1;32mNone\u001b[0m\u001b[1;33m,\u001b[0m \u001b[0malpha\u001b[0m\u001b[1;33m=\u001b[0m\u001b[1;36m0.9\u001b[0m\u001b[1;33m,\u001b[0m \u001b[0mverbose\u001b[0m\u001b[1;33m=\u001b[0m\u001b[1;36m0\u001b[0m\u001b[1;33m,\u001b[0m \u001b[0mmax_leaf_nodes\u001b[0m\u001b[1;33m=\u001b[0m\u001b[1;32mNone\u001b[0m\u001b[1;33m,\u001b[0m\u001b[1;33m\n",
       "\u001b[0m                 \u001b[0mwarm_start\u001b[0m\u001b[1;33m=\u001b[0m\u001b[1;32mFalse\u001b[0m\u001b[1;33m,\u001b[0m \u001b[0mpresort\u001b[0m\u001b[1;33m=\u001b[0m\u001b[1;34m'auto'\u001b[0m\u001b[1;33m,\u001b[0m \u001b[0mvalidation_fraction\u001b[0m\u001b[1;33m=\u001b[0m\u001b[1;36m0.1\u001b[0m\u001b[1;33m,\u001b[0m\u001b[1;33m\n",
       "\u001b[0m                 \u001b[0mn_iter_no_change\u001b[0m\u001b[1;33m=\u001b[0m\u001b[1;32mNone\u001b[0m\u001b[1;33m,\u001b[0m \u001b[0mtol\u001b[0m\u001b[1;33m=\u001b[0m\u001b[1;36m1e-4\u001b[0m\u001b[1;33m)\u001b[0m\u001b[1;33m:\u001b[0m\u001b[1;33m\n",
       "\u001b[0m\u001b[1;33m\n",
       "\u001b[0m        \u001b[0msuper\u001b[0m\u001b[1;33m(\u001b[0m\u001b[1;33m)\u001b[0m\u001b[1;33m.\u001b[0m\u001b[0m__init__\u001b[0m\u001b[1;33m(\u001b[0m\u001b[1;33m\n",
       "\u001b[0m            \u001b[0mloss\u001b[0m\u001b[1;33m=\u001b[0m\u001b[0mloss\u001b[0m\u001b[1;33m,\u001b[0m \u001b[0mlearning_rate\u001b[0m\u001b[1;33m=\u001b[0m\u001b[0mlearning_rate\u001b[0m\u001b[1;33m,\u001b[0m \u001b[0mn_estimators\u001b[0m\u001b[1;33m=\u001b[0m\u001b[0mn_estimators\u001b[0m\u001b[1;33m,\u001b[0m\u001b[1;33m\n",
       "\u001b[0m            \u001b[0mcriterion\u001b[0m\u001b[1;33m=\u001b[0m\u001b[0mcriterion\u001b[0m\u001b[1;33m,\u001b[0m \u001b[0mmin_samples_split\u001b[0m\u001b[1;33m=\u001b[0m\u001b[0mmin_samples_split\u001b[0m\u001b[1;33m,\u001b[0m\u001b[1;33m\n",
       "\u001b[0m            \u001b[0mmin_samples_leaf\u001b[0m\u001b[1;33m=\u001b[0m\u001b[0mmin_samples_leaf\u001b[0m\u001b[1;33m,\u001b[0m\u001b[1;33m\n",
       "\u001b[0m            \u001b[0mmin_weight_fraction_leaf\u001b[0m\u001b[1;33m=\u001b[0m\u001b[0mmin_weight_fraction_leaf\u001b[0m\u001b[1;33m,\u001b[0m\u001b[1;33m\n",
       "\u001b[0m            \u001b[0mmax_depth\u001b[0m\u001b[1;33m=\u001b[0m\u001b[0mmax_depth\u001b[0m\u001b[1;33m,\u001b[0m \u001b[0minit\u001b[0m\u001b[1;33m=\u001b[0m\u001b[0minit\u001b[0m\u001b[1;33m,\u001b[0m \u001b[0msubsample\u001b[0m\u001b[1;33m=\u001b[0m\u001b[0msubsample\u001b[0m\u001b[1;33m,\u001b[0m\u001b[1;33m\n",
       "\u001b[0m            \u001b[0mmax_features\u001b[0m\u001b[1;33m=\u001b[0m\u001b[0mmax_features\u001b[0m\u001b[1;33m,\u001b[0m\u001b[1;33m\n",
       "\u001b[0m            \u001b[0mmin_impurity_decrease\u001b[0m\u001b[1;33m=\u001b[0m\u001b[0mmin_impurity_decrease\u001b[0m\u001b[1;33m,\u001b[0m\u001b[1;33m\n",
       "\u001b[0m            \u001b[0mmin_impurity_split\u001b[0m\u001b[1;33m=\u001b[0m\u001b[0mmin_impurity_split\u001b[0m\u001b[1;33m,\u001b[0m\u001b[1;33m\n",
       "\u001b[0m            \u001b[0mrandom_state\u001b[0m\u001b[1;33m=\u001b[0m\u001b[0mrandom_state\u001b[0m\u001b[1;33m,\u001b[0m \u001b[0malpha\u001b[0m\u001b[1;33m=\u001b[0m\u001b[0malpha\u001b[0m\u001b[1;33m,\u001b[0m \u001b[0mverbose\u001b[0m\u001b[1;33m=\u001b[0m\u001b[0mverbose\u001b[0m\u001b[1;33m,\u001b[0m\u001b[1;33m\n",
       "\u001b[0m            \u001b[0mmax_leaf_nodes\u001b[0m\u001b[1;33m=\u001b[0m\u001b[0mmax_leaf_nodes\u001b[0m\u001b[1;33m,\u001b[0m \u001b[0mwarm_start\u001b[0m\u001b[1;33m=\u001b[0m\u001b[0mwarm_start\u001b[0m\u001b[1;33m,\u001b[0m\u001b[1;33m\n",
       "\u001b[0m            \u001b[0mpresort\u001b[0m\u001b[1;33m=\u001b[0m\u001b[0mpresort\u001b[0m\u001b[1;33m,\u001b[0m \u001b[0mvalidation_fraction\u001b[0m\u001b[1;33m=\u001b[0m\u001b[0mvalidation_fraction\u001b[0m\u001b[1;33m,\u001b[0m\u001b[1;33m\n",
       "\u001b[0m            \u001b[0mn_iter_no_change\u001b[0m\u001b[1;33m=\u001b[0m\u001b[0mn_iter_no_change\u001b[0m\u001b[1;33m,\u001b[0m \u001b[0mtol\u001b[0m\u001b[1;33m=\u001b[0m\u001b[0mtol\u001b[0m\u001b[1;33m)\u001b[0m\u001b[1;33m\n",
       "\u001b[0m\u001b[1;33m\n",
       "\u001b[0m    \u001b[1;32mdef\u001b[0m \u001b[0mpredict\u001b[0m\u001b[1;33m(\u001b[0m\u001b[0mself\u001b[0m\u001b[1;33m,\u001b[0m \u001b[0mX\u001b[0m\u001b[1;33m)\u001b[0m\u001b[1;33m:\u001b[0m\u001b[1;33m\n",
       "\u001b[0m        \u001b[1;34m\"\"\"Predict regression target for X.\n",
       "\n",
       "        Parameters\n",
       "        ----------\n",
       "        X : {array-like, sparse matrix}, shape (n_samples, n_features)\n",
       "            The input samples. Internally, it will be converted to\n",
       "            ``dtype=np.float32`` and if a sparse matrix is provided\n",
       "            to a sparse ``csr_matrix``.\n",
       "\n",
       "        Returns\n",
       "        -------\n",
       "        y : array, shape (n_samples,)\n",
       "            The predicted values.\n",
       "        \"\"\"\u001b[0m\u001b[1;33m\n",
       "\u001b[0m        \u001b[0mX\u001b[0m \u001b[1;33m=\u001b[0m \u001b[0mcheck_array\u001b[0m\u001b[1;33m(\u001b[0m\u001b[0mX\u001b[0m\u001b[1;33m,\u001b[0m \u001b[0mdtype\u001b[0m\u001b[1;33m=\u001b[0m\u001b[0mDTYPE\u001b[0m\u001b[1;33m,\u001b[0m \u001b[0morder\u001b[0m\u001b[1;33m=\u001b[0m\u001b[1;34m\"C\"\u001b[0m\u001b[1;33m,\u001b[0m \u001b[0maccept_sparse\u001b[0m\u001b[1;33m=\u001b[0m\u001b[1;34m'csr'\u001b[0m\u001b[1;33m)\u001b[0m\u001b[1;33m\n",
       "\u001b[0m        \u001b[1;31m# In regression we can directly return the raw value from the trees.\u001b[0m\u001b[1;33m\n",
       "\u001b[0m        \u001b[1;32mreturn\u001b[0m \u001b[0mself\u001b[0m\u001b[1;33m.\u001b[0m\u001b[0m_raw_predict\u001b[0m\u001b[1;33m(\u001b[0m\u001b[0mX\u001b[0m\u001b[1;33m)\u001b[0m\u001b[1;33m.\u001b[0m\u001b[0mravel\u001b[0m\u001b[1;33m(\u001b[0m\u001b[1;33m)\u001b[0m\u001b[1;33m\n",
       "\u001b[0m\u001b[1;33m\n",
       "\u001b[0m    \u001b[1;32mdef\u001b[0m \u001b[0mstaged_predict\u001b[0m\u001b[1;33m(\u001b[0m\u001b[0mself\u001b[0m\u001b[1;33m,\u001b[0m \u001b[0mX\u001b[0m\u001b[1;33m)\u001b[0m\u001b[1;33m:\u001b[0m\u001b[1;33m\n",
       "\u001b[0m        \u001b[1;34m\"\"\"Predict regression target at each stage for X.\n",
       "\n",
       "        This method allows monitoring (i.e. determine error on testing set)\n",
       "        after each stage.\n",
       "\n",
       "        Parameters\n",
       "        ----------\n",
       "        X : {array-like, sparse matrix}, shape (n_samples, n_features)\n",
       "            The input samples. Internally, it will be converted to\n",
       "            ``dtype=np.float32`` and if a sparse matrix is provided\n",
       "            to a sparse ``csr_matrix``.\n",
       "\n",
       "        Returns\n",
       "        -------\n",
       "        y : generator of array of shape (n_samples,)\n",
       "            The predicted value of the input samples.\n",
       "        \"\"\"\u001b[0m\u001b[1;33m\n",
       "\u001b[0m        \u001b[1;32mfor\u001b[0m \u001b[0mraw_predictions\u001b[0m \u001b[1;32min\u001b[0m \u001b[0mself\u001b[0m\u001b[1;33m.\u001b[0m\u001b[0m_staged_raw_predict\u001b[0m\u001b[1;33m(\u001b[0m\u001b[0mX\u001b[0m\u001b[1;33m)\u001b[0m\u001b[1;33m:\u001b[0m\u001b[1;33m\n",
       "\u001b[0m            \u001b[1;32myield\u001b[0m \u001b[0mraw_predictions\u001b[0m\u001b[1;33m.\u001b[0m\u001b[0mravel\u001b[0m\u001b[1;33m(\u001b[0m\u001b[1;33m)\u001b[0m\u001b[1;33m\n",
       "\u001b[0m\u001b[1;33m\n",
       "\u001b[0m    \u001b[1;32mdef\u001b[0m \u001b[0mapply\u001b[0m\u001b[1;33m(\u001b[0m\u001b[0mself\u001b[0m\u001b[1;33m,\u001b[0m \u001b[0mX\u001b[0m\u001b[1;33m)\u001b[0m\u001b[1;33m:\u001b[0m\u001b[1;33m\n",
       "\u001b[0m        \u001b[1;34m\"\"\"Apply trees in the ensemble to X, return leaf indices.\n",
       "\n",
       "        .. versionadded:: 0.17\n",
       "\n",
       "        Parameters\n",
       "        ----------\n",
       "        X : {array-like, sparse matrix}, shape (n_samples, n_features)\n",
       "            The input samples. Internally, its dtype will be converted to\n",
       "            ``dtype=np.float32``. If a sparse matrix is provided, it will\n",
       "            be converted to a sparse ``csr_matrix``.\n",
       "\n",
       "        Returns\n",
       "        -------\n",
       "        X_leaves : array-like, shape (n_samples, n_estimators)\n",
       "            For each datapoint x in X and for each tree in the ensemble,\n",
       "            return the index of the leaf x ends up in each estimator.\n",
       "        \"\"\"\u001b[0m\u001b[1;33m\n",
       "\u001b[0m\u001b[1;33m\n",
       "\u001b[0m        \u001b[0mleaves\u001b[0m \u001b[1;33m=\u001b[0m \u001b[0msuper\u001b[0m\u001b[1;33m(\u001b[0m\u001b[1;33m)\u001b[0m\u001b[1;33m.\u001b[0m\u001b[0mapply\u001b[0m\u001b[1;33m(\u001b[0m\u001b[0mX\u001b[0m\u001b[1;33m)\u001b[0m\u001b[1;33m\n",
       "\u001b[0m        \u001b[0mleaves\u001b[0m \u001b[1;33m=\u001b[0m \u001b[0mleaves\u001b[0m\u001b[1;33m.\u001b[0m\u001b[0mreshape\u001b[0m\u001b[1;33m(\u001b[0m\u001b[0mX\u001b[0m\u001b[1;33m.\u001b[0m\u001b[0mshape\u001b[0m\u001b[1;33m[\u001b[0m\u001b[1;36m0\u001b[0m\u001b[1;33m]\u001b[0m\u001b[1;33m,\u001b[0m \u001b[0mself\u001b[0m\u001b[1;33m.\u001b[0m\u001b[0mestimators_\u001b[0m\u001b[1;33m.\u001b[0m\u001b[0mshape\u001b[0m\u001b[1;33m[\u001b[0m\u001b[1;36m0\u001b[0m\u001b[1;33m]\u001b[0m\u001b[1;33m)\u001b[0m\u001b[1;33m\n",
       "\u001b[0m        \u001b[1;32mreturn\u001b[0m \u001b[0mleaves\u001b[0m\u001b[1;33m\u001b[0m\u001b[1;33m\u001b[0m\u001b[0m\n",
       "\u001b[1;31mFile:\u001b[0m           c:\\users\\smouz\\anaconda3\\lib\\site-packages\\sklearn\\ensemble\\gradient_boosting.py\n",
       "\u001b[1;31mType:\u001b[0m           ABCMeta\n",
       "\u001b[1;31mSubclasses:\u001b[0m     \n"
      ]
     },
     "metadata": {},
     "output_type": "display_data"
    }
   ],
   "source": [
    "GradientBoostingRegressor??"
   ]
  },
  {
   "cell_type": "markdown",
   "metadata": {},
   "source": [
    "## GridSearch: Pipeline\n",
    "Evaluate various regressor within the pipeline with their respective hyperparameters. \n"
   ]
  },
  {
   "cell_type": "code",
   "execution_count": 86,
   "metadata": {},
   "outputs": [
    {
     "name": "stdout",
     "output_type": "stream",
     "text": [
      "Fit time: 0.3925957679748535\n"
     ]
    }
   ],
   "source": [
    "pipe_stats, search_this_pipeline = build_model(\n",
    "    linear_model.Ridge,\n",
    "    alpha=2.14,\n",
    "    model_name='pipeline')"
   ]
  },
  {
   "cell_type": "code",
   "execution_count": 87,
   "metadata": {},
   "outputs": [
    {
     "data": {
      "text/html": [
       "<div>\n",
       "<style scoped>\n",
       "    .dataframe tbody tr th:only-of-type {\n",
       "        vertical-align: middle;\n",
       "    }\n",
       "\n",
       "    .dataframe tbody tr th {\n",
       "        vertical-align: top;\n",
       "    }\n",
       "\n",
       "    .dataframe thead th {\n",
       "        text-align: right;\n",
       "    }\n",
       "</style>\n",
       "<table border=\"1\" class=\"dataframe\">\n",
       "  <thead>\n",
       "    <tr style=\"text-align: right;\">\n",
       "      <th></th>\n",
       "      <th>metric</th>\n",
       "      <th>test_set</th>\n",
       "      <th>train_set</th>\n",
       "      <th>regressor</th>\n",
       "      <th>fit_time</th>\n",
       "    </tr>\n",
       "  </thead>\n",
       "  <tbody>\n",
       "    <tr>\n",
       "      <th>0</th>\n",
       "      <td>r2_score</td>\n",
       "      <td>1.000000</td>\n",
       "      <td>0.999981</td>\n",
       "      <td>pipeline</td>\n",
       "      <td>0.743031</td>\n",
       "    </tr>\n",
       "    <tr>\n",
       "      <th>1</th>\n",
       "      <td>MAE</td>\n",
       "      <td>0.962438</td>\n",
       "      <td>3.857742</td>\n",
       "      <td>pipeline</td>\n",
       "      <td>0.743031</td>\n",
       "    </tr>\n",
       "    <tr>\n",
       "      <th>2</th>\n",
       "      <td>RMSE</td>\n",
       "      <td>8.252927</td>\n",
       "      <td>57.225129</td>\n",
       "      <td>pipeline</td>\n",
       "      <td>0.743031</td>\n",
       "    </tr>\n",
       "  </tbody>\n",
       "</table>\n",
       "</div>"
      ],
      "text/plain": [
       "     metric  test_set  train_set regressor  fit_time\n",
       "0  r2_score  1.000000   0.999981  pipeline  0.743031\n",
       "1       MAE  0.962438   3.857742  pipeline  0.743031\n",
       "2      RMSE  8.252927  57.225129  pipeline  0.743031"
      ]
     },
     "execution_count": 87,
     "metadata": {},
     "output_type": "execute_result"
    }
   ],
   "source": [
    "pipe_stats"
   ]
  },
  {
   "cell_type": "code",
   "execution_count": 79,
   "metadata": {},
   "outputs": [],
   "source": [
    "# regressor_params = {}\n",
    "\n",
    "# regressor_params['regressor'] = [linear_model.Ridge()]\n",
    "# regressor_params['regressor__alpha'] = np.logspace(0.01, 1, 50)"
   ]
  },
  {
   "cell_type": "code",
   "execution_count": 388,
   "metadata": {},
   "outputs": [],
   "source": [
    "# np.arange(0.99, 1.00, 0.001)"
   ]
  },
  {
   "cell_type": "code",
   "execution_count": 389,
   "metadata": {},
   "outputs": [],
   "source": [
    "regressor_params = [\n",
    "    {\n",
    "        'regressor': [linear_model.Ridge()],\n",
    "        'regressor__alpha': np.logspace(-1, 1, 10),\n",
    "#         'poly features__degree': [3,4]\n",
    "    },\n",
    "    {\n",
    "        'regressor': [linear_model.ElasticNet()],\n",
    "        'regressor__alpha': np.logspace(0.01, 1, 10),\n",
    "        'regressor__l1_ratio': np.arange(0.99, 1.00, 0.001),\n",
    "#         'poly features__degree': [3,4],\n",
    "    },\n",
    "#     {\n",
    "#         'regressor': [RandomForestRegressor()],\n",
    "#         'regressor__max_depth': [19,20,21],\n",
    "#         'regressor__n_estimators': np.arange(32,38),\n",
    "#     },\n",
    "#     {\n",
    "#         'regressor': [GradientBoostingRegressor()],\n",
    "#         'regressor__n_estimators': [114,115],\n",
    "#         'regressor__learning_rate': [0.18, 0.19],\n",
    "#     },\n",
    "#     {\n",
    "#         'regressor': [AdaBoostRegressor()],\n",
    "#         'regressor__n_estimators': [45,50,55],\n",
    "#     }\n",
    "]"
   ]
  },
  {
   "cell_type": "code",
   "execution_count": 390,
   "metadata": {},
   "outputs": [
    {
     "name": "stdout",
     "output_type": "stream",
     "text": [
      "Fitting 3 folds for each of 120 candidates, totalling 360 fits\n"
     ]
    },
    {
     "name": "stderr",
     "output_type": "stream",
     "text": [
      "[Parallel(n_jobs=7)]: Using backend LokyBackend with 7 concurrent workers.\n",
      "[Parallel(n_jobs=7)]: Done  36 tasks      | elapsed:   29.8s\n",
      "[Parallel(n_jobs=7)]: Done 186 tasks      | elapsed:  8.1min\n",
      "[Parallel(n_jobs=7)]: Done 360 out of 360 | elapsed: 11.9min finished\n"
     ]
    },
    {
     "name": "stdout",
     "output_type": "stream",
     "text": [
      "Search time: 713.5909996999999\n"
     ]
    }
   ],
   "source": [
    "# numerica data\n",
    "X_train, y_train, X_test, y_test = train_test_split(df_2, '2015-05-31', '2015-06-01')\n",
    "\n",
    "grid_start_time = time.perf_counter()\n",
    "regressor_search = GridSearchCV(\n",
    "    search_this_pipeline,\n",
    "    regressor_params,\n",
    "    scoring=make_scorer(mean_squared_error, greater_is_better=False),\n",
    "    cv=3,\n",
    "    n_jobs=7,\n",
    "    verbose=1,\n",
    "    iid=False\n",
    ")\n",
    "regressor_search.fit(X_train, y_train)\n",
    "print('Search time:', np.round((time.perf_counter() - grid_start_time) / 60, 4), 'minutes')"
   ]
  },
  {
   "cell_type": "code",
   "execution_count": 391,
   "metadata": {},
   "outputs": [
    {
     "name": "stdout",
     "output_type": "stream",
     "text": [
      "Best regressor:     Ridge(alpha=2.1544346900318834, copy_X=True, fit_intercept=True, max_iter=None,\n",
      "      normalize=False, random_state=None, solver='auto', tol=0.001)\n",
      "Best score (RMSE):  54.277062512640136\n"
     ]
    }
   ],
   "source": [
    "best_model = regressor_search.best_estimator_\n",
    "print('Best regressor:    ', regressor_search.best_estimator_.get_params()['regressor'])\n",
    "print('Best score (RMSE): ', np.sqrt(regressor_search.best_score_*-1))"
   ]
  },
  {
   "cell_type": "code",
   "execution_count": 393,
   "metadata": {},
   "outputs": [],
   "source": []
  }
 ],
 "metadata": {
  "kernelspec": {
   "display_name": "Python 3",
   "language": "python",
   "name": "python3"
  },
  "language_info": {
   "codemirror_mode": {
    "name": "ipython",
    "version": 3
   },
   "file_extension": ".py",
   "mimetype": "text/x-python",
   "name": "python",
   "nbconvert_exporter": "python",
   "pygments_lexer": "ipython3",
   "version": "3.7.3"
  }
 },
 "nbformat": 4,
 "nbformat_minor": 2
}
